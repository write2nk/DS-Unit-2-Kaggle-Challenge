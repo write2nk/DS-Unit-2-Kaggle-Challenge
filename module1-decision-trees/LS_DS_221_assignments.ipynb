{
  "nbformat": 4,
  "nbformat_minor": 0,
  "metadata": {
    "kernelspec": {
      "display_name": "Python 3",
      "language": "python",
      "name": "python3"
    },
    "language_info": {
      "codemirror_mode": {
        "name": "ipython",
        "version": 3
      },
      "file_extension": ".py",
      "mimetype": "text/x-python",
      "name": "python",
      "nbconvert_exporter": "python",
      "pygments_lexer": "ipython3",
      "version": "3.8.9"
    },
    "colab": {
      "name": "LS_DS_221_assignments.ipynb",
      "provenance": [],
      "include_colab_link": true
    }
  },
  "cells": [
    {
      "cell_type": "markdown",
      "metadata": {
        "id": "view-in-github",
        "colab_type": "text"
      },
      "source": [
        "<a href=\"https://colab.research.google.com/github/write2nk/DS-Unit-2-Kaggle-Challenge/blob/dependabot%2Fpip%2Furllib3-1.26.5/module1-decision-trees/LS_DS_221_assignments.ipynb\" target=\"_parent\"><img src=\"https://colab.research.google.com/assets/colab-badge.svg\" alt=\"Open In Colab\"/></a>"
      ]
    },
    {
      "cell_type": "markdown",
      "metadata": {
        "id": "edVuZU6kUxa3"
      },
      "source": [
        "Lambda School Data Science\n",
        "\n",
        "*Unit 2, Sprint 2, Module 1*\n",
        "\n",
        "---"
      ]
    },
    {
      "cell_type": "code",
      "metadata": {
        "id": "fwo4GavxUxa9"
      },
      "source": [
        "%%capture\n",
        "import sys\n",
        "\n",
        "# If you're on Colab:\n",
        "if 'google.colab' in sys.modules:\n",
        "    DATA_PATH = 'https://raw.githubusercontent.com/LambdaSchool/DS-Unit-2-Kaggle-Challenge/main/data/'\n",
        "    !pip install category_encoders==2.*\n",
        "    !pip install pandas-profiling==2.*\n",
        "    \n",
        "# If you're working locally:\n",
        "else:\n",
        "    DATA_PATH = '../data/'"
      ],
      "execution_count": 51,
      "outputs": []
    },
    {
      "cell_type": "markdown",
      "metadata": {
        "id": "CVNiUG7AUxa_"
      },
      "source": [
        "# Module Project: Decision Trees\n",
        "\n",
        "This week, the module projects will focus on creating and improving a model for the Tanazania Water Pump dataset. Your goal is to create a model to predict whether a water pump is functional, non-functional, or needs repair.\n",
        "\n",
        "Dataset source: [DrivenData.org](https://www.drivendata.org/competitions/7/pump-it-up-data-mining-the-water-table/).\n",
        "\n",
        "## Directions\n",
        "\n",
        "The tasks for this project are as follows:\n",
        "\n",
        "- **Task 1:** Sign up for a [Kaggle](https://www.kaggle.com/) account.\n",
        "- **Task 2:** Use `wrangle` function to import training and test data.\n",
        "- **Task 3:** Split training data into feature matrix `X` and target vector `y`.\n",
        "- **Task 4:** Split feature matrix `X` and target vector `y` into training and test sets.\n",
        "- **Task 5:** Establish the baseline accuracy score for your dataset.\n",
        "- **Task 6:** Build and train `model_dt`.\n",
        "- **Task 7:** Calculate the training and validation accuracy score for your model.\n",
        "- **Task 8:** Adjust model's `max_depth` to reduce overfitting.\n",
        "- **Task 9 `stretch goal`:** Create a horizontal bar chart showing the 10 most important features for your model.\n",
        "\n",
        "You should limit yourself to the following libraries for this project:\n",
        "\n",
        "- `category_encoders`\n",
        "- `matplotlib`\n",
        "- `pandas`\n",
        "- `pandas-profiling`\n",
        "- `sklearn`"
      ]
    },
    {
      "cell_type": "markdown",
      "metadata": {
        "id": "DL7jJ7jbUxbA"
      },
      "source": [
        "# Kaggle\n",
        "\n",
        "**Task 1:** [Sign up for a Kaggle account](https://www.kaggle.com/), if you don’t already have one. **We recommend that you choose a username that's based on your name, since you might include it in your resume in the future.** Go to our Kaggle InClass competition website (the URL is in Slack). Go to the **Rules** page. Accept the rules of the competition. Notice that the **Rules** page also has instructions for the Submission process. The **Data** page has feature definitions.\n",
        "\n",
        "# I. Wrangle Data"
      ]
    },
    {
      "cell_type": "markdown",
      "metadata": {
        "id": "3yEPVFjUUxbE"
      },
      "source": [
        "**Task 1:** Using the `wrangle` function above, read the `train_features.csv` and  `train_labels.csv` files into the DataFrame `df`. Next, use the same function to read the test set `test_features.csv` into the DataFrame `X_test`."
      ]
    },
    {
      "cell_type": "code",
      "metadata": {
        "id": "JXnSuKZ6UxbG",
        "colab": {
          "base_uri": "https://localhost:8080/"
        },
        "outputId": "fd8217c5-b461-4573-f253-f68a5672c530"
      },
      "source": [
        "import pandas as pd\n",
        "import numpy as np\n",
        "train = pd.merge(pd.read_csv(DATA_PATH+'waterpumps/train_features.csv', parse_dates = ['date_recorded'], na_values = [0, -2.000000e-08]), \n",
        "                 pd.read_csv(DATA_PATH+'waterpumps/train_labels.csv')).set_index('id')\n",
        "test = pd.read_csv(DATA_PATH+'waterpumps/test_features.csv')\n",
        "print(train.shape)\n",
        "print(test.shape)\n",
        "#print(test.nunique(), train.nunique())"
      ],
      "execution_count": 52,
      "outputs": [
        {
          "output_type": "stream",
          "text": [
            "(59399, 40)\n",
            "(14358, 40)\n"
          ],
          "name": "stdout"
        }
      ]
    },
    {
      "cell_type": "code",
      "metadata": {
        "id": "9aSFifaXUxbC"
      },
      "source": [
        "def wrangle(X):\n",
        "  # Drop constant columns\n",
        "  X = X.copy()\n",
        "  X.drop(columns=['recorded_by'], inplace=True)\n",
        "\n",
        "    # Drop HCCCs\n",
        "  cutoff = 100\n",
        "  drop_cols = [col for col in X.select_dtypes('object').columns\n",
        "                 if X[col].nunique() > cutoff]\n",
        "  X.drop(columns=drop_cols, inplace=True)\n",
        "\n",
        "    # Drop duplicate columns\n",
        "  dupe_cols = [col for col in X.head(15).T.duplicated().index\n",
        "                 if X.head(15).T.duplicated()[col]]\n",
        "  X.drop(columns=dupe_cols, inplace=True)   \n",
        "\n",
        "  # create year recorded features from datetime\n",
        "  X['yr_recorded'] = X['date_recorded'].dt.year\n",
        "  X.drop(columns = 'date_recorded', inplace=True)          \n",
        "\n",
        "  return X"
      ],
      "execution_count": 53,
      "outputs": []
    },
    {
      "cell_type": "code",
      "metadata": {
        "id": "B9ySYP6wXDwl",
        "colab": {
          "base_uri": "https://localhost:8080/"
        },
        "outputId": "cbb61086-4b6f-47ac-d063-acc1e31fb7b3"
      },
      "source": [
        "df = wrangle(train)\n",
        "#X_test = wrangle(test)\n",
        "print(df.shape)\n",
        "#print(X_test.shape)"
      ],
      "execution_count": 54,
      "outputs": [
        {
          "output_type": "stream",
          "text": [
            "(59399, 30)\n"
          ],
          "name": "stdout"
        }
      ]
    },
    {
      "cell_type": "code",
      "metadata": {
        "id": "vFp1ml7Aj368"
      },
      "source": [
        "#X_test.nunique()"
      ],
      "execution_count": 55,
      "outputs": []
    },
    {
      "cell_type": "markdown",
      "metadata": {
        "id": "LxfLrYH_UxbH"
      },
      "source": [
        "# II. Split Data\n",
        "\n",
        "**Task 3:** Split your DataFrame `df` into a feature matrix `X` and the target vector `y`. You want to predict `'status_group'`."
      ]
    },
    {
      "cell_type": "code",
      "metadata": {
        "id": "pgSIMAMYUxbJ"
      },
      "source": [
        "target = 'status_group'\n",
        "y = df[target]\n",
        "X = df.drop(columns = target)"
      ],
      "execution_count": 56,
      "outputs": []
    },
    {
      "cell_type": "markdown",
      "metadata": {
        "id": "PUc9e7AxUxbK"
      },
      "source": [
        "**Task 4:** Using a randomized split, divide `X` and `y` into a training set (`X_train`, `y_train`) and a validation set (`X_val`, `y_val`)."
      ]
    },
    {
      "cell_type": "code",
      "metadata": {
        "id": "s9xQq3cxUxbL"
      },
      "source": [
        "from sklearn.model_selection import train_test_split\n",
        "X_train, X_val, y_train, y_val = train_test_split(X,y, test_size = 0.2, random_state = 42)"
      ],
      "execution_count": 57,
      "outputs": []
    },
    {
      "cell_type": "markdown",
      "metadata": {
        "id": "-mIjD9F3UxbL"
      },
      "source": [
        "# III. Establish Baseline\n",
        "\n",
        "**Task 5:** Since this is a **classification** problem, you should establish a baseline accuracy score. Figure out what is the majority class in `y_train` and what percentage of your training observations it represents."
      ]
    },
    {
      "cell_type": "code",
      "metadata": {
        "id": "RfhIMhd1UxbN",
        "colab": {
          "base_uri": "https://localhost:8080/"
        },
        "outputId": "e65929d1-ca4e-4e95-e78f-0387017f0f68"
      },
      "source": [
        "from sklearn.metrics import accuracy_score\n",
        "baseline_acc = y_train.value_counts(normalize = True)\n",
        "print('Baseline Accuracy Score:', baseline_acc)"
      ],
      "execution_count": 66,
      "outputs": [
        {
          "output_type": "stream",
          "text": [
            "Baseline Accuracy Score: functional                 0.542583\n",
            "non functional             0.384352\n",
            "functional needs repair    0.073066\n",
            "Name: status_group, dtype: float64\n"
          ],
          "name": "stdout"
        }
      ]
    },
    {
      "cell_type": "code",
      "metadata": {
        "id": "zWjX9f9zdfXt",
        "colab": {
          "base_uri": "https://localhost:8080/",
          "height": 283
        },
        "outputId": "b89a5ca0-dfe9-4797-a0bf-c8c24e067530"
      },
      "source": [
        "y_train.value_counts(normalize = True).plot(kind = 'barh')"
      ],
      "execution_count": 67,
      "outputs": [
        {
          "output_type": "execute_result",
          "data": {
            "text/plain": [
              "<matplotlib.axes._subplots.AxesSubplot at 0x7f7a2133b950>"
            ]
          },
          "metadata": {
            "tags": []
          },
          "execution_count": 67
        },
        {
          "output_type": "display_data",
          "data": {
            "image/png": "[encoded data removed]",
            "text/plain": [
              "<Figure size 432x288 with 1 Axes>"
            ]
          },
          "metadata": {
            "tags": [],
            "needs_background": "light"
          }
        }
      ]
    },
    {
      "cell_type": "markdown",
      "metadata": {
        "id": "Ka0GAnkQUxbO"
      },
      "source": [
        "# IV. Build Model\n",
        "\n",
        "**Task 6:** Build a `Pipeline` named `model_dt`, and fit it to your training data. Your `Pipeline` should include:\n",
        "\n",
        "- an `OrdinalEncoder` transformer for categorical features.\n",
        "- a `SimpleImputer` transformer fot missing values.\n",
        "- a `DecisionTreeClassifier` predictor.\n",
        "\n",
        "**Note:** Don't forget to set the `random_state` parameter for your `DecisionTreeClassifier`."
      ]
    },
    {
      "cell_type": "code",
      "metadata": {
        "id": "3w5r8FyJUxbO"
      },
      "source": [
        "from sklearn.pipeline import make_pipeline\n",
        "from category_encoders import OneHotEncoder, OrdinalEncoder\n",
        "from sklearn.impute import SimpleImputer\n",
        "from sklearn.tree import DecisionTreeClassifier\n"
      ],
      "execution_count": 68,
      "outputs": []
    },
    {
      "cell_type": "code",
      "metadata": {
        "id": "DVQqvuahf8D3"
      },
      "source": [
        "model_dt = make_pipeline(\n",
        "    OrdinalEncoder(),\n",
        "    SimpleImputer(),\n",
        "    DecisionTreeClassifier()  \n",
        ")\n",
        "\n",
        "model_dt.fit(X_train, y_train);"
      ],
      "execution_count": 69,
      "outputs": []
    },
    {
      "cell_type": "markdown",
      "metadata": {
        "id": "ib0skmX6UxbP"
      },
      "source": [
        "# V. Check Metrics\n",
        "\n",
        "**Task 7:** Calculate the training and validation accuracy scores for `model_dt`."
      ]
    },
    {
      "cell_type": "code",
      "metadata": {
        "id": "33apP20iUxbQ",
        "colab": {
          "base_uri": "https://localhost:8080/"
        },
        "outputId": "b35d5f7f-0200-4c61-b288-fa50c84301cd"
      },
      "source": [
        "training_acc = model_dt.score(X_train, y_train)\n",
        "val_acc = model_dt.score(X_val, y_val)\n",
        "\n",
        "print('Training Accuracy Score:', training_acc)\n",
        "print('Validation Accuracy Score:', val_acc)"
      ],
      "execution_count": 70,
      "outputs": [
        {
          "output_type": "stream",
          "text": [
            "Training Accuracy Score: 0.9956859361518551\n",
            "Validation Accuracy Score: 0.752104377104377\n"
          ],
          "name": "stdout"
        }
      ]
    },
    {
      "cell_type": "code",
      "metadata": {
        "id": "ToaoqmORLvL0"
      },
      "source": [
        ""
      ],
      "execution_count": 62,
      "outputs": []
    },
    {
      "cell_type": "markdown",
      "metadata": {
        "id": "A6-k63mGUxbQ"
      },
      "source": [
        "# VI. Tune Model\n",
        "\n",
        "**Task 8:** Is there a large difference between your training and validation accuracy? If so, experiment with different setting for `max_depth` in your `DecisionTreeClassifier` to reduce the amount of overfitting in your model."
      ]
    },
    {
      "cell_type": "code",
      "metadata": {
        "id": "-EWrZ7sRUxbR"
      },
      "source": [
        "# Use this cell to experiment and then change \n",
        "# your model hyperparameters in Task 6\n",
        "model_dt2 = make_pipeline(\n",
        "    OrdinalEncoder(),\n",
        "    SimpleImputer(strategy = 'mean'),\n",
        "    DecisionTreeClassifier(min_samples_leaf = 20, random_state = 42)  \n",
        ")\n",
        "\n",
        "model_dt2.fit(X_train, y_train);"
      ],
      "execution_count": 85,
      "outputs": []
    },
    {
      "cell_type": "code",
      "metadata": {
        "id": "qyGPsKWFMdrj",
        "colab": {
          "base_uri": "https://localhost:8080/"
        },
        "outputId": "8f67dd27-5ae4-4bb7-c191-43fe4147d4f6"
      },
      "source": [
        "training_acc2 = model_dt2.score(X_train, y_train)\n",
        "val_acc2 = model_dt2.score(X_val, y_val)\n",
        "\n",
        "print('Training Accuracy Score:', training_acc2)\n",
        "print('Validation Accuracy Score:', val_acc2)"
      ],
      "execution_count": 86,
      "outputs": [
        {
          "output_type": "stream",
          "text": [
            "Training Accuracy Score: 0.8079715482228161\n",
            "Validation Accuracy Score: 0.7665824915824916\n"
          ],
          "name": "stdout"
        }
      ]
    },
    {
      "cell_type": "markdown",
      "metadata": {
        "id": "vB4uGT1aUxbR"
      },
      "source": [
        "# VII. Communicate Results\n",
        "\n",
        "**Task 9 `stretch goal`:** Create a horizontal barchart that shows the the 10 most important features for model_dt, sorted by value.\n",
        "\n",
        "**Note:** [`DecisionTreeClassifier.feature_importances_`](https://scikit-learn.org/stable/modules/generated/sklearn.tree.DecisionTreeClassifier.html?highlight=decisiontreecla#sklearn.tree.DecisionTreeClassifier.feature_importances_) returns values that are different from [`LogisticRegression.coef_`](https://scikit-learn.org/stable/modules/generated/sklearn.linear_model.LogisticRegression.html). All the values will be positive, and they will sum to `1`."
      ]
    },
    {
      "cell_type": "code",
      "metadata": {
        "id": "o3GIUxBuUxbS",
        "colab": {
          "base_uri": "https://localhost:8080/"
        },
        "outputId": "213b44d8-7ce1-4f38-a0ef-b154d26ee83f"
      },
      "source": [
        "#Get the feature importance of the decision tree model\n",
        "model = model_dt2.named_steps['decisiontreeclassifier']\n",
        "#feat_names = model_dt.named_steps['ordinalencoder'].get_feature_names()\n",
        "\n",
        "model.feature_importances_"
      ],
      "execution_count": 87,
      "outputs": [
        {
          "output_type": "execute_result",
          "data": {
            "text/plain": [
              "array([3.07655229e-02, 4.21778045e-02, 9.83420512e-02, 9.93074323e-02,\n",
              "       6.26006424e-05, 3.83225398e-03, 1.98017353e-02, 1.53904352e-02,\n",
              "       2.80340362e-02, 2.14650826e-02, 7.23468241e-03, 1.34487773e-02,\n",
              "       3.54813677e-03, 5.95318214e-02, 2.69952592e-02, 1.47405913e-02,\n",
              "       1.17375784e-02, 3.06607697e-03, 8.68802319e-03, 7.04639088e-03,\n",
              "       1.60158312e-03, 3.12883436e-03, 2.81997855e-01, 2.12325021e-02,\n",
              "       1.18152306e-02, 5.00375122e-03, 1.49868614e-01, 6.09567673e-03,\n",
              "       4.03966095e-03])"
            ]
          },
          "metadata": {
            "tags": []
          },
          "execution_count": 87
        }
      ]
    },
    {
      "cell_type": "code",
      "metadata": {
        "colab": {
          "base_uri": "https://localhost:8080/"
        },
        "id": "eKykZi0vuj1d",
        "outputId": "145762aa-9161-4443-8da4-fb1389a1e543"
      },
      "source": [
        "encoder = model_dt2.named_steps['ordinalencoder'] \n",
        "encoded_columns = encoder.transform(X_val).columns\n",
        "feat_importance = pd.Series(model.feature_importances_, encoded_columns)\n",
        "feat_importance"
      ],
      "execution_count": 90,
      "outputs": [
        {
          "output_type": "execute_result",
          "data": {
            "text/plain": [
              "amount_tsh               0.030766\n",
              "gps_height               0.042178\n",
              "longitude                0.098342\n",
              "latitude                 0.099307\n",
              "num_private              0.000063\n",
              "basin                    0.003832\n",
              "region                   0.019802\n",
              "region_code              0.015390\n",
              "district_code            0.028034\n",
              "population               0.021465\n",
              "public_meeting           0.007235\n",
              "scheme_management        0.013449\n",
              "permit                   0.003548\n",
              "construction_year        0.059532\n",
              "extraction_type          0.026995\n",
              "extraction_type_class    0.014741\n",
              "management               0.011738\n",
              "management_group         0.003066\n",
              "payment                  0.008688\n",
              "payment_type             0.007046\n",
              "water_quality            0.001602\n",
              "quality_group            0.003129\n",
              "quantity                 0.281998\n",
              "source                   0.021233\n",
              "source_type              0.011815\n",
              "source_class             0.005004\n",
              "waterpoint_type          0.149869\n",
              "waterpoint_type_group    0.006096\n",
              "yr_recorded              0.004040\n",
              "dtype: float64"
            ]
          },
          "metadata": {
            "tags": []
          },
          "execution_count": 90
        }
      ]
    },
    {
      "cell_type": "code",
      "metadata": {
        "colab": {
          "base_uri": "https://localhost:8080/",
          "height": 1000
        },
        "id": "c2NP9Ovs0W_i",
        "outputId": "31e739d1-c2a7-4e0b-e29d-20878511eb42"
      },
      "source": [
        "import matplotlib.pyplot as plt\n",
        "plt.figure(figsize = (10, 30))\n",
        "feat_importance.sort_values().plot.barh()"
      ],
      "execution_count": 93,
      "outputs": [
        {
          "output_type": "execute_result",
          "data": {
            "text/plain": [
              "<matplotlib.axes._subplots.AxesSubplot at 0x7f7a2145e7d0>"
            ]
          },
          "metadata": {
            "tags": []
          },
          "execution_count": 93
        },
        {
          "output_type": "display_data",
          "data": {
            "image/png": "[encoded data removed]",
            "text/plain": [
              "<Figure size 720x2160 with 1 Axes>"
            ]
          },
          "metadata": {
            "tags": [],
            "needs_background": "light"
          }
        }
      ]
    },
    {
      "cell_type": "code",
      "metadata": {
        "id": "VByjQcKHY3KG",
        "colab": {
          "base_uri": "https://localhost:8080/",
          "height": 183
        },
        "outputId": "fe08fb3c-af19-4daa-97c2-702a42ba8d8c"
      },
      "source": [
        "#Make prediction for Kaggle project submission\n",
        "y_pred = model_dt.predict(X_test)"
      ],
      "execution_count": 94,
      "outputs": [
        {
          "output_type": "error",
          "ename": "NameError",
          "evalue": "ignored",
          "traceback": [
            "\u001b[0;31m---------------------------------------------------------------------------\u001b[0m",
            "\u001b[0;31mNameError\u001b[0m                                 Traceback (most recent call last)",
            "\u001b[0;32m<ipython-input-94-a36b702b6e25>\u001b[0m in \u001b[0;36m<module>\u001b[0;34m()\u001b[0m\n\u001b[1;32m      1\u001b[0m \u001b[0;31m#Make prediction for Kaggle project submission\u001b[0m\u001b[0;34m\u001b[0m\u001b[0;34m\u001b[0m\u001b[0;34m\u001b[0m\u001b[0m\n\u001b[0;32m----> 2\u001b[0;31m \u001b[0my_pred\u001b[0m \u001b[0;34m=\u001b[0m \u001b[0mmodel_dt\u001b[0m\u001b[0;34m.\u001b[0m\u001b[0mpredict\u001b[0m\u001b[0;34m(\u001b[0m\u001b[0mX_test\u001b[0m\u001b[0;34m)\u001b[0m\u001b[0;34m\u001b[0m\u001b[0;34m\u001b[0m\u001b[0m\n\u001b[0m",
            "\u001b[0;31mNameError\u001b[0m: name 'X_test' is not defined"
          ]
        }
      ]
    },
    {
      "cell_type": "code",
      "metadata": {
        "id": "yt6NBUTmY70s"
      },
      "source": [
        "submission = pd.DataFrame(y_pred, columns = ['Status_group'], index = test.index)\n",
        "submission.head()\n"
      ],
      "execution_count": null,
      "outputs": []
    },
    {
      "cell_type": "code",
      "metadata": {
        "id": "pRWi6KQyZLlp"
      },
      "source": [
        "#download submission\n",
        "submission.to_csv('odu_nkiru_sub.csv')"
      ],
      "execution_count": null,
      "outputs": []
    },
    {
      "cell_type": "code",
      "metadata": {
        "id": "He4ZkAnstRV_"
      },
      "source": [
        "# get the number of numeric features\n",
        "numeric_features = train_features.select_dtypes(include='number').columns.tolist()"
      ],
      "execution_count": null,
      "outputs": []
    },
    {
      "cell_type": "code",
      "metadata": {
        "id": "fSIokB-itVYl"
      },
      "source": [
        "# Get a series with the cardinality of the nonnumeric features\n",
        "cardinality = train_features.select_dtypes(exclude='number').nunique()"
      ],
      "execution_count": null,
      "outputs": []
    },
    {
      "cell_type": "code",
      "metadata": {
        "id": "X9W1nrSstYCC"
      },
      "source": [
        "# Get a list of all categorical features with cardinality <= 50\n",
        "categorical_features = cardinality[cardinality <= 50].index.tolist()"
      ],
      "execution_count": null,
      "outputs": []
    },
    {
      "cell_type": "code",
      "metadata": {
        "id": "LMb8M4a2tbi-"
      },
      "source": [
        "# Combine the lists \n",
        "features = numeric_features + categorical_features\n",
        "print(features)"
      ],
      "execution_count": null,
      "outputs": []
    }
  ]
}