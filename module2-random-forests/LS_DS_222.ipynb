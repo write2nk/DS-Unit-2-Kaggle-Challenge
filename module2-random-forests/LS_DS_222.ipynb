{
  "nbformat": 4,
  "nbformat_minor": 0,
  "metadata": {
    "kernelspec": {
      "display_name": "Python 3",
      "language": "python",
      "name": "python3"
    },
    "language_info": {
      "codemirror_mode": {
        "name": "ipython",
        "version": 3
      },
      "file_extension": ".py",
      "mimetype": "text/x-python",
      "name": "python",
      "nbconvert_exporter": "python",
      "pygments_lexer": "ipython3",
      "version": "3.7.3"
    },
    "colab": {
      "name": "LS_DS_222.ipynb",
      "provenance": []
    },
    "widgets": {
      "application/vnd.jupyter.widget-state+json": {
        "ea636220a4ad4475893df33368a165c9": {
          "model_module": "@jupyter-widgets/controls",
          "model_name": "VBoxModel",
          "model_module_version": "1.5.0",
          "state": {
            "_view_name": "VBoxView",
            "_dom_classes": [
              "widget-interact"
            ],
            "_model_name": "VBoxModel",
            "_view_module": "@jupyter-widgets/controls",
            "_model_module_version": "1.5.0",
            "_view_count": null,
            "_view_module_version": "1.5.0",
            "box_style": "",
            "layout": "IPY_MODEL_10c1a0e4e7bd4a53ba6417d15be82141",
            "_model_module": "@jupyter-widgets/controls",
            "children": [
              "IPY_MODEL_0bd746d0c44f41259901d2ad9f336bab",
              "IPY_MODEL_649e5262ad77452e8c3ebf71f5f46a99",
              "IPY_MODEL_518fdd364994452287fad356ad097896"
            ]
          }
        },
        "10c1a0e4e7bd4a53ba6417d15be82141": {
          "model_module": "@jupyter-widgets/base",
          "model_name": "LayoutModel",
          "model_module_version": "1.2.0",
          "state": {
            "_view_name": "LayoutView",
            "grid_template_rows": null,
            "right": null,
            "justify_content": null,
            "_view_module": "@jupyter-widgets/base",
            "overflow": null,
            "_model_module_version": "1.2.0",
            "_view_count": null,
            "flex_flow": null,
            "width": null,
            "min_width": null,
            "border": null,
            "align_items": null,
            "bottom": null,
            "_model_module": "@jupyter-widgets/base",
            "top": null,
            "grid_column": null,
            "overflow_y": null,
            "overflow_x": null,
            "grid_auto_flow": null,
            "grid_area": null,
            "grid_template_columns": null,
            "flex": null,
            "_model_name": "LayoutModel",
            "justify_items": null,
            "grid_row": null,
            "max_height": null,
            "align_content": null,
            "visibility": null,
            "align_self": null,
            "height": null,
            "min_height": null,
            "padding": null,
            "grid_auto_rows": null,
            "grid_gap": null,
            "max_width": null,
            "order": null,
            "_view_module_version": "1.2.0",
            "grid_template_areas": null,
            "object_position": null,
            "object_fit": null,
            "grid_auto_columns": null,
            "margin": null,
            "display": null,
            "left": null
          }
        },
        "0bd746d0c44f41259901d2ad9f336bab": {
          "model_module": "@jupyter-widgets/controls",
          "model_name": "IntSliderModel",
          "model_module_version": "1.5.0",
          "state": {
            "_view_name": "IntSliderView",
            "style": "IPY_MODEL_78386e9bec3d47fa910cbc3554b85915",
            "_dom_classes": [],
            "description": "max_depth",
            "step": 1,
            "_model_name": "IntSliderModel",
            "orientation": "horizontal",
            "max": 6,
            "_view_module": "@jupyter-widgets/controls",
            "_model_module_version": "1.5.0",
            "value": 5,
            "_view_count": null,
            "disabled": false,
            "_view_module_version": "1.5.0",
            "min": 1,
            "continuous_update": true,
            "readout_format": "d",
            "description_tooltip": null,
            "readout": true,
            "_model_module": "@jupyter-widgets/controls",
            "layout": "IPY_MODEL_9de1ec45ce9c4a79a30e2a327d4bb441"
          }
        },
        "649e5262ad77452e8c3ebf71f5f46a99": {
          "model_module": "@jupyter-widgets/controls",
          "model_name": "IntSliderModel",
          "model_module_version": "1.5.0",
          "state": {
            "_view_name": "IntSliderView",
            "style": "IPY_MODEL_f70c66f9036542ba9be5f5f25f644dfd",
            "_dom_classes": [],
            "description": "n_estimators",
            "step": 10,
            "_model_name": "IntSliderModel",
            "orientation": "horizontal",
            "max": 40,
            "_view_module": "@jupyter-widgets/controls",
            "_model_module_version": "1.5.0",
            "value": 40,
            "_view_count": null,
            "disabled": false,
            "_view_module_version": "1.5.0",
            "min": 10,
            "continuous_update": true,
            "readout_format": "d",
            "description_tooltip": null,
            "readout": true,
            "_model_module": "@jupyter-widgets/controls",
            "layout": "IPY_MODEL_9d2e7ae5e8f242858cfe29cfcdab87e6"
          }
        },
        "518fdd364994452287fad356ad097896": {
          "model_module": "@jupyter-widgets/output",
          "model_name": "OutputModel",
          "model_module_version": "1.0.0",
          "state": {
            "_view_name": "OutputView",
            "msg_id": "",
            "_dom_classes": [],
            "_model_name": "OutputModel",
            "outputs": [
              {
                "output_type": "display_data",
                "metadata": {
                  "tags": [],
                  "needs_background": "light"
                },
                "image/png": "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\n",
                "text/plain": "<Figure size 432x288 with 1 Axes>"
              },
              {
                "output_type": "display_data",
                "metadata": {
                  "tags": [],
                  "needs_background": "light"
                },
                "image/png": "iVBORw0KGgoAAAANSUhEUgAAAYIAAAEWCAYAAABrDZDcAAAABHNCSVQICAgIfAhkiAAAAAlwSFlzAAALEgAACxIB0t1+/AAAADh0RVh0U29mdHdhcmUAbWF0cGxvdGxpYiB2ZXJzaW9uMy4yLjIsIGh0dHA6Ly9tYXRwbG90bGliLm9yZy+WH4yJAAAgAElEQVR4nO3df5xWdZ338dd7YBxIQBDY1hhQUqqlQnInqWjLu6zUXcFdKpW6y/JW2ztb+6m2Fbne26ONfuxWa6WVle2WmtwltZT93rZfxmBAMS6KZDGICQjBII4zXJ/945yxw3DNzBnmOtd1zVzv5+NxPTg/vtc5n+vMxflc3+855/tVRGBmZo2rqdYBmJlZbTkRmJk1OCcCM7MG50RgZtbgnAjMzBqcE4GZWYNzIrC6I+kaSf9W6zjMGoUTgeUm6X5JByV1SXpQ0uclTap1XHlJOklSpPH3vTZUOYaQdEpm/gxJpTSW/ZI2S3pdNWMycyKw4To3IiYBC4FnAe+scTxHY2pETEpfpw73zZLGVzieB9JjOgV4C/BpSU+t8D6KiHtU7d8G5kRgRyUiHgTuIEkISLpa0n3pr9oOSX/dV1bSRZJ+LOlDkvZI+o2kszPr50r6z/S93wFmZPclaYmkTZL2SvqhpD/LrLtf0jskbZR0QNJnJT1R0jfT7X1X0rShPo+kJ0laLelhSVskXZJZd42k2yT9m6R9wEWSjkv3tUPSdkn/KGlcWv6U9PP8QdIuSbeky3+UbnJDWgM4v98xjYhYAzwMLEjf05Q5trsl3Srp+Exsr5H023Tde9LjcWaF45akf5b0kKR9kn4l6RnpuuMk3SRpZxrHuyU1Zf7uP0nfuxu4Zqi/g9VIRPjlV64XcD9wZjrdCvwK+Gg6/wrgSSQ/Ls4HDgAnpOsuAnqAS4BxwN8CDwBK1/8M+AjQArwA2A/8W7ruKem2XgI0A1cCW4BjMjH9HHgiMAt4CLiLpLYyAfg+8N607ElAAOPLfLYfAZ9I37MQ2Am8KF13TRr/eennmwh8FbgeOBb4E+AXwGVp+S8D70rLTgCen9lPAKdk5s8AOtPpJmAJUAKelS67Iv18renxuR74crpuPtAFPB84BvhQGueZlYwbeBmwDpgKCPizzN/2JuB2YHJ6fO8BLs783XuBNwHjgYm1/g77NcD/7VoH4NfoeaUn3a70RB3A90iaWcqVXQ8sTacvArZk1j0hff+fAnPSk8WxmfVf4o+J4D3ArZl1TcB24IxMTK/KrF8FfDIz/ybga+n0Sel+92ZebwdmA4eAyZn3vR/4fDp9DfCjzLonAt3ZExtwIfCDdPom4AagtcxxKZcISmks3Wkcb86svxt4cWb+hPTkPh5YQZoUMsf1MQ5PBCOOG3hReoJ/DtCUWT4u3d/8zLLLgB9m/u6/q/X31q+hX24asuE6LyImk5zAnkbajJM2UaxPm2/2As/g8CaeB/smIuKRdHISSS1iT0QcyJT9bWb6Sdn5iCgB20h+/ff5fWb6YJn5/he0Z0TE1PT1oXQfD0fE/n4xZPexLTN9IkntZEfm815P8gsbklqLgF+kTVqvZ3APRMRUkmsEHyM58Wb39dXMfu4mSRZPTON+PK70uO7ut+0Rxx0R3wf+FbgOeEjSDZKmkPx9mzn87zXYcbM65URgRyUi/hP4PPAhSScCnwYuB6anJ7Vfk5xUhrIDmCbp2MyyOZnpB0hOYEDSXk3yC377iD7A4R4Ajpc0uV8M2X1ku+ndRvLLOptQpkTE0yG5fhIRl0TEk0h+IX9CmTuFBhIR3cBVwDMlnZfZ19mZ/UyNiAkRsZ3k2LX2vV/SRGB6/81WIu6I+FhE/DlJc9RTgHcAu0hqJydm9jHYcbM65URgI/EvJG33U0n+w+8EUHL74zPybCAifgu0A/8g6RhJzwfOzRS5FfhLSS+W1Ay8jeRk9tNKfYiI2JZu7/2SJkhaAFwMlH2WISJ2AN8GPixpSnpB92RJLwSQ9ApJfSfoPSTHppTO/x548iCxPAZ8mKTZB+BTwPvSZIukmZKWputuA86V9DxJx5A0BQ2YfI82bknPlrQoPf4HgEeBUkQcIvn7vE/S5DTGtw503Kx+ORHYUYuInSTtyitITl4/IznRPRP4yTA2tRxYRHK3zHvTbfbtYzPwauDjJL9AzyW5hfWxCnyErAtJriE8QHJB9b0R8d1Byr+G5AJtB8lJ8zaS9nuAZwN3SuoCVgNXRMTWdN01wBfSpplXDrDtG4E5ks4FPppu49uS9pNcOF4EEBGbSK6B3ExSO+giuVjeXeG4p5DU+PaQNP3sBj6YvudNJMlhK/Bjkus7Nw6yf6tDfXdtmNkop+Thvr3AvIj4Ta3jsdHDNQKzUUzSuZKekF5j+RDJLb331zYqG22cCMxGt6UkzVkPAPOAC8LVfBsmNw2ZmTU41wjMzBrcqOsEasaMGXHSSSfVOgwzs1Fl3bp1uyJiZrl1oy4RnHTSSbS3t9c6DDOzUUXSbwda56YhM7MG50RgZtbgnAjMzBqcE4GZWYNzIjAza3ANkwh2d3WzYdtedncN1h+XmVnjGXW3jx6N29dv56pVG2luaqKnVGLlsgUsWThr6DeamTWAMV8j2N3VzVWrNvJoT4n93b082lPiylUbXTMwM0uN+UTQuecgzU2Hf8zmpiY69xysUURmZvVlzCeC1mkT6SmVDlvWUyrROm1ijSIyM6svYz4RTJ/UwsplC5jQ3MTklvFMaG5i5bIFTJ/UUuvQzMzqQkNcLF6ycBaLT5lB556DtE6b6CRgZpbREIkAkpqBE4CZ2ZEKbRqSdJakzZK2SLq6zPoTJX1P0kZJP5TUWmQ8ZmZ2pMISgaRxwHXA2cB84EJJ8/sV+xBwU0QsAK4F3l9UPGZmVl6RNYLTgS0RsTUiHgNuJhlfNWs+8P10+gdl1puZWcGKTASzgG2Z+c50WdYG4G/S6b8GJkua3n9Dki6V1C6pfefOnYUEa2bWqGp9++jbgRdK+iXwQmA7cKh/oYi4ISLaIqJt5syyI62ZmdlRKvKuoe3A7Mx8a7rscRHxAGmNQNIkYFlE7C0wJjMz66fIRLAWmCdpLkkCuABYni0gaQbwcESUgHcCNxYVzD98fRMdD+wbstzShbNYvmhOUWGYmdWdwpqGIqIXuBy4A7gbuDUiNkm6VtKStNgZwGZJ9wBPBN5XVDx5dOzYx+3rtw9d0MxsDFFE1DqGYWlra4v29vZCtn3+9T8D4JbLnlvI9s3MakXSuohoK7eu1heLzcysxpwIzMwanBOBmVmDcyIwM2twTgRmZg2uYbqhzqtjx77H7x46Wn4WwcxGEyeCjKUL+3eFNHwdO5KH1pwIzGy0cCLIWL5ozohP4COtTZiZVZuvEQzD7q5uNmzby+6u7lqHYmZWMa4R5HT7+u1ctWojzU1N9JRKrFy2gCUVaEoyM6s11why2N3VzVWrNvJoT4n93b082lPiylUbXTMwszHBiSCHzj0HaW46/FA1NzXRuedgjSIyM6scJ4IcWqdNpKdUOmxZT6lE67SJNYrIzKxynAhymD6phZXLFjChuYnJLeOZ0NzEymULmD6ppdahmZmNmC8W57Rk4SwWnzKDzj0HaZ020UnAzMYMJ4JhmD6pxQnAzMacQpuGJJ0labOkLZKuLrN+jqQfSPqlpI2SzikyHjMzO1JhiUDSOOA64GxgPnChpPn9ir2bZAjLZ5GMafyJouIxM7PyiqwRnA5siYitEfEYcDOwtF+ZAKak08cBDxQYj5mZlVFkIpgFbMvMd6bLsq4BXi2pE1gDvKnchiRdKqldUvvOnTuLiNXMrGHV+vbRC4HPR0QrcA7wRUlHxBQRN0REW0S0zZw5s+pBmpmNZUUmgu3A7Mx8a7os62LgVoCI+BkwAZhRYExmZtZPkYlgLTBP0lxJx5BcDF7dr8zvgBcDSPozkkTgth8zsyoqLBFERC9wOXAHcDfJ3UGbJF0raUla7G3AJZI2AF8GLoqIKComMzM7UqEPlEXEGpKLwNllKzLTHcDiImMwM7PB1fpisZmZ1ZgTgZlZg3MiMDNrcE4EZmYNzonAzKzBORGYmTU4J4Iq293VzYZtez3wvZnVDQ9MU4COHfs4//qfHbF8d1c39+06QBNQAk6eceyAA90sXTiL5YvmFBuomRlOBBW3dGH/DlYTvYdK3LfrABFwKF12364DHDexmfHjDq+YdezYB+BEYGZV4URQYcsXzSl7At+wbS+v/syd7O/ufXzZpGPGs+Lcp3Pq7KmHlS1XmzAzK4qvEVRJ67SJ9JRKhy3rKZVonTaxRhGZmSWcCKpk+qQWVi5bwITmJia3jGdCcxMrly0Y8BqBmVm1uGmoipYsnMXiU2bQuecgrdMmOgmYWV1wIqiy6ZNanADMrK64acjMrME5EZiZNbhCE4GksyRtlrRF0tVl1v+zpPXp6x5Je4uMx8zMjlTYNQJJ44DrgJcAncBaSavTUckAiIi3ZMq/CXhWUfGYmVl5RdYITge2RMTWiHgMuBlYOkj5C0nGLTYzsyoqMhHMArZl5jvTZUeQdCIwF/j+AOsvldQuqX3nzp0VD9TMrJHVy8XiC4DbIuJQuZURcUNEtEVE28yZM6scmpnZ2FZkItgOzM7Mt6bLyrkANwuZmdVEkYlgLTBP0lxJx5Cc7Ff3LyTpacA0wD2tmZnVQGGJICJ6gcuBO4C7gVsjYpOkayUtyRS9ALg5IqKoWMzMbGCFdjEREWuANf2Wreg3f02RMZiZ2eCGrBFIukLSFCU+K+kuSS+tRnBmZla8PE1Dr4+IfcBLSdry/zfwT4VGZWZmVZMnESj99xzgixGxKbPMzMxGuTyJYJ2kb5MkgjskTSYZe93MzMaAPBeLLwYWAlsj4hFJxwOvKzYsMzOrljw1gucCmyNir6RXA+8G/lBsWGZmVi15EsEngUcknQq8DbgPuKnQqMzMrGryNA31RkRIWgr8a0R8VtLFRQfW6Dp27OP864/+YeulC2exfNGcCkZkZmNVnkSwX9I7SW4b/QtJTUBzsWE1tqULy3bSmlvHjn0ATgRmlkueRHA+sJzkeYIHJc0BPlhsWI1t+aI5IzqJj6QmYWaNZ8hrBBHxILAKaEkX7QK+WmRQZmZWPXm6mLgEuA24Pl00C/hakUGZmVn15Llr6I3AYmAfQETcC/xJkUGZmVn15EkE3emYwwBIGg+4y2gzszEiTyL4T0l/D0yU9BLgK8DXiw3LzMyqJU8iuBrYCfwKuIxkfIF359m4pLMkbZa0RdLVA5R5paQOSZskfSlv4GZmVhl5bh+dCNwYEZ8GkDQuXfbIYG9Ky10HvAToBNZKWh0RHZky84B3AosjYo8kX3swM6uyPDWC75Gc+PtMBL6b432nA1siYmt6jeFmYGm/MpcA10XEHoCIeCjHds3MrILyJIIJEdHVN5NOPyHH+2YB2zLznemyrKcAT5H0E0k/l3RWju02vN1d3WzYtpfdXd21DsXMxoA8TUMHJJ0WEXcBSPpz4GAF9z8POANoBX4k6ZkRsTdbSNKlwKUAc+Y0drcJt6/fzlWrNtLc1ERPqcTKZQtYMsIuKcysseWpEbwZ+Iqk/5L0Y+AW4PIc79sOzM7Mt6bLsjqB1RHRExG/Ae4hSQyHiYgbIqItItpmzpyZY9dj0+6ubq5atZFHe0rs7+7l0Z4SV67a6JqBmY3IkDWCiFgr6WnAU9NFmyOiJ8e21wLzJM0lSQAXkPRZlPU14ELgc5JmkDQVbc0bfKPp3HOQ5qYmHs0MENfc1ETnnoNMn9QyyDvNzAaWp4uJNwLHRsSvI+LXwCRJ/3eo90VEL0nN4Q7gbuDWiNgk6VpJS9JidwC7JXUAPwDeERG7j/bDjHWt0ybSUzp8lNCeUonWaRMHeIeZ2dDyNA1dkm2zT+/wuSTPxiNiTUQ8JSJOjoj3pctWRMTqdDoi4q0RMT8inhkRNx/Nh2gU0ye1sHLZAiY0NzG5ZTwTmptYuWyBawNmNiJ5LhaPk6SICHj8+YBjig3LBrJk4SwWnzKDzj0HaZ020UnAzEYsTyL4FnCLpL7eRy9Ll1mNTJ/U4gRgZhWTJxFcRXLy/9t0/jvAZwqLyMzMqirPXUMlkgHsP1l8OGZmVm1DJgJJv6FMt9MR8eRCIrKK6Nixb8RDVi5dOMvjHps1gDxNQ22Z6QnAK4DjiwnHKmFpjieNew+V6O4t0TK+ifHjjrx5rGPHPgAnArMGkKdpqP99/f8iaR2wopiQbKSWL5oz6Ak8TzcVI61NmNnokadp6LTMbBNJDSFPTcLqULabir4nlK9ctZHFp8zwnUhmDSrPCf3Dmele4H7glYVEY4VzNxVm1l+epqH/VY1ArDoq2U3F7q5uP9hmNgbk6WvoCklTlPiMpLskvbQawVnlVaqbitvXb2fxB77Pqz9zJ4s/8H1Wr+/fsayZjRZKe44YuIC0ISJOlfQy4A0k4xV/MSJOG/SNBWlra4v29vZa7HpMGerX/PnX/4yOHfuYf8KUI9b1Hipx17a9ZL86Epw2e+oRdyD5FlSz+iBpXUS0lVuX5xqB0n/PAW5KexDVYG+w+jdUNxWD3YLa3VuiCTiUWdaULs8mAt+CajY65EkE6yR9G5gLvFPSZKA0xHtslBvsFtTdXd0s/sD3OdSTueA8vokvvP70w5KLb0E1Gx3ydEN9MXA18OyIeISk59HXFRqV1TV3h202tuTta+iuzPxuwIPHNDh3h202duSpERw1SWdJ2ixpi6Sry6y/SNJOSevT1/8pMh6rrOmTWjh19lQnAbNRbsAagaS56YDyRyUdwOY64CUkg9SvlbQ6Ijr6Fb0lIi4/2v2YmdnIDFYjuA1A0veOctunA1siYmtEPAbcDCw9ym2ZmVlBBrtG0CTp74GnSHpr/5UR8ZEhtj0L2JaZ7wQWlSm3TNILgHuAt0TEtv4FJF0KXAowZ45vRTQzq6TBagQXkNwqPh6YXOZVCV8HToqIBSQjn32hXKGIuCEi2iKibebMmRXatZmZwSA1gojYDHxA0saI+OZRbHs7MDsz35ouy+4je/fRZ4CVR7EfMzMbgTx3Df1U0kcktaevD0s6Lsf71gLzJM2VdAxJDWN1toCkEzKzS4C7c0duZmYVkScR3AjsJ+l6+pXAPuBzQ70pInqBy4E7SE7wt6bdU1wraUla7O8kbZK0Afg74KLhfwQzMxuJPF1MnBwRyzLz/yBpfZ6NR8QaYE2/ZSsy0+8E3plnW2ZmVow8NYKDkp7fNyNpMXCwuJDMzKya8tQI3gDclLkusAd4bXEhWSPx4DZmtZenr6ENwKmSpqTz+wqPyhrC7eu3c9WqjTQ3NdFTKrFy2QKWDNL9tZkVI/cg9E4AdjQ6duwr2x11dnCbvvGTr7hlPV/46f0e3MasynInArPh8uA2ZqODE4EVxoPbmI0OeQavf4Kk90j6dDo/T9JfFR+ajWUe3MasfuSpEXwOWAc8N53fDnwF+EZRQVlj8OA2ZvUh7wNl50u6ECAiHvHg9VYp0ye1OAGY1VieB8oekzQRCABJJwPdhUZlZmZVk6dGcA3wLWC2pH8HFuPB683Mxow8D5R9W9I64DmAgCsiYlfhkZmZWVXkuWvoexGxOyL+IyK+ERG7RjB8pZmZ1ZnBBq+fADwBmCFpGkltAGAKyTCUZmY2BgzWNHQZ8GbgSSS3j/Ylgn3AvxYcl5mZVclgQ1V+FPiopDdFxMerGJOZmVXRkNcIIuLjkp4h6ZWSXtP3yrNxSWdJ2ixpi6SrBym3TFJIahtO8GZmNnJD3jUk6b3AGcB8ktHGzgZ+DNw0xPvGAdcBLwE6gbWSVkdER79yk4ErgDuPIn4zMxuhPA+UvRx4MfBgRLwOOBXIM3j96cCWiNgaEY8BNwNLy5T7f8AHgEfzhWxmZpWUa6jKiCgBvengNA8Bs3O8bxawLTPfSb+7jSSdBsyOiP8YbEOSLpXULql9586dOXZtZmZ55UkE7ZKmAp8muXvoLmDEfQNLagI+ArxtqLIRcUNEtEVE28yZM0e6azMzyxj0GkHaudz7I2Iv8ClJ3wKmRMTGHNvezuE1h9Z0WZ/JwDOAH6Z92P0psFrSkohoH8ZnMDOzERi0RhARQXKBuG/+/pxJAGAtME/SXEnHABcAqzPb+kNEzIiIkyLiJODngJOAmVmV5WkaukvSs4e74YjoBS4H7gDuBm6NiE2SrpW0ZLjbMzOzYuTpfXQR8CpJvwUOkDxhHBGxYKg3RsQaMjWKdNmKAcqekSMWMzOrsDyJ4GWFR2FmZjWTpxvq31YjEDMzq4081wjMzGwMcyIwM2twea4RmNVUx459nH/9yJ5hXLpwFssXzalQRGZjixOB1bWlC0c+BlLHjn0ATgRmA3AisLq2fNGcEZ/AR1qbMBvrfI3ADNjd1c2GbXvZ3dVd61DMqs41Amt4t6/fzlWrNtLc1ERPqcTKZQtYUoEmKbPRwjUCa2i7u7q5atVGHu0psb+7l0d7Sly5aqNrBtZQXCOwhjDQnUcHunvp6S0dtqynt8Rrb/wFx7Yc/t/Ddx7ZWOVEYKPe7q5uOvccpHXaRKZPajli/WB3HrWMb6LUb1kpXZ7lO49sLHMisFEtT/v+UHcerV6/nSuH2MZQdx4NlYzM6pkTgY1a2fb9R9Pf9Veu2sjiU2YM62S8ZOEsFp8yY8gT+UDNS7u7urlv1wGaSGoTJ884dsBtjIbmJSe1xuNEYKNW556DNDc1PZ4EAJqbmujcc3DYJ7Dpk1oGfc9AzUu9h0rct+sAEXAoXXbfrgMcN7GZ8eNGX/OS76BqTE4ENmq1TptIT6nfhd5SidZpEyu+r4GalzZs28urP3Mn+7t7H1826ZjxrDj36Zw6e+phZev9wbZK1bBs9Cn09lFJZ0naLGmLpKvLrH+DpF9JWi/px5LmFxmPjS3TJ7WwctkCJjQ3MbllPBOam1i5bEFVT1rVTEZF66thZfXVsGxsK6xGIGkccB3wEqATWCtpdUR0ZIp9KSI+lZZfAnwEOKuomGzsydu+X5S+ZNT/YvNo/AU9lpKaDU+RTUOnA1siYiuApJuBpcDjiSAi9mXKHwtEgfHYGDVU+37Rap2MKmUsJTUbniITwSxgW2a+k2T848NIeiPwVuAY4EXlNiTpUuBSgDlz6vdCmzWuWiejShkrSc2Gp+ZdTETEdRFxMnAV8O4BytwQEW0R0TZz5szqBmjWYKZPauHU2VOdBBpIkYlgOzA7M9+aLhvIzcB5BcZjZmZlFNk0tBaYJ2kuSQK4AFieLSBpXkTcm87+JXAvZmOYR1uzelRYIoiIXkmXA3cA44AbI2KTpGuB9ohYDVwu6UygB9gDvLaoeMxqrV5GW/vSnb/j9vWDVc7zcUIaOwp9oCwi1gBr+i1bkZm+osj9m9WTehlt7fb12+nYsY/5J0w56m2MhqekLT8/WWzWgOafMIVbLnvuUb+/3p+StuGp+V1DZpbwcJlWK64RmNUBd/ZmteQagVmNebhMqzUnArMac2dvVmtuGjKrseF29jbSZxFGeseQjT2uEZjV2HC60166cNagJ/HeQyUOdPfSe6j/SMx/NP+EKRV5psHGDtcIzOpA3s7eBnsWwRec7Wg5EZjViZH0YOrRxWwk3DRkNgb4grONhBOB2Rjg0cVsJJwIzMaAehi/2UYvXyMwGyM8upgdLScCszFkrAyZadXlpiEzswZXaCKQdJakzZK2SLq6zPq3SuqQtFHS9ySdWGQ8ZmZ2pMISgaRxwHXA2cB84EJJ8/sV+yXQFhELgNuAlUXFY2Zm5RVZIzgd2BIRWyPiMZLB6ZdmC0TEDyLikXT25yQD3JuZWRUVmQhmAdsy853psoFcDHyzwHjMzKyMurhrSNKrgTbghQOsvxS4FGDOHI+RalYPRtoLKiSd6Hnc49orskawHZidmW9Nlx1G0pnAu4AlEVF2JI6IuCEi2iKibebMmYUEa2b5DdULah4dO/Zx+/ojTglWA0XWCNYC8yTNJUkAFwDLswUkPQu4HjgrIh4qMBYzq6DBekHNa6S1CaucwmoEEdELXA7cAdwN3BoRmyRdK2lJWuyDwCTgK5LWS1pdVDxmZkdjd1c3G7btHdNDhxZ6jSAi1gBr+i1bkZk+s8j9m5mNRKOM8eAni82s4sbCr+jsGA/7u3t5tKfElas2jurPNJC6uGvIzMaOsfIrum+Mh76BfuCPYzyMtf6cnAjMrGLqbaS03V3dg/bG+qU7fzfgnUu9h0p0PdZ72LKux3q59uubGD/u8MaUatwGO9RnGQknAjOrmHr6FZ2nZnL7+u107NhX9lbY8eOaOHnGsdy36wBNQAk4ecaxRySBjh37AApNBEXXspwIzKxi6mWktOHUTOafMIVbLnvuoNsa7Jd40bfBVqOW5URgZhXTN1Lalf1+vRZRGxisWedAdy89vf0SUm+J1974C45t+eNpb6DaQFY1xngY7mepdC3LicDMKmo4I6WNpJuKO3/zMACL5h5/xLqW8U2U+i0rpcuz5p8whaUVaGIZaXcbw/0sla5lORGYWcXl+RU90hPwornHD3qRdvX67UfUTIq4eynP5+g9VKK7t0TL+KYjrjHA0X2WStZSFBEV21g1tLW1RXt7e63DMLOCVeIumSLvtMmrUhd6R/pZJK2LiLZy61wjMLO6U6mTZ63HcK7khd4iP4ufLDazujKWnujtu502q+9Cbz1xIjCzujJaTp551MvttENxIjCzujJaTp559N1OO6G5ickt45nQ3FTY7bQj4WsEZlZXqvksQjUM53baWnEiMLO6MxpOnsNR64vWQ3EiMLO6VO8nz7Gk0GsEks6StFnSFklXl1n/Akl3SeqV9PIiYzEzs/IKSwSSxgHXAWcD84ELJc3vV+x3wEXAl4qKw8zMBldk09DpwJaI2Aog6WZgKdDRVyAi7k/X9e9Kw8zMqqTIpqFZwLbMfGe6bNgkXSqpXVL7zp07KxKcmZklRsVzBBFxQ0S0RUTbzJkzax2OmdmYUmTT0HZgdma+NV02IuvWrdsl6bcj3c4gZgC7Ctx+pTjOyhstsTrOyhotccLIYj1xoBVFJoK1wDxJc0kSwAXA8pFuNCIKrRJIah+oh7564jgrb7TE6jgra7TECRypGGYAAAbASURBVMXFWljTUET0ApcDdwB3A7dGxCZJ10paAiDp2ZI6gVcA10vaVFQ8ZmZWXqEPlEXEGmBNv2UrMtNrSZqMzMysRkbFxeIqu6HWAeTkOCtvtMTqOCtrtMQJBcU66kYoMzOzynKNwMyswTkRmJk1uIZLBJJmS/qBpA5JmyRdUabMGZL+IGl9+lpRblvVIOl+Sb9K42gvs16SPpZ27LdR0mk1iPGpmWO1XtI+SW/uV6Zmx1TSjZIekvTrzLLjJX1H0r3pv9MGeO9r0zL3SnptDeL8oKT/Tv+2X5U0dYD3Dvo9qUKc10janvn7njPAewftiLIKcd6SifF+SesHeG81j2fZc1JVv6MR0VAv4ATgtHR6MnAPML9fmTOAb9Q61jSW+4EZg6w/B/gmIOA5wJ01jncc8CBwYr0cU+AFwGnArzPLVgJXp9NXAx8o877jga3pv9PS6WlVjvOlwPh0+gPl4szzPalCnNcAb8/x3bgPeDJwDLCh//+9ouPst/7DwIo6OJ5lz0nV/I42XI0gInZExF3p9H6SZxyOqg+kOrEUuCkSPwemSjqhhvG8GLgvIop8+ntYIuJHwMP9Fi8FvpBOfwE4r8xbXwZ8JyIejog9wHeAs6oZZ0R8O5JncgB+Th3cbj3A8czj8Y4oI+IxoK8jykIMFqckAa8EvlzU/vMa5JxUte9owyWCLEknAc8C7iyz+rmSNkj6pqSnVzWwwwXwbUnrJF1aZn3FOverkAsY+D9XvRxTgCdGxI50+kHgiWXK1NuxfT1J7a+cob4n1XB52oR14wDNGPV0PP8C+H1E3DvA+pocz37npKp9Rxs2EUiaBKwC3hwR+/qtvoukaeNU4OPA16odX8bzI+I0knEd3ijpBTWMZVCSjgGWAF8ps7qejulhIqlj1/V91JLeBfQC/z5AkVp/Tz4JnAwsBHaQNLvUswsZvDZQ9eM52Dmp6O9oQyYCSc0kB/zfI+L/918fEfsioiudXgM0S5pR5TD7Ytme/vsQ8FWS6nVWIZ37HaWzgbsi4vf9V9TTMU39vq8JLf33oTJl6uLYSroI+CvgVekJ4Qg5vieFiojfR8ShiCgBnx5g//VyPMcDfwPcMlCZah/PAc5JVfuONlwiSNsGPwvcHREfGaDMn6blkHQ6yXHaXb0oH4/jWEmT+6ZJLhz+ul+x1cBr0ruHngP8IVOdrLYBf2XVyzHNWA303WHxWuD2MmXuAF4qaVra1PHSdFnVSDoLuBJYEhGPDFAmz/ekUP2uS/31APt/vCPKtPZ4AcnfodrOBP47IjrLraz28RzknFS972g1rorX0wt4PkkVayOwPn2dA7wBeENa5nJgE8ldDT8HnlejWJ+cxrAhjedd6fJsrCIZEvQ+4FdAW41iPZbkxH5cZlldHFOS5LQD6CFpQ70YmA58D7gX+C5wfFq2DfhM5r2vB7akr9fVIM4tJG3Afd/VT6VlnwSsGex7UuU4v5h+/zaSnMBO6B9nOn8OyV0x99UiznT55/u+l5mytTyeA52TqvYddRcTZmYNruGahszM7HBOBGZmDc6JwMyswTkRmJk1OCcCM7MGV+hQlWajiaRrgC5gCvCjiPjuAOXOA+6JiI4qhmdWGNcIzPqJiBUDJYHUeSS9Q5qNCU4E1tAkvUvSPZJ+DDw1XfZ5SS9Pp/8p7Sd+o6QPSXoeSX9KH0z7qj9Z0iWS1qYd6q2S9ITMdj4m6aeStvZtM113Vdrf/QZJ/5QuO1nSt9KOzv5L0tOqfkCsIblpyBqWpD8n6eZgIcn/hbuAdZn100m6S3haRISkqRGxV9JqkrEVbkvL7Y2IT6fT/0jypO3H082cQPLk6NNInri9TdLZJF0ML4qIRyQdn5a9geSJ13slLQI+AbyowENgBjgRWGP7C+Crkfbhk57gs/4APAp8VtI3gG8MsJ1npAlgKjCJw/t6+VokHbF1SOrrRvhM4HN9+42Ih9OeJ58HfCXtkgmgZUSfziwnJwKzAUREb9pB3ouBl5P0l1TuF/rngfMiYkPaU+gZmXXdmWkxsCZgb0QsHEnMZkfD1wiskf0IOE/SxLS3yXOzK9Nf6cdF0m32W4BT01X7SYYU7DMZ2JF2JfyqHPv9DvC6zLWE4yPpf/43kl6RLpOkUwfbiFmlOBFYw4pkeMBbSHqZ/CZJN8lZk4FvSNoI/Bh4a7r8ZuAdkn4p6WTgPSQjSv0E+O8c+/0WyfWCdiWDp789XfUq4GJJfb1eFjaMo1mWex81M2twrhGYmTU4JwIzswbnRGBm1uCcCMzMGpwTgZlZg3MiMDNrcE4EZmYN7n8AB2Xyf6TnB0IAAAAASUVORK5CYII=\n",
                "text/plain": "<Figure size 432x288 with 1 Axes>"
              }
            ],
            "_view_module": "@jupyter-widgets/output",
            "_model_module_version": "1.0.0",
            "_view_count": null,
            "_view_module_version": "1.0.0",
            "layout": "IPY_MODEL_8b947b4f2fdf4fb78a2efd53daab2a91",
            "_model_module": "@jupyter-widgets/output"
          }
        },
        "78386e9bec3d47fa910cbc3554b85915": {
          "model_module": "@jupyter-widgets/controls",
          "model_name": "SliderStyleModel",
          "model_module_version": "1.5.0",
          "state": {
            "_view_name": "StyleView",
            "handle_color": null,
            "_model_name": "SliderStyleModel",
            "description_width": "",
            "_view_module": "@jupyter-widgets/base",
            "_model_module_version": "1.5.0",
            "_view_count": null,
            "_view_module_version": "1.2.0",
            "_model_module": "@jupyter-widgets/controls"
          }
        },
        "9de1ec45ce9c4a79a30e2a327d4bb441": {
          "model_module": "@jupyter-widgets/base",
          "model_name": "LayoutModel",
          "model_module_version": "1.2.0",
          "state": {
            "_view_name": "LayoutView",
            "grid_template_rows": null,
            "right": null,
            "justify_content": null,
            "_view_module": "@jupyter-widgets/base",
            "overflow": null,
            "_model_module_version": "1.2.0",
            "_view_count": null,
            "flex_flow": null,
            "width": null,
            "min_width": null,
            "border": null,
            "align_items": null,
            "bottom": null,
            "_model_module": "@jupyter-widgets/base",
            "top": null,
            "grid_column": null,
            "overflow_y": null,
            "overflow_x": null,
            "grid_auto_flow": null,
            "grid_area": null,
            "grid_template_columns": null,
            "flex": null,
            "_model_name": "LayoutModel",
            "justify_items": null,
            "grid_row": null,
            "max_height": null,
            "align_content": null,
            "visibility": null,
            "align_self": null,
            "height": null,
            "min_height": null,
            "padding": null,
            "grid_auto_rows": null,
            "grid_gap": null,
            "max_width": null,
            "order": null,
            "_view_module_version": "1.2.0",
            "grid_template_areas": null,
            "object_position": null,
            "object_fit": null,
            "grid_auto_columns": null,
            "margin": null,
            "display": null,
            "left": null
          }
        },
        "f70c66f9036542ba9be5f5f25f644dfd": {
          "model_module": "@jupyter-widgets/controls",
          "model_name": "SliderStyleModel",
          "model_module_version": "1.5.0",
          "state": {
            "_view_name": "StyleView",
            "handle_color": null,
            "_model_name": "SliderStyleModel",
            "description_width": "",
            "_view_module": "@jupyter-widgets/base",
            "_model_module_version": "1.5.0",
            "_view_count": null,
            "_view_module_version": "1.2.0",
            "_model_module": "@jupyter-widgets/controls"
          }
        },
        "9d2e7ae5e8f242858cfe29cfcdab87e6": {
          "model_module": "@jupyter-widgets/base",
          "model_name": "LayoutModel",
          "model_module_version": "1.2.0",
          "state": {
            "_view_name": "LayoutView",
            "grid_template_rows": null,
            "right": null,
            "justify_content": null,
            "_view_module": "@jupyter-widgets/base",
            "overflow": null,
            "_model_module_version": "1.2.0",
            "_view_count": null,
            "flex_flow": null,
            "width": null,
            "min_width": null,
            "border": null,
            "align_items": null,
            "bottom": null,
            "_model_module": "@jupyter-widgets/base",
            "top": null,
            "grid_column": null,
            "overflow_y": null,
            "overflow_x": null,
            "grid_auto_flow": null,
            "grid_area": null,
            "grid_template_columns": null,
            "flex": null,
            "_model_name": "LayoutModel",
            "justify_items": null,
            "grid_row": null,
            "max_height": null,
            "align_content": null,
            "visibility": null,
            "align_self": null,
            "height": null,
            "min_height": null,
            "padding": null,
            "grid_auto_rows": null,
            "grid_gap": null,
            "max_width": null,
            "order": null,
            "_view_module_version": "1.2.0",
            "grid_template_areas": null,
            "object_position": null,
            "object_fit": null,
            "grid_auto_columns": null,
            "margin": null,
            "display": null,
            "left": null
          }
        },
        "8b947b4f2fdf4fb78a2efd53daab2a91": {
          "model_module": "@jupyter-widgets/base",
          "model_name": "LayoutModel",
          "model_module_version": "1.2.0",
          "state": {
            "_view_name": "LayoutView",
            "grid_template_rows": null,
            "right": null,
            "justify_content": null,
            "_view_module": "@jupyter-widgets/base",
            "overflow": null,
            "_model_module_version": "1.2.0",
            "_view_count": null,
            "flex_flow": null,
            "width": null,
            "min_width": null,
            "border": null,
            "align_items": null,
            "bottom": null,
            "_model_module": "@jupyter-widgets/base",
            "top": null,
            "grid_column": null,
            "overflow_y": null,
            "overflow_x": null,
            "grid_auto_flow": null,
            "grid_area": null,
            "grid_template_columns": null,
            "flex": null,
            "_model_name": "LayoutModel",
            "justify_items": null,
            "grid_row": null,
            "max_height": null,
            "align_content": null,
            "visibility": null,
            "align_self": null,
            "height": null,
            "min_height": null,
            "padding": null,
            "grid_auto_rows": null,
            "grid_gap": null,
            "max_width": null,
            "order": null,
            "_view_module_version": "1.2.0",
            "grid_template_areas": null,
            "object_position": null,
            "object_fit": null,
            "grid_auto_columns": null,
            "margin": null,
            "display": null,
            "left": null
          }
        },
        "4e1cc86105d64d1fad26fd61db87e704": {
          "model_module": "@jupyter-widgets/controls",
          "model_name": "VBoxModel",
          "model_module_version": "1.5.0",
          "state": {
            "_view_name": "VBoxView",
            "_dom_classes": [
              "widget-interact"
            ],
            "_model_name": "VBoxModel",
            "_view_module": "@jupyter-widgets/controls",
            "_model_module_version": "1.5.0",
            "_view_count": null,
            "_view_module_version": "1.5.0",
            "box_style": "",
            "layout": "IPY_MODEL_0526b695c85f41a4922d2cae9e941fbe",
            "_model_module": "@jupyter-widgets/controls",
            "children": [
              "IPY_MODEL_16798ba2d26d4cdeb844ee0e1ac1b0d9",
              "IPY_MODEL_afc4ca60abdc45af99dbcfa6cb6f6fb0",
              "IPY_MODEL_7df454d34b2a47ceb70cdd8a86d4e848"
            ]
          }
        },
        "0526b695c85f41a4922d2cae9e941fbe": {
          "model_module": "@jupyter-widgets/base",
          "model_name": "LayoutModel",
          "model_module_version": "1.2.0",
          "state": {
            "_view_name": "LayoutView",
            "grid_template_rows": null,
            "right": null,
            "justify_content": null,
            "_view_module": "@jupyter-widgets/base",
            "overflow": null,
            "_model_module_version": "1.2.0",
            "_view_count": null,
            "flex_flow": null,
            "width": null,
            "min_width": null,
            "border": null,
            "align_items": null,
            "bottom": null,
            "_model_module": "@jupyter-widgets/base",
            "top": null,
            "grid_column": null,
            "overflow_y": null,
            "overflow_x": null,
            "grid_auto_flow": null,
            "grid_area": null,
            "grid_template_columns": null,
            "flex": null,
            "_model_name": "LayoutModel",
            "justify_items": null,
            "grid_row": null,
            "max_height": null,
            "align_content": null,
            "visibility": null,
            "align_self": null,
            "height": null,
            "min_height": null,
            "padding": null,
            "grid_auto_rows": null,
            "grid_gap": null,
            "max_width": null,
            "order": null,
            "_view_module_version": "1.2.0",
            "grid_template_areas": null,
            "object_position": null,
            "object_fit": null,
            "grid_auto_columns": null,
            "margin": null,
            "display": null,
            "left": null
          }
        },
        "16798ba2d26d4cdeb844ee0e1ac1b0d9": {
          "model_module": "@jupyter-widgets/controls",
          "model_name": "IntSliderModel",
          "model_module_version": "1.5.0",
          "state": {
            "_view_name": "IntSliderView",
            "style": "IPY_MODEL_d226cb24cda040c98fcd2df4a19f0664",
            "_dom_classes": [],
            "description": "max_depth",
            "step": 1,
            "_model_name": "IntSliderModel",
            "orientation": "horizontal",
            "max": 6,
            "_view_module": "@jupyter-widgets/controls",
            "_model_module_version": "1.5.0",
            "value": 1,
            "_view_count": null,
            "disabled": false,
            "_view_module_version": "1.5.0",
            "min": 1,
            "continuous_update": true,
            "readout_format": "d",
            "description_tooltip": null,
            "readout": true,
            "_model_module": "@jupyter-widgets/controls",
            "layout": "IPY_MODEL_8518e039f94d4fee993c7ef781acdc28"
          }
        },
        "afc4ca60abdc45af99dbcfa6cb6f6fb0": {
          "model_module": "@jupyter-widgets/controls",
          "model_name": "IntSliderModel",
          "model_module_version": "1.5.0",
          "state": {
            "_view_name": "IntSliderView",
            "style": "IPY_MODEL_ce0b688cc2c34c47809ef4485f9707aa",
            "_dom_classes": [],
            "description": "n_estimators",
            "step": 10,
            "_model_name": "IntSliderModel",
            "orientation": "horizontal",
            "max": 40,
            "_view_module": "@jupyter-widgets/controls",
            "_model_module_version": "1.5.0",
            "value": 10,
            "_view_count": null,
            "disabled": false,
            "_view_module_version": "1.5.0",
            "min": 10,
            "continuous_update": true,
            "readout_format": "d",
            "description_tooltip": null,
            "readout": true,
            "_model_module": "@jupyter-widgets/controls",
            "layout": "IPY_MODEL_79439e1220d54b29ac505f6da26f80cc"
          }
        },
        "7df454d34b2a47ceb70cdd8a86d4e848": {
          "model_module": "@jupyter-widgets/output",
          "model_name": "OutputModel",
          "model_module_version": "1.0.0",
          "state": {
            "_view_name": "OutputView",
            "msg_id": "",
            "_dom_classes": [],
            "_model_name": "OutputModel",
            "outputs": [
              {
                "output_type": "display_data",
                "metadata": {
                  "tags": [],
                  "needs_background": "light"
                },
                "image/png": "iVBORw0KGgoAAAANSUhEUgAAAVoAAAEFCAYAAACiiS9UAAAABHNCSVQICAgIfAhkiAAAAAlwSFlzAAALEgAACxIB0t1+/AAAADh0RVh0U29mdHdhcmUAbWF0cGxvdGxpYiB2ZXJzaW9uMy4yLjIsIGh0dHA6Ly9tYXRwbG90bGliLm9yZy+WH4yJAAAV2UlEQVR4nO3de5RlZXnn8e+vWxGUWwS80QSQyygQY1TAy4yy4iWNC2mjUcDxAmFshwRXJk5QnDiEkImKRokXRm1HQHQEFZeZHoMhTBSICNLNRUI3op0GpCHIVS6iQlc988feJYeyqs4p+uyuOsX302svztn7Pe9+9y7qWU89+937pKqQJHVn0VwPQJIWOgOtJHXMQCtJHTPQSlLHDLSS1DEDrSR1zEA74pJ8M8nbBmh3f5Jnbo4xdS3JQUk2dNj/p5P89573xyT5SXsOd1hI51KbR5xHu3kkuQF4KrARGAPWAmcCK6pqfA6HNrAka4Bd27dbAQ/RHA/A+6vq/UPc1wHAicCLgXFgHfCpqjo9yUHAF6tqybD2N8M4Hg/cC7ywqr7f9f60MJnRbl6vqaptaILVB4H3AJ+b2yENrqr2raqtq2pr4J+BYyfe9wbZJI/blP0keRHwLeBCYE9gB+AY4OBN6fdReiqwJbBmUzva1POi0WWgnQNVdU9VrQQOA96WZL8kT0jyN0l+3P6Z+ukkW018JsmyJFcluTfJvyZZ2q6/IMl/al/vmeTCJPckuSPJl3s+X0n2bF9vl+TMJLcnuTHJ+5IsarcdmeQ77VjuTnJ9khkDXJLd2v6PTvJjmiBJkj9Mcm3bz3lJdu35zLOSnJ/kriTXJXljT5cfBj5fVSdX1R3VuLyq3sgUkhzfnpP7kqxN8vs926Y8J2mckuS29pz+S5L92m1nJPkfSfYGrmu7+mmSiePqPZfT/twmShxJ3pPkVuD0mc6jFi4D7RyqqsuADcB/oMlw9waeS5PF7QycAL/6M/pM4Dhge+ClwA1TdPlXwD8CvwEsAT4xza4/AWwHPBN4GfBW4Kie7QfSBJgdgQ8Bn0uSAQ7pZcCzgd9Lsgz4b8DrgJ1oMuCz2uN5EnA+8CXgKcDhwP9Msk+SJwIvAs4ZYH8T/pXmHG4H/CXwxSRPb7dNd05eRXMe924/90bgzt5Oq+qHwL7t2+2r6nen2Pe0P7fW04An0/wVs3wWx6QFxEA7926h+UVcDvxpVd1VVfcB76cJQABHA6dV1flVNV5VN1fVD6bo6yGaX+hnVNUvquo7kxskWdz2+96quq+qbgA+Arylp9mNVfXZqhoDPg88neZP6H5OrKqfVdXPgf8MfKCqrq2qje3xPLfNag8Bbqiq06tqY1VdCXwNeANNQFwE/NsA+wOgqr5aVbe05+bLwI+AA/qck4eAbYBn0VyruLaqBt4nNFkxM//coKkv/0VV/bI9L3oMMtDOvZ2BxwFPBC5P8tMkPwX+gSYTBNiFJmvr591AgMuSrEnyh1O02RF4PHBjz7ob23FMuHXiRVU90L7ceoD939TzelfgYz3Hc1c7tp3bbQdObGu3/0ea7O9umuD0dAaU5K1tWWWir/3a44RpzklVfQv4JHAqcFuSFUm2HXSfrZ2Y+ecGcHtV/WKW/WqBMdDOoST70wSevwN+DuxbVdu3y3btRSdoAtge/fqrqlur6u1V9QzgHTR/ju85qdkdPJzlTfhN4OZNPByA3iksNwHv6Dme7atqq6r6brvtwknbtq6qY9rAfgnw+kF22GbInwWOBXaoqu2Ba2iC64znpKo+XlXPB/ah+fP/uFke7x3M/HObfE70GGWgnQNJtk1yCHA2zTSl79MEi1OSPKVts3OS32s/8jngqCQvT7Ko3fasKfp9Q5KJKU930/ySP2LqWFsO+Arw10m2aQPVu4AvDvkwPw28N8m+7di2S/KGdts3gL2TvCXJ49tl/yTPbre/GzgyyXFJdmg//9tJzp5iP09qj/P2tt1RNBkt7fspz0m7vwPTTN/6GfALJp2rftppeTP93CTAQLu5/d8k99FkdH8OfJSHL0K9h2au6KVJ7gX+H/Dv4FcXzY4CTgHuoZn2tCu/bn/ge0nuB1YCf1JV66do906a4LIe+A7NRanThnGAE6rq68DJwNnt8VxDOz2rrWW+iqaWeQtNqeJk4Ant9u8Cv9su65PcBawAzp1iP2tpasyXAD8Bfgu4uKfJdOdkW5ogeTdN6eROmtkOszXtz02a4A0LktQxM1pJ6piBVpJ6JDmtvZHlmmm2J8nHk6xLcnWS5/Xr00ArSY90BrB0hu0HA3u1y3LgU/06NNBKUo+quohm3vd0lgFntreGXwps33Mn4pQ6ecjFUbu93itskgZy+g1fG+T27hk9dMf6gWPOFjvt8Q4eeTv0iqpaMYvd7cwjb87Z0K6b9s5CnyYk6TGlDaqzCaybzEArafSNj23Ovd1Mc1v8hCX0ubPSGq2k0Te2cfBl060E3trOPnghcE+/BxKZ0UoaecP8kpIkZwEHATum+cqkv6B5EBNV9WmaOxRfTXNH4AM88hGjUzLQShp948MLtFV1RJ/tBfzxbPo00EoaffP8a/cMtJJG3+a9GDZrBlpJo8+MVpK6VcOZTdAZA62k0TfEi2FdMNBKGn2WDiSpY14Mk6SOmdFKUse8GCZJHfNimCR1q8oarSR1yxqtJHXM0oEkdcyMVpI6NvbQXI9gRgZaSaPP0oEkdczSgSR1zIxWkjpmoJWkbpUXwySpY9ZoJaljlg4kqWNmtJLUMTNaSeqYGa0kdWyjD/6WpG6Z0UpSx6zRSlLHzGglqWNmtJLUMTNaSeqYsw4kqWNVcz2CGRloJY0+a7SS1LF5HmgXzfUAJGmT1fjgSx9Jlia5Lsm6JMdPsf03k3w7yZVJrk7y6n59mtFKGn1jY0PpJsli4FTglcAGYFWSlVW1tqfZ+4CvVNWnkuwDnAvsNlO/BlpJo294pYMDgHVVtR4gydnAMqA30Bawbft6O+CWfp0aaCWNvlkE2iTLgeU9q1ZU1Yr29c7ATT3bNgAHTuriROAfk7wTeBLwin77NNBKGn2zuGGhDaor+jac3hHAGVX1kSQvAr6QZL+q6QdhoJU08mp8aPNobwZ26Xm/pF3X62hgKUBVXZJkS2BH4LbpOnXWgaTRNz4++DKzVcBeSXZPsgVwOLByUpsfAy8HSPJsYEvg9pk6NaOVNPqGNOugqjYmORY4D1gMnFZVa5KcBKyuqpXAfwU+m+RPaS6MHVk1861pBlpJo2+INyxU1bk0U7Z6153Q83ot8JLZ9GmglTT65vmdYQZaSaPPh8pIUsfMaCWpY8Ob3tUJA62k0TekWQddMdBKGnll6UCSOmbpQJI65pczSlLHzGglqWMbvRgmSd2ydCBJHbN0IEndcnqXJHXNjFaSOmaglaSOeQuuJHVriN8Z1gkDraTRZ6CVpI4560CSOmZGK0kdM9BKUrdqzNKBJHXLjFaSuuX0LknqmoFWkjo2v0u0BlpJo682zu9Ia6CVNPrmd5w10EoafV4Mk6SumdFKUrfMaCWpa2a0ktSt2jjXI5iZgVbSyJvn3zbOorkegCRtsvFZLH0kWZrkuiTrkhw/TZs3JlmbZE2SL/Xr04xW0sgbVkabZDFwKvBKYAOwKsnKqlrb02Yv4L3AS6rq7iRP6devGa2kkVfjgy99HACsq6r1VfUgcDawbFKbtwOnVtXdAFV1W79ODbSSRl6NZeAlyfIkq3uW5T1d7Qzc1PN+Q7uu197A3kkuTnJpkqX9xmfpQNLIm03poKpWACs2YXePA/YCDgKWABcl+a2q+ulMH5CkkVbjGVZXNwO79Lxf0q7rtQH4XlU9BFyf5Ic0gXfVdJ1aOpA08oZYo10F7JVk9yRbAIcDKye1+TuabJYkO9KUEtbP1OlAgTbJa5IYlCXNS1UZeJm5n9oIHAucB1wLfKWq1iQ5KcmhbbPzgDuTrAW+DRxXVXfO1O+gpYPDgL9N8jXgtKr6wYCfk6TODfOGhao6Fzh30roTel4X8K52GchAgbaq3pxkW+AI4IwkBZwOnFVV9w26M0nqwvjY0Gq0nRi4HFBV9wLn0Mwrezrw+8AVSd7Z0dgkaSA1noGXuTBQRptkGXAksCdwJnBAVd2W5InAWuATnY1QkvqYqwA6qEFrtK8DTqmqi3pXVtUDSY4e/rAkaXA1vx9HO3Dp4NbJQTbJyQBV9U9DH5UkzcJ8Lx0MGmhfOcW6g4c5EEl6tIY1vasrM5YOkhwD/BGwR5KrezZtA1zc5cAkaVBj83zWQb8a7ZeAbwIfAHqfy3hfVd3V2agkaRbmKlMdVL9AW1V1Q5I/nrwhyZMNtpLmg1GfdfAl4BDgcqCA3qMp4JkdjUuSBjbfZx3MGGir6pD2v7tvnuFI0uzN94x20IfK/NoUrqnWSdJcGBtfNPAyF/rNOtgSeCKwY5Lf4OHSwbb8+lPHJWlOjHTpAHgH8F+AZ9DUaScC7b3AJzsclyQNbHyUZx1U1ceAjyV5Z1X5PANJ89KoT+8CoKo+keTFwG69n6mqMzsalyQNbNRLBwAk+QKwB3AVMNauLponeUnSnBrp0kGPFwD7tE8Wl6R5Za5mEwxq0NFdAzyty4FI0qNVs1jmwqAZ7Y7A2iSXAb+cWFlVh07/EUnaPBZK6eDELgchSZtiocw6uLDrgUjSozXEL8HtxKC34L4wyaok9yd5MMlYknu7HpwkDaLIwMtcGLR08EngcOCrNDMQ3grs3dWgJGk2Ns7z0sFsvm58HbC4qsaq6nRgaXfDkqTBLZSM9oEkWwBXJfkQ8G/MIkhLUpcWRI0WeAuwGDgW+BmwC/D6rgYlSbOxIDLaqrqxfflz4C+7G44kzd58z2gHfdbB9UxxU0VV+VU2kubc2BxlqoOazbMOJmwJvAF48vCHI0mzN8+/yWbg0sGdk1b9bZLLgROGPyRJmp3xhZDRJnlez9tFNBnuoNmwJHVqvj9WcNBg+REePpaNwA005QNJmnML4mIY8A2aQDuRnxdwSNK8raqPDn9okjSY8SyA0gHwfGB/4P/QBNvXAJcBP+poXJI0sLH+TebUoIF2CfC8qroPIMmJwN9X1Zu7GpgkDWqYsw6SLAU+RnOT1v+qqg9O0+71wDnA/lW1eqY+Bw20TwUe7Hn/YLtOkubcsGYdJFkMnAq8EtgArEqysqrWTmq3DfAnwPcG6XfQQHsmcFmSr7fvXwucMeBnJalTQ5x1cACwrqrWAyQ5G1gGrJ3U7q+Ak4HjBul0oGcdVNVfA0cBd7fLUVX1gcHGLUndGs/gS5LlSVb3LMt7utoZuKnn/YZ23a+00113qaq/H3R8A8+FraorgCsGbS9Jm8tspndV1QpgxaPZT5JFwEeBI2fzOW86kDTyxoZ3MexmmqcTTljSrpuwDbAfcEE7vfVpwMokh850QcxAK2nkDfGGhVXAXkl2pwmwhwNvmthYVffQfCs4AEkuAP5sWLMOZuVDe93RRbeSNKVhBdqq2pjkWOA8muldp1XVmiQnAaurauWj6deMVtLIG+ZXhlXVucC5k9ZN+QCtqjpokD4NtJJG3kJ51oEkzVsL5RZcSZq3FsSDvyVpPrN0IEkdM9BKUscWyjcsSNK8ZY1WkjrmrANJ6tj4PC8eGGgljTwvhklSx+Z3PmuglbQAmNFKUsc2Zn7ntAZaSSNvfodZA62kBcDSgSR1zOldktSx+R1mDbSSFgBLB5LUsbF5ntMaaCWNPDNaSepYmdFKUrfMaCWpY07vkqSOze8wa6CVtABsnOeh1kAraeR5MUySOubFMEnqmBmtJHXMjFaSOjZWZrSS1Cnn0UpSx6zRSlLHrNFKUsfme+lg0VwPQJI2Vc3iXz9Jlia5Lsm6JMdPsf1dSdYmuTrJPyXZtV+fBlpJI2+sauBlJkkWA6cCBwP7AEck2WdSsyuBF1TVc4BzgA/1G5+BVtLIG6cGXvo4AFhXVeur6kHgbGBZb4Oq+nZVPdC+vRRY0q9TA62kkTc+iyXJ8iSre5blPV3tDNzU835Du246RwPf7Dc+L4ZJGnmzmd5VVSuAFZu6zyRvBl4AvKxfWwOtpJE3xFkHNwO79Lxf0q57hCSvAP4ceFlV/bJfpwZaSSOvhncL7ipgryS70wTYw4E39TZI8jvAZ4ClVXXbIJ0aaCWNvGF93XhVbUxyLHAesBg4rarWJDkJWF1VK4EPA1sDX00C8OOqOnSmfg20kkbeMG9YqKpzgXMnrTuh5/UrZtungVbSyBti6aATBlpJI2++34JroJU08nx6lyR1zAd/S1LHLB1IUscMtJLUMWcdSFLHzGglqWPOOpCkjo3V/P7WMAOtpJFnjVaSOmaNVpI6Zo1Wkjo2bulAkrplRitJHXPWgSR1zNKBJHXM0oEkdcyMVpI6ZkYrSR0bq7G5HsKMDLSSRp634EpSx7wFV5I6ZkYrSR1z1oEkdcxZB5LUMW/BlaSOWaOVpI5Zo5WkjpnRSlLHnEcrSR0zo5WkjjnrQJI65sUwSerYfC8dLJrrAUjSpqpZ/OsnydIk1yVZl+T4KbY/IcmX2+3fS7Jbvz4NtJJGXlUNvMwkyWLgVOBgYB/giCT7TGp2NHB3Ve0JnAKc3G98BlpJI2+8auCljwOAdVW1vqoeBM4Glk1qswz4fPv6HODlSTJTp53UaHc6/8IZdypJw7TxwZsHjjlJlgPLe1atqKoV7eudgZt6tm0ADpzUxa/aVNXGJPcAOwB3TLdPL4ZJekxpg+qKvg2HyNKBJD3sZmCXnvdL2nVTtknyOGA74M6ZOjXQStLDVgF7Jdk9yRbA4cDKSW1WAm9rX/8B8K3qc5XN0oEktdqa67HAecBi4LSqWpPkJGB1Va0EPgd8Ick64C6aYDyjzPeJvtq8ktxfVVsPuc9DgX2q6oNJXgv8sKrWzrKPC4A/q6rVwxybtDlYOlDnqmplVX2wfftamvmJ0mOGgVZTSuPDSa5J8i9JDmvXH5TkgiTnJPlBkv89MYcwyavbdZcn+XiSb7Trj0zyySQvBg4FPpzkqiR7tH29oG23Y5Ib2tdbJTk7ybVJvg5s1TO2VyW5JMkVSb6aZKgZuDRs1mg1ndcBzwV+G9gRWJXkonbb7wD7ArcAFwMvSbIa+Azw0qq6PslZkzusqu8mWQl8o6rOAZhhnvcxwANV9ewkzwGuaNvvCLwPeEVV/SzJe4B3AScN46ClLhhoNZ1/D5xVVWPAT5JcCOwP3AtcVlUbAJJcBewG3A+sr6rr28+fxSMnhc/WS4GPA1TV1Umubte/kKb0cHEbpLcALtmE/UidM9Dq0fhlz+sxNu3/o408XMLacoD2Ac6vqiM2YZ/SZmWNVtP5Z+CwJIuT7ESTYV42Q/vrgGf2PMnosGna3Qds0/P+BuD57es/6Fl/EfAmgCT7Ac9p119KU6rYs932pCR7D3A80pwx0Go6XweuBr4PfAt4d1XdOl3jqvo58EfAPyS5nCag3jNF07OB45JcmWQP4G+AY5JcSVMLnvApYOsk19LUXy9v93M7cCRwVltOuAR41qYcqNQ159FqaJJsXVX3t7MQTgV+VFWnzPW4pLlmRqthent7cWwNzf3fn5nj8UjzghmtJHXMjFaSOmaglaSOGWglqWMGWknqmIFWkjr2/wHsNSUtc7j+DwAAAABJRU5ErkJggg==\n",
                "text/plain": "<Figure size 432x288 with 2 Axes>"
              },
              {
                "output_type": "display_data",
                "metadata": {
                  "tags": [],
                  "needs_background": "light"
                },
                "image/png": "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\n",
                "text/plain": "<Figure size 432x288 with 2 Axes>"
              },
              {
                "output_type": "display_data",
                "metadata": {
                  "tags": [],
                  "needs_background": "light"
                },
                "image/png": "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\n",
                "text/plain": "<Figure size 432x288 with 2 Axes>"
              }
            ],
            "_view_module": "@jupyter-widgets/output",
            "_model_module_version": "1.0.0",
            "_view_count": null,
            "_view_module_version": "1.0.0",
            "layout": "IPY_MODEL_7f620f4bb4ce4afda3aa374676857544",
            "_model_module": "@jupyter-widgets/output"
          }
        },
        "d226cb24cda040c98fcd2df4a19f0664": {
          "model_module": "@jupyter-widgets/controls",
          "model_name": "SliderStyleModel",
          "model_module_version": "1.5.0",
          "state": {
            "_view_name": "StyleView",
            "handle_color": null,
            "_model_name": "SliderStyleModel",
            "description_width": "",
            "_view_module": "@jupyter-widgets/base",
            "_model_module_version": "1.5.0",
            "_view_count": null,
            "_view_module_version": "1.2.0",
            "_model_module": "@jupyter-widgets/controls"
          }
        },
        "8518e039f94d4fee993c7ef781acdc28": {
          "model_module": "@jupyter-widgets/base",
          "model_name": "LayoutModel",
          "model_module_version": "1.2.0",
          "state": {
            "_view_name": "LayoutView",
            "grid_template_rows": null,
            "right": null,
            "justify_content": null,
            "_view_module": "@jupyter-widgets/base",
            "overflow": null,
            "_model_module_version": "1.2.0",
            "_view_count": null,
            "flex_flow": null,
            "width": null,
            "min_width": null,
            "border": null,
            "align_items": null,
            "bottom": null,
            "_model_module": "@jupyter-widgets/base",
            "top": null,
            "grid_column": null,
            "overflow_y": null,
            "overflow_x": null,
            "grid_auto_flow": null,
            "grid_area": null,
            "grid_template_columns": null,
            "flex": null,
            "_model_name": "LayoutModel",
            "justify_items": null,
            "grid_row": null,
            "max_height": null,
            "align_content": null,
            "visibility": null,
            "align_self": null,
            "height": null,
            "min_height": null,
            "padding": null,
            "grid_auto_rows": null,
            "grid_gap": null,
            "max_width": null,
            "order": null,
            "_view_module_version": "1.2.0",
            "grid_template_areas": null,
            "object_position": null,
            "object_fit": null,
            "grid_auto_columns": null,
            "margin": null,
            "display": null,
            "left": null
          }
        },
        "ce0b688cc2c34c47809ef4485f9707aa": {
          "model_module": "@jupyter-widgets/controls",
          "model_name": "SliderStyleModel",
          "model_module_version": "1.5.0",
          "state": {
            "_view_name": "StyleView",
            "handle_color": null,
            "_model_name": "SliderStyleModel",
            "description_width": "",
            "_view_module": "@jupyter-widgets/base",
            "_model_module_version": "1.5.0",
            "_view_count": null,
            "_view_module_version": "1.2.0",
            "_model_module": "@jupyter-widgets/controls"
          }
        },
        "79439e1220d54b29ac505f6da26f80cc": {
          "model_module": "@jupyter-widgets/base",
          "model_name": "LayoutModel",
          "model_module_version": "1.2.0",
          "state": {
            "_view_name": "LayoutView",
            "grid_template_rows": null,
            "right": null,
            "justify_content": null,
            "_view_module": "@jupyter-widgets/base",
            "overflow": null,
            "_model_module_version": "1.2.0",
            "_view_count": null,
            "flex_flow": null,
            "width": null,
            "min_width": null,
            "border": null,
            "align_items": null,
            "bottom": null,
            "_model_module": "@jupyter-widgets/base",
            "top": null,
            "grid_column": null,
            "overflow_y": null,
            "overflow_x": null,
            "grid_auto_flow": null,
            "grid_area": null,
            "grid_template_columns": null,
            "flex": null,
            "_model_name": "LayoutModel",
            "justify_items": null,
            "grid_row": null,
            "max_height": null,
            "align_content": null,
            "visibility": null,
            "align_self": null,
            "height": null,
            "min_height": null,
            "padding": null,
            "grid_auto_rows": null,
            "grid_gap": null,
            "max_width": null,
            "order": null,
            "_view_module_version": "1.2.0",
            "grid_template_areas": null,
            "object_position": null,
            "object_fit": null,
            "grid_auto_columns": null,
            "margin": null,
            "display": null,
            "left": null
          }
        },
        "7f620f4bb4ce4afda3aa374676857544": {
          "model_module": "@jupyter-widgets/base",
          "model_name": "LayoutModel",
          "model_module_version": "1.2.0",
          "state": {
            "_view_name": "LayoutView",
            "grid_template_rows": null,
            "right": null,
            "justify_content": null,
            "_view_module": "@jupyter-widgets/base",
            "overflow": null,
            "_model_module_version": "1.2.0",
            "_view_count": null,
            "flex_flow": null,
            "width": null,
            "min_width": null,
            "border": null,
            "align_items": null,
            "bottom": null,
            "_model_module": "@jupyter-widgets/base",
            "top": null,
            "grid_column": null,
            "overflow_y": null,
            "overflow_x": null,
            "grid_auto_flow": null,
            "grid_area": null,
            "grid_template_columns": null,
            "flex": null,
            "_model_name": "LayoutModel",
            "justify_items": null,
            "grid_row": null,
            "max_height": null,
            "align_content": null,
            "visibility": null,
            "align_self": null,
            "height": null,
            "min_height": null,
            "padding": null,
            "grid_auto_rows": null,
            "grid_gap": null,
            "max_width": null,
            "order": null,
            "_view_module_version": "1.2.0",
            "grid_template_areas": null,
            "object_position": null,
            "object_fit": null,
            "grid_auto_columns": null,
            "margin": null,
            "display": null,
            "left": null
          }
        },
        "21af5f31dc1a46059aaaa17c4ed8e259": {
          "model_module": "@jupyter-widgets/controls",
          "model_name": "VBoxModel",
          "model_module_version": "1.5.0",
          "state": {
            "_view_name": "VBoxView",
            "_dom_classes": [
              "widget-interact"
            ],
            "_model_name": "VBoxModel",
            "_view_module": "@jupyter-widgets/controls",
            "_model_module_version": "1.5.0",
            "_view_count": null,
            "_view_module_version": "1.5.0",
            "box_style": "",
            "layout": "IPY_MODEL_7a92cf72283547e498d7a830d542a3db",
            "_model_module": "@jupyter-widgets/controls",
            "children": [
              "IPY_MODEL_9fb3511450294bb7934fd232137df9ac",
              "IPY_MODEL_24800eb9ad2a4e9eb0d325156c0fb49f",
              "IPY_MODEL_b4f4a083757c4a218c9069335669c15d"
            ]
          }
        },
        "7a92cf72283547e498d7a830d542a3db": {
          "model_module": "@jupyter-widgets/base",
          "model_name": "LayoutModel",
          "model_module_version": "1.2.0",
          "state": {
            "_view_name": "LayoutView",
            "grid_template_rows": null,
            "right": null,
            "justify_content": null,
            "_view_module": "@jupyter-widgets/base",
            "overflow": null,
            "_model_module_version": "1.2.0",
            "_view_count": null,
            "flex_flow": null,
            "width": null,
            "min_width": null,
            "border": null,
            "align_items": null,
            "bottom": null,
            "_model_module": "@jupyter-widgets/base",
            "top": null,
            "grid_column": null,
            "overflow_y": null,
            "overflow_x": null,
            "grid_auto_flow": null,
            "grid_area": null,
            "grid_template_columns": null,
            "flex": null,
            "_model_name": "LayoutModel",
            "justify_items": null,
            "grid_row": null,
            "max_height": null,
            "align_content": null,
            "visibility": null,
            "align_self": null,
            "height": null,
            "min_height": null,
            "padding": null,
            "grid_auto_rows": null,
            "grid_gap": null,
            "max_width": null,
            "order": null,
            "_view_module_version": "1.2.0",
            "grid_template_areas": null,
            "object_position": null,
            "object_fit": null,
            "grid_auto_columns": null,
            "margin": null,
            "display": null,
            "left": null
          }
        },
        "9fb3511450294bb7934fd232137df9ac": {
          "model_module": "@jupyter-widgets/controls",
          "model_name": "IntSliderModel",
          "model_module_version": "1.5.0",
          "state": {
            "_view_name": "IntSliderView",
            "style": "IPY_MODEL_ab0d19de519a4559a43429397f6affcc",
            "_dom_classes": [],
            "description": "max_depth",
            "step": 1,
            "_model_name": "IntSliderModel",
            "orientation": "horizontal",
            "max": 6,
            "_view_module": "@jupyter-widgets/controls",
            "_model_module_version": "1.5.0",
            "value": 1,
            "_view_count": null,
            "disabled": false,
            "_view_module_version": "1.5.0",
            "min": 1,
            "continuous_update": true,
            "readout_format": "d",
            "description_tooltip": null,
            "readout": true,
            "_model_module": "@jupyter-widgets/controls",
            "layout": "IPY_MODEL_b85c0028f2804daab7f44e41ffaa3b9d"
          }
        },
        "24800eb9ad2a4e9eb0d325156c0fb49f": {
          "model_module": "@jupyter-widgets/controls",
          "model_name": "IntSliderModel",
          "model_module_version": "1.5.0",
          "state": {
            "_view_name": "IntSliderView",
            "style": "IPY_MODEL_15ae35b582cc4af0a6157b3d93216aae",
            "_dom_classes": [],
            "description": "n_estimators",
            "step": 1,
            "_model_name": "IntSliderModel",
            "orientation": "horizontal",
            "max": 5,
            "_view_module": "@jupyter-widgets/controls",
            "_model_module_version": "1.5.0",
            "value": 2,
            "_view_count": null,
            "disabled": false,
            "_view_module_version": "1.5.0",
            "min": 2,
            "continuous_update": true,
            "readout_format": "d",
            "description_tooltip": null,
            "readout": true,
            "_model_module": "@jupyter-widgets/controls",
            "layout": "IPY_MODEL_ebf7883ff4b84169964ae3640996f027"
          }
        },
        "b4f4a083757c4a218c9069335669c15d": {
          "model_module": "@jupyter-widgets/output",
          "model_name": "OutputModel",
          "model_module_version": "1.0.0",
          "state": {
            "_view_name": "OutputView",
            "msg_id": "",
            "_dom_classes": [],
            "_model_name": "OutputModel",
            "outputs": [
              {
                "output_type": "display_data",
                "metadata": {
                  "tags": [],
                  "needs_background": "light"
                },
                "image/png": "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\n",
                "text/plain": "<Figure size 432x288 with 2 Axes>"
              },
              {
                "output_type": "display_data",
                "metadata": {
                  "tags": [],
                  "needs_background": "light"
                },
                "image/png": "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\n",
                "text/plain": "<Figure size 432x288 with 2 Axes>"
              },
              {
                "output_type": "display_data",
                "metadata": {
                  "tags": [],
                  "needs_background": "light"
                },
                "image/png": "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\n",
                "text/plain": "<Figure size 432x288 with 2 Axes>"
              }
            ],
            "_view_module": "@jupyter-widgets/output",
            "_model_module_version": "1.0.0",
            "_view_count": null,
            "_view_module_version": "1.0.0",
            "layout": "IPY_MODEL_8a61c3dcd42a4e348faaaaef73ec67d8",
            "_model_module": "@jupyter-widgets/output"
          }
        },
        "ab0d19de519a4559a43429397f6affcc": {
          "model_module": "@jupyter-widgets/controls",
          "model_name": "SliderStyleModel",
          "model_module_version": "1.5.0",
          "state": {
            "_view_name": "StyleView",
            "handle_color": null,
            "_model_name": "SliderStyleModel",
            "description_width": "",
            "_view_module": "@jupyter-widgets/base",
            "_model_module_version": "1.5.0",
            "_view_count": null,
            "_view_module_version": "1.2.0",
            "_model_module": "@jupyter-widgets/controls"
          }
        },
        "b85c0028f2804daab7f44e41ffaa3b9d": {
          "model_module": "@jupyter-widgets/base",
          "model_name": "LayoutModel",
          "model_module_version": "1.2.0",
          "state": {
            "_view_name": "LayoutView",
            "grid_template_rows": null,
            "right": null,
            "justify_content": null,
            "_view_module": "@jupyter-widgets/base",
            "overflow": null,
            "_model_module_version": "1.2.0",
            "_view_count": null,
            "flex_flow": null,
            "width": null,
            "min_width": null,
            "border": null,
            "align_items": null,
            "bottom": null,
            "_model_module": "@jupyter-widgets/base",
            "top": null,
            "grid_column": null,
            "overflow_y": null,
            "overflow_x": null,
            "grid_auto_flow": null,
            "grid_area": null,
            "grid_template_columns": null,
            "flex": null,
            "_model_name": "LayoutModel",
            "justify_items": null,
            "grid_row": null,
            "max_height": null,
            "align_content": null,
            "visibility": null,
            "align_self": null,
            "height": null,
            "min_height": null,
            "padding": null,
            "grid_auto_rows": null,
            "grid_gap": null,
            "max_width": null,
            "order": null,
            "_view_module_version": "1.2.0",
            "grid_template_areas": null,
            "object_position": null,
            "object_fit": null,
            "grid_auto_columns": null,
            "margin": null,
            "display": null,
            "left": null
          }
        },
        "15ae35b582cc4af0a6157b3d93216aae": {
          "model_module": "@jupyter-widgets/controls",
          "model_name": "SliderStyleModel",
          "model_module_version": "1.5.0",
          "state": {
            "_view_name": "StyleView",
            "handle_color": null,
            "_model_name": "SliderStyleModel",
            "description_width": "",
            "_view_module": "@jupyter-widgets/base",
            "_model_module_version": "1.5.0",
            "_view_count": null,
            "_view_module_version": "1.2.0",
            "_model_module": "@jupyter-widgets/controls"
          }
        },
        "ebf7883ff4b84169964ae3640996f027": {
          "model_module": "@jupyter-widgets/base",
          "model_name": "LayoutModel",
          "model_module_version": "1.2.0",
          "state": {
            "_view_name": "LayoutView",
            "grid_template_rows": null,
            "right": null,
            "justify_content": null,
            "_view_module": "@jupyter-widgets/base",
            "overflow": null,
            "_model_module_version": "1.2.0",
            "_view_count": null,
            "flex_flow": null,
            "width": null,
            "min_width": null,
            "border": null,
            "align_items": null,
            "bottom": null,
            "_model_module": "@jupyter-widgets/base",
            "top": null,
            "grid_column": null,
            "overflow_y": null,
            "overflow_x": null,
            "grid_auto_flow": null,
            "grid_area": null,
            "grid_template_columns": null,
            "flex": null,
            "_model_name": "LayoutModel",
            "justify_items": null,
            "grid_row": null,
            "max_height": null,
            "align_content": null,
            "visibility": null,
            "align_self": null,
            "height": null,
            "min_height": null,
            "padding": null,
            "grid_auto_rows": null,
            "grid_gap": null,
            "max_width": null,
            "order": null,
            "_view_module_version": "1.2.0",
            "grid_template_areas": null,
            "object_position": null,
            "object_fit": null,
            "grid_auto_columns": null,
            "margin": null,
            "display": null,
            "left": null
          }
        },
        "8a61c3dcd42a4e348faaaaef73ec67d8": {
          "model_module": "@jupyter-widgets/base",
          "model_name": "LayoutModel",
          "model_module_version": "1.2.0",
          "state": {
            "_view_name": "LayoutView",
            "grid_template_rows": null,
            "right": null,
            "justify_content": null,
            "_view_module": "@jupyter-widgets/base",
            "overflow": null,
            "_model_module_version": "1.2.0",
            "_view_count": null,
            "flex_flow": null,
            "width": null,
            "min_width": null,
            "border": null,
            "align_items": null,
            "bottom": null,
            "_model_module": "@jupyter-widgets/base",
            "top": null,
            "grid_column": null,
            "overflow_y": null,
            "overflow_x": null,
            "grid_auto_flow": null,
            "grid_area": null,
            "grid_template_columns": null,
            "flex": null,
            "_model_name": "LayoutModel",
            "justify_items": null,
            "grid_row": null,
            "max_height": null,
            "align_content": null,
            "visibility": null,
            "align_self": null,
            "height": null,
            "min_height": null,
            "padding": null,
            "grid_auto_rows": null,
            "grid_gap": null,
            "max_width": null,
            "order": null,
            "_view_module_version": "1.2.0",
            "grid_template_areas": null,
            "object_position": null,
            "object_fit": null,
            "grid_auto_columns": null,
            "margin": null,
            "display": null,
            "left": null
          }
        }
      }
    }
  },
  "cells": [
    {
      "cell_type": "markdown",
      "metadata": {
        "id": "UEHyIgGaaSEJ"
      },
      "source": [
        "Lambda School Data Science\n",
        "\n",
        "*Unit 2, Sprint 2, Module 2*\n",
        "\n",
        "---"
      ]
    },
    {
      "cell_type": "markdown",
      "metadata": {
        "id": "mRfPLX4WgLVJ"
      },
      "source": [
        "# Random Forests"
      ]
    },
    {
      "cell_type": "markdown",
      "metadata": {
        "id": "jRRNhkxcgLVK"
      },
      "source": [
        "- use scikit-learn for **random forests**\n",
        "- do **ordinal encoding** with high-cardinality categoricals\n",
        "- understand how categorical encodings affect trees differently compared to linear models\n",
        "- understand how tree ensembles reduce overfitting compared to a single decision tree with unlimited depth"
      ]
    },
    {
      "cell_type": "markdown",
      "metadata": {
        "id": "-3TH11e1gLVL"
      },
      "source": [
        "Today's lesson has two take-away messages:\n",
        "\n",
        "#### Try Tree Ensembles when you do machine learning with labeled, tabular data\n",
        "- \"Tree Ensembles\" means Random Forest or Gradient Boosting models. \n",
        "- [Tree Ensembles often have the best predictive accuracy](https://arxiv.org/abs/1708.05070) with labeled, tabular data.\n",
        "- Why? Because trees can fit non-linear, non-[monotonic](https://en.wikipedia.org/wiki/Monotonic_function) relationships, and [interactions](https://christophm.github.io/interpretable-ml-book/interaction.html) between features.\n",
        "- A single decision tree, grown to unlimited depth, will [overfit](http://www.r2d3.us/visual-intro-to-machine-learning-part-1/). We solve this problem by ensembling trees, with bagging (Random Forest) or boosting (Gradient Boosting).\n",
        "- Random Forest's advantage: may be less sensitive to hyperparameters. Gradient Boosting's advantage: may get better predictive accuracy.\n",
        "\n",
        "#### One-hot encoding isn’t the only way, and may not be the best way, of categorical encoding for tree ensembles.\n",
        "- For example, tree ensembles can work with arbitrary \"ordinal\" encoding! (Randomly assigning an integer to each category.) Compared to one-hot encoding, the dimensionality will be lower, and the predictive accuracy may be just as good or even better.\n"
      ]
    },
    {
      "cell_type": "markdown",
      "metadata": {
        "id": "r5PbOFEuFfGF"
      },
      "source": [
        "### Setup\n",
        "\n",
        "Run the code cell below. You can work locally (follow the [local setup instructions](https://lambdaschool.github.io/ds/unit2/local/)) or on Colab.\n",
        "\n",
        "Libraries\n",
        "\n",
        "- **category_encoders** \n",
        "- **graphviz**\n",
        "- ipywidgets\n",
        "- matplotlib\n",
        "- numpy\n",
        "- pandas\n",
        "- seaborn\n",
        "- scikit-learn"
      ]
    },
    {
      "cell_type": "code",
      "metadata": {
        "id": "FStAplyRFoEu"
      },
      "source": [
        "%%capture\n",
        "import sys\n",
        "\n",
        "# If you're on Colab:\n",
        "if 'google.colab' in sys.modules:\n",
        "    DATA_PATH = 'https://raw.githubusercontent.com/LambdaSchool/DS-Unit-2-Kaggle-Challenge/master/data/'\n",
        "    !pip install category_encoders==2.*\n",
        "\n",
        "# If you're working locally:\n",
        "else:\n",
        "    DATA_PATH = '../data/'"
      ],
      "execution_count": 2,
      "outputs": []
    },
    {
      "cell_type": "markdown",
      "metadata": {
        "id": "ZL-yK8B7gLVW"
      },
      "source": [
        "# Use scikit-learn for random forests"
      ]
    },
    {
      "cell_type": "markdown",
      "metadata": {
        "id": "q6iO_dPgBMdi"
      },
      "source": [
        "## Overview\n",
        "\n",
        "Let's fit a Random Forest!\n",
        "\n",
        "![](https://pbs.twimg.com/media/EGSvKA0UUAEzUZi?format=png)\n",
        "\n",
        "[Chris Albon, MachineLearningFlashcards.com](https://twitter.com/chrisalbon/status/1181261589887909889)"
      ]
    },
    {
      "cell_type": "markdown",
      "metadata": {
        "id": "gHFxMCPSgLVM"
      },
      "source": [
        "### Solution example\n",
        "\n",
        "First, read & wrangle the data.\n",
        "\n",
        "> Define a function to wrangle train, validate, and test sets in the same way. Clean outliers and engineer features. (For example, [what other columns have zeros and shouldn't?](https://github.com/Quartz/bad-data-guide#zeros-replace-missing-values) What other columns are duplicates, or nearly duplicates? Can you extract the year from date_recorded? Can you engineer new features, such as the number of years from waterpump construction to waterpump inspection?)"
      ]
    },
    {
      "cell_type": "code",
      "metadata": {
        "id": "YTLm-rDagLVM"
      },
      "source": [
        "import numpy as np\n",
        "import pandas as pd\n",
        "from sklearn.model_selection import train_test_split\n",
        "\n",
        "# Merge train_features.csv & train_labels.csv\n",
        "train = pd.merge(pd.read_csv(DATA_PATH+'waterpumps/train_features.csv'), \n",
        "                 pd.read_csv(DATA_PATH+'waterpumps/train_labels.csv'))\n",
        "\n",
        "# Read test_features.csv & sample_submission.csv\n",
        "test = pd.read_csv(DATA_PATH+'waterpumps/test_features.csv')\n",
        "sample_submission = pd.read_csv(DATA_PATH+'waterpumps/sample_submission.csv')\n",
        "\n",
        "# Split train into train & val\n",
        "train, val = train_test_split(train, train_size=0.80, test_size=0.20, \n",
        "                              stratify=train['status_group'], random_state=42)\n",
        "\n",
        "\n",
        "def wrangle(X):\n",
        "    \"\"\"Wrangle train, validate, and test sets in the same way\"\"\"\n",
        "    \n",
        "    # Prevent SettingWithCopyWarning\n",
        "    X = X.copy()\n",
        "    \n",
        "    # About 3% of the time, latitude has small values near zero,\n",
        "    # outside Tanzania, so we'll treat these values like zero.\n",
        "    X['latitude'] = X['latitude'].replace(-2e-08, 0)\n",
        "    \n",
        "    # When columns have zeros and shouldn't, they are like null values.\n",
        "    # So we will replace the zeros with nulls, and impute missing values later.\n",
        "    # Also create a \"missing indicator\" column, because the fact that\n",
        "    # values are missing may be a predictive signal.\n",
        "    cols_with_zeros = ['longitude', 'latitude', 'construction_year', \n",
        "                       'gps_height', 'population']\n",
        "    for col in cols_with_zeros:\n",
        "        X[col] = X[col].replace(0, np.nan)\n",
        "        X[col+'_MISSING'] = X[col].isnull()\n",
        "            \n",
        "    # Drop duplicate columns\n",
        "    duplicates = ['quantity_group', 'payment_type']\n",
        "    X = X.drop(columns=duplicates)\n",
        "    \n",
        "    # Drop recorded_by (never varies) and id (always varies, random)\n",
        "    unusable_variance = ['recorded_by', 'id']\n",
        "    X = X.drop(columns=unusable_variance)\n",
        "    \n",
        "    # Convert date_recorded to datetime\n",
        "    X['date_recorded'] = pd.to_datetime(X['date_recorded'], infer_datetime_format=True)\n",
        "    \n",
        "    # Extract components from date_recorded, then drop the original column\n",
        "    X['year_recorded'] = X['date_recorded'].dt.year\n",
        "    X['month_recorded'] = X['date_recorded'].dt.month\n",
        "    X['day_recorded'] = X['date_recorded'].dt.day\n",
        "    X = X.drop(columns='date_recorded')\n",
        "    \n",
        "    # Engineer feature: how many years from construction_year to date_recorded\n",
        "    X['years'] = X['year_recorded'] - X['construction_year']\n",
        "    X['years_MISSING'] = X['years'].isnull()\n",
        "    \n",
        "    # return the wrangled dataframe\n",
        "    return X\n",
        "\n",
        "train = wrangle(train)\n",
        "val = wrangle(val)\n",
        "test = wrangle(test)"
      ],
      "execution_count": 3,
      "outputs": []
    },
    {
      "cell_type": "code",
      "metadata": {
        "id": "m2HppBvZgLVP"
      },
      "source": [
        "# The status_group column is the target\n",
        "target = 'status_group'\n",
        "\n",
        "# Get a dataframe with all train columns except the target\n",
        "train_features = train.drop(columns=[target])\n",
        "\n",
        "# Get a list of the numeric features\n",
        "numeric_features = train_features.select_dtypes(include='number').columns.tolist()\n",
        "\n",
        "# Get a series with the cardinality of the nonnumeric features\n",
        "cardinality = train_features.select_dtypes(exclude='number').nunique()\n",
        "\n",
        "# Get a list of all categorical features with cardinality <= 50\n",
        "categorical_features = cardinality[cardinality <= 50].index.tolist()\n",
        "\n",
        "# Combine the lists \n",
        "features = numeric_features + categorical_features"
      ],
      "execution_count": 4,
      "outputs": []
    },
    {
      "cell_type": "code",
      "metadata": {
        "id": "aXmK2brXgLVR"
      },
      "source": [
        "# Arrange data into X features matrix and y target vector \n",
        "X_train = train[features]\n",
        "y_train = train[target]\n",
        "X_val = val[features]\n",
        "y_val = val[target]\n",
        "X_test = test[features]"
      ],
      "execution_count": 5,
      "outputs": []
    },
    {
      "cell_type": "markdown",
      "metadata": {
        "id": "0GEzM18uBMdr"
      },
      "source": [
        "## Follow Along\n",
        "\n",
        "[Scikit-Learn User Guide: Random Forests](https://scikit-learn.org/stable/modules/ensemble.html#random-forests) "
      ]
    },
    {
      "cell_type": "code",
      "metadata": {
        "colab": {
          "base_uri": "https://localhost:8080/"
        },
        "id": "57yyygsdgLVW",
        "outputId": "04919ee0-7bd2-4382-fad1-2806b6a037e4"
      },
      "source": [
        "# TODO\n",
        "#$%time\n",
        "\n",
        "import category_encoders as ce\n",
        "from sklearn.ensemble import RandomForestClassifier\n",
        "from sklearn.impute import SimpleImputer\n",
        "from sklearn.pipeline import make_pipeline\n",
        "\n",
        "model_rf = make_pipeline(\n",
        "    ce.OneHotEncoder(use_cat_names = True),\n",
        "    SimpleImputer(strategy = 'median'),\n",
        "    RandomForestClassifier(random_state = 0, n_jobs = -1)\n",
        ")\n",
        "\n",
        "#fit on the train, score on val\n",
        "model_rf.fit(X_train, y_train)\n",
        "print('Val accuracy', model_rf.score(X_val, y_val))"
      ],
      "execution_count": 12,
      "outputs": [
        {
          "output_type": "stream",
          "text": [
            "/usr/local/lib/python3.7/dist-packages/category_encoders/utils.py:21: FutureWarning: is_categorical is deprecated and will be removed in a future version.  Use is_categorical_dtype instead\n",
            "  elif pd.api.types.is_categorical(cols):\n"
          ],
          "name": "stderr"
        },
        {
          "output_type": "stream",
          "text": [
            "Val accuracy 0.8088383838383838\n"
          ],
          "name": "stdout"
        }
      ]
    },
    {
      "cell_type": "code",
      "metadata": {
        "id": "Z4IDMPKydtKq",
        "outputId": "1dab7d78-37a2-4408-8320-4849a825bded",
        "colab": {
          "base_uri": "https://localhost:8080/"
        }
      },
      "source": [
        "print('X_train shape before encoding:', X_train.shape)\n",
        "encoder = model_rf.named_steps['onehotencoder']\n",
        "X_encoded = encoder.transform(X_train)\n",
        "print('X_train shape after encoding:', X_encoded.shape)"
      ],
      "execution_count": 14,
      "outputs": [
        {
          "output_type": "stream",
          "text": [
            "X_train shape before encoding: (47520, 38)\n",
            "X_train shape before encoding: (47520, 182)\n"
          ],
          "name": "stdout"
        }
      ]
    },
    {
      "cell_type": "code",
      "metadata": {
        "id": "ko6ZetUaePvV",
        "outputId": "4a98feaf-8c86-41af-b2b1-5815f1f13555",
        "colab": {
          "base_uri": "https://localhost:8080/",
          "height": 627
        }
      },
      "source": [
        "%matplotlib inline\n",
        "import matplotlib.pyplot as plt\n",
        "#get feature importances\n",
        "rf = model_rf.named_steps['randomforestclassifier']\n",
        "feat_importance = pd.Series(rf.feature_importances_, X_encoded.columns)\n",
        "\n",
        "\n",
        "#plot the feature importances\n",
        "n = 20\n",
        "plt.figure(figsize =( 10, n/2))\n",
        "plt.title('Top 20 features')\n",
        "feat_importance.sort_values()[-n:].plot.barh();\n"
      ],
      "execution_count": 15,
      "outputs": [
        {
          "output_type": "display_data",
          "data": {
            "image/png": "[encoded data removed]",
            "text/plain": [
              "<Figure size 720x720 with 1 Axes>"
            ]
          },
          "metadata": {
            "tags": [],
            "needs_background": "light"
          }
        }
      ]
    },
    {
      "cell_type": "markdown",
      "metadata": {
        "id": "yfyk_aa5gLVY"
      },
      "source": [
        "# Do ordinal encoding with high-cardinality categoricals"
      ]
    },
    {
      "cell_type": "markdown",
      "metadata": {
        "id": "46M_blxFBMdt"
      },
      "source": [
        "## Overview\n",
        "\n",
        "https://contrib.scikit-learn.org/category_encoders/ordinal.html"
      ]
    },
    {
      "cell_type": "markdown",
      "metadata": {
        "id": "COWkzsXCBMdt"
      },
      "source": [
        "## Follow Along"
      ]
    },
    {
      "cell_type": "code",
      "metadata": {
        "id": "kKFKGYTCipfD"
      },
      "source": [
        "X_train = train.drop(columns = target)\n",
        "y_train = train[target]\n",
        "X_val = val.drop(columns=target)\n",
        "y_val = val[target]\n",
        "X_test = test"
      ],
      "execution_count": 16,
      "outputs": []
    },
    {
      "cell_type": "code",
      "metadata": {
        "colab": {
          "base_uri": "https://localhost:8080/"
        },
        "id": "b8d_WJtcgLVZ",
        "outputId": "cbf8e3fb-4b41-4ac3-f713-8d5cd9ea19ab"
      },
      "source": [
        "# TODO\n",
        "model_rf2 = make_pipeline(\n",
        "    ce.OrdinalEncoder(),\n",
        "    SimpleImputer(strategy = 'median'),\n",
        "    RandomForestClassifier(random_state = 0, n_jobs = -1)\n",
        ")\n",
        "#fit on the train, score on val\n",
        "model_rf2.fit(X_train, y_train)\n",
        "print('Val accuracy with ordinal encoding:', model_rf2.score(X_val, y_val))"
      ],
      "execution_count": 21,
      "outputs": [
        {
          "output_type": "stream",
          "text": [
            "Val accuracy with ordinal encoding: 0.8092592592592592\n"
          ],
          "name": "stdout"
        }
      ]
    },
    {
      "cell_type": "code",
      "metadata": {
        "id": "VTzZvDg_j1FA",
        "outputId": "928f6082-bc0e-47f2-dd6b-b32d7113bc53",
        "colab": {
          "base_uri": "https://localhost:8080/"
        }
      },
      "source": [
        "print('X_train shape before encoding:', X_train.shape)\n",
        "encoder2 = model_rf2.named_steps['ordinalencoder']\n",
        "X_encoded2 = encoder2.transform(X_train)\n",
        "print('X_train shape after encoding:', X_encoded2.shape)"
      ],
      "execution_count": 23,
      "outputs": [
        {
          "output_type": "stream",
          "text": [
            "X_train shape before encoding: (47520, 45)\n",
            "X_train shape after encoding: (47520, 45)\n"
          ],
          "name": "stdout"
        }
      ]
    },
    {
      "cell_type": "markdown",
      "metadata": {
        "id": "xs2UPoVdgLVp"
      },
      "source": [
        "# Understand how categorical encodings affect trees differently compared to linear models"
      ]
    },
    {
      "cell_type": "markdown",
      "metadata": {
        "id": "_qsHBKTnBMdu"
      },
      "source": [
        "## Follow Along"
      ]
    },
    {
      "cell_type": "markdown",
      "metadata": {
        "id": "z8V-A92mgLVp"
      },
      "source": [
        "### Categorical exploration, 1 feature at a time\n",
        "\n",
        "Change `feature`, then re-run these cells!"
      ]
    },
    {
      "cell_type": "code",
      "metadata": {
        "id": "G35RAzVdgLVq"
      },
      "source": [
        "feature = 'extraction_type_class'"
      ],
      "execution_count": 24,
      "outputs": []
    },
    {
      "cell_type": "code",
      "metadata": {
        "colab": {
          "base_uri": "https://localhost:8080/"
        },
        "id": "OuxHWiH8gLVr",
        "outputId": "3aa064e3-a833-4983-fa2b-3fc6d3411b8c"
      },
      "source": [
        "X_train[feature].value_counts()"
      ],
      "execution_count": 25,
      "outputs": [
        {
          "output_type": "execute_result",
          "data": {
            "text/plain": [
              "gravity         21448\n",
              "handpump        13184\n",
              "other            5193\n",
              "submersible      4894\n",
              "motorpump        2355\n",
              "rope pump         353\n",
              "wind-powered       93\n",
              "Name: extraction_type_class, dtype: int64"
            ]
          },
          "metadata": {
            "tags": []
          },
          "execution_count": 25
        }
      ]
    },
    {
      "cell_type": "code",
      "metadata": {
        "colab": {
          "base_uri": "https://localhost:8080/",
          "height": 405
        },
        "id": "pVxoC4NngLVt",
        "outputId": "8adc09b7-42ab-4745-c6c8-bc35798a3013"
      },
      "source": [
        "import seaborn as sns\n",
        "plt.figure(figsize=(16,9))\n",
        "sns.barplot(\n",
        "    x=train[feature], \n",
        "    y=train['status_group']=='functional', \n",
        "    color='grey'\n",
        ");"
      ],
      "execution_count": 26,
      "outputs": [
        {
          "output_type": "display_data",
          "data": {
            "image/png": "[encoded data removed]",
            "text/plain": [
              "<Figure size 1152x648 with 1 Axes>"
            ]
          },
          "metadata": {
            "tags": [],
            "needs_background": "light"
          }
        }
      ]
    },
    {
      "cell_type": "code",
      "metadata": {
        "colab": {
          "base_uri": "https://localhost:8080/"
        },
        "id": "w99mek14gLVv",
        "outputId": "c65fe4ff-a739-4e2f-8309-58eeddbd2633"
      },
      "source": [
        "X_train[feature].head(20)"
      ],
      "execution_count": 27,
      "outputs": [
        {
          "output_type": "execute_result",
          "data": {
            "text/plain": [
              "43360        gravity\n",
              "7263         gravity\n",
              "2486        handpump\n",
              "313            other\n",
              "52726      motorpump\n",
              "8558         gravity\n",
              "2559         gravity\n",
              "54735      motorpump\n",
              "25763       handpump\n",
              "44540    submersible\n",
              "28603          other\n",
              "4372     submersible\n",
              "30666        gravity\n",
              "6431     submersible\n",
              "57420          other\n",
              "1373         gravity\n",
              "2026         gravity\n",
              "58977       handpump\n",
              "41101        gravity\n",
              "10019        gravity\n",
              "Name: extraction_type_class, dtype: object"
            ]
          },
          "metadata": {
            "tags": []
          },
          "execution_count": 27
        }
      ]
    },
    {
      "cell_type": "markdown",
      "metadata": {
        "id": "ezzK2IdbgLVx"
      },
      "source": [
        "### [One Hot Encoding](https://contrib.scikit-learn.org/category_encoders/onehot.html)\n",
        "\n",
        "> Onehot (or dummy) coding for categorical features, produces one feature per category, each binary.\n",
        "\n",
        "Warning: May run slow, or run out of memory, with high cardinality categoricals!"
      ]
    },
    {
      "cell_type": "code",
      "metadata": {
        "colab": {
          "base_uri": "https://localhost:8080/",
          "height": 760
        },
        "id": "HDQZtV6GgLVy",
        "outputId": "e03a12be-0d33-4d69-a9e6-6640c83ea4cf"
      },
      "source": [
        "encoder = ce.OneHotEncoder(use_cat_names=True)\n",
        "encoded = encoder.fit_transform(X_train[[feature]])\n",
        "print(f'{len(encoded.columns)} columns')\n",
        "encoded.head(20)"
      ],
      "execution_count": 28,
      "outputs": [
        {
          "output_type": "stream",
          "text": [
            "7 columns\n"
          ],
          "name": "stdout"
        },
        {
          "output_type": "stream",
          "text": [
            "/usr/local/lib/python3.7/dist-packages/category_encoders/utils.py:21: FutureWarning: is_categorical is deprecated and will be removed in a future version.  Use is_categorical_dtype instead\n",
            "  elif pd.api.types.is_categorical(cols):\n"
          ],
          "name": "stderr"
        },
        {
          "output_type": "execute_result",
          "data": {
            "text/html": [
              "<div>\n",
              "<style scoped>\n",
              "    .dataframe tbody tr th:only-of-type {\n",
              "        vertical-align: middle;\n",
              "    }\n",
              "\n",
              "    .dataframe tbody tr th {\n",
              "        vertical-align: top;\n",
              "    }\n",
              "\n",
              "    .dataframe thead th {\n",
              "        text-align: right;\n",
              "    }\n",
              "</style>\n",
              "<table border=\"1\" class=\"dataframe\">\n",
              "  <thead>\n",
              "    <tr style=\"text-align: right;\">\n",
              "      <th></th>\n",
              "      <th>extraction_type_class_gravity</th>\n",
              "      <th>extraction_type_class_handpump</th>\n",
              "      <th>extraction_type_class_other</th>\n",
              "      <th>extraction_type_class_motorpump</th>\n",
              "      <th>extraction_type_class_submersible</th>\n",
              "      <th>extraction_type_class_rope pump</th>\n",
              "      <th>extraction_type_class_wind-powered</th>\n",
              "    </tr>\n",
              "  </thead>\n",
              "  <tbody>\n",
              "    <tr>\n",
              "      <th>43360</th>\n",
              "      <td>1</td>\n",
              "      <td>0</td>\n",
              "      <td>0</td>\n",
              "      <td>0</td>\n",
              "      <td>0</td>\n",
              "      <td>0</td>\n",
              "      <td>0</td>\n",
              "    </tr>\n",
              "    <tr>\n",
              "      <th>7263</th>\n",
              "      <td>1</td>\n",
              "      <td>0</td>\n",
              "      <td>0</td>\n",
              "      <td>0</td>\n",
              "      <td>0</td>\n",
              "      <td>0</td>\n",
              "      <td>0</td>\n",
              "    </tr>\n",
              "    <tr>\n",
              "      <th>2486</th>\n",
              "      <td>0</td>\n",
              "      <td>1</td>\n",
              "      <td>0</td>\n",
              "      <td>0</td>\n",
              "      <td>0</td>\n",
              "      <td>0</td>\n",
              "      <td>0</td>\n",
              "    </tr>\n",
              "    <tr>\n",
              "      <th>313</th>\n",
              "      <td>0</td>\n",
              "      <td>0</td>\n",
              "      <td>1</td>\n",
              "      <td>0</td>\n",
              "      <td>0</td>\n",
              "      <td>0</td>\n",
              "      <td>0</td>\n",
              "    </tr>\n",
              "    <tr>\n",
              "      <th>52726</th>\n",
              "      <td>0</td>\n",
              "      <td>0</td>\n",
              "      <td>0</td>\n",
              "      <td>1</td>\n",
              "      <td>0</td>\n",
              "      <td>0</td>\n",
              "      <td>0</td>\n",
              "    </tr>\n",
              "    <tr>\n",
              "      <th>8558</th>\n",
              "      <td>1</td>\n",
              "      <td>0</td>\n",
              "      <td>0</td>\n",
              "      <td>0</td>\n",
              "      <td>0</td>\n",
              "      <td>0</td>\n",
              "      <td>0</td>\n",
              "    </tr>\n",
              "    <tr>\n",
              "      <th>2559</th>\n",
              "      <td>1</td>\n",
              "      <td>0</td>\n",
              "      <td>0</td>\n",
              "      <td>0</td>\n",
              "      <td>0</td>\n",
              "      <td>0</td>\n",
              "      <td>0</td>\n",
              "    </tr>\n",
              "    <tr>\n",
              "      <th>54735</th>\n",
              "      <td>0</td>\n",
              "      <td>0</td>\n",
              "      <td>0</td>\n",
              "      <td>1</td>\n",
              "      <td>0</td>\n",
              "      <td>0</td>\n",
              "      <td>0</td>\n",
              "    </tr>\n",
              "    <tr>\n",
              "      <th>25763</th>\n",
              "      <td>0</td>\n",
              "      <td>1</td>\n",
              "      <td>0</td>\n",
              "      <td>0</td>\n",
              "      <td>0</td>\n",
              "      <td>0</td>\n",
              "      <td>0</td>\n",
              "    </tr>\n",
              "    <tr>\n",
              "      <th>44540</th>\n",
              "      <td>0</td>\n",
              "      <td>0</td>\n",
              "      <td>0</td>\n",
              "      <td>0</td>\n",
              "      <td>1</td>\n",
              "      <td>0</td>\n",
              "      <td>0</td>\n",
              "    </tr>\n",
              "    <tr>\n",
              "      <th>28603</th>\n",
              "      <td>0</td>\n",
              "      <td>0</td>\n",
              "      <td>1</td>\n",
              "      <td>0</td>\n",
              "      <td>0</td>\n",
              "      <td>0</td>\n",
              "      <td>0</td>\n",
              "    </tr>\n",
              "    <tr>\n",
              "      <th>4372</th>\n",
              "      <td>0</td>\n",
              "      <td>0</td>\n",
              "      <td>0</td>\n",
              "      <td>0</td>\n",
              "      <td>1</td>\n",
              "      <td>0</td>\n",
              "      <td>0</td>\n",
              "    </tr>\n",
              "    <tr>\n",
              "      <th>30666</th>\n",
              "      <td>1</td>\n",
              "      <td>0</td>\n",
              "      <td>0</td>\n",
              "      <td>0</td>\n",
              "      <td>0</td>\n",
              "      <td>0</td>\n",
              "      <td>0</td>\n",
              "    </tr>\n",
              "    <tr>\n",
              "      <th>6431</th>\n",
              "      <td>0</td>\n",
              "      <td>0</td>\n",
              "      <td>0</td>\n",
              "      <td>0</td>\n",
              "      <td>1</td>\n",
              "      <td>0</td>\n",
              "      <td>0</td>\n",
              "    </tr>\n",
              "    <tr>\n",
              "      <th>57420</th>\n",
              "      <td>0</td>\n",
              "      <td>0</td>\n",
              "      <td>1</td>\n",
              "      <td>0</td>\n",
              "      <td>0</td>\n",
              "      <td>0</td>\n",
              "      <td>0</td>\n",
              "    </tr>\n",
              "    <tr>\n",
              "      <th>1373</th>\n",
              "      <td>1</td>\n",
              "      <td>0</td>\n",
              "      <td>0</td>\n",
              "      <td>0</td>\n",
              "      <td>0</td>\n",
              "      <td>0</td>\n",
              "      <td>0</td>\n",
              "    </tr>\n",
              "    <tr>\n",
              "      <th>2026</th>\n",
              "      <td>1</td>\n",
              "      <td>0</td>\n",
              "      <td>0</td>\n",
              "      <td>0</td>\n",
              "      <td>0</td>\n",
              "      <td>0</td>\n",
              "      <td>0</td>\n",
              "    </tr>\n",
              "    <tr>\n",
              "      <th>58977</th>\n",
              "      <td>0</td>\n",
              "      <td>1</td>\n",
              "      <td>0</td>\n",
              "      <td>0</td>\n",
              "      <td>0</td>\n",
              "      <td>0</td>\n",
              "      <td>0</td>\n",
              "    </tr>\n",
              "    <tr>\n",
              "      <th>41101</th>\n",
              "      <td>1</td>\n",
              "      <td>0</td>\n",
              "      <td>0</td>\n",
              "      <td>0</td>\n",
              "      <td>0</td>\n",
              "      <td>0</td>\n",
              "      <td>0</td>\n",
              "    </tr>\n",
              "    <tr>\n",
              "      <th>10019</th>\n",
              "      <td>1</td>\n",
              "      <td>0</td>\n",
              "      <td>0</td>\n",
              "      <td>0</td>\n",
              "      <td>0</td>\n",
              "      <td>0</td>\n",
              "      <td>0</td>\n",
              "    </tr>\n",
              "  </tbody>\n",
              "</table>\n",
              "</div>"
            ],
            "text/plain": [
              "       extraction_type_class_gravity  ...  extraction_type_class_wind-powered\n",
              "43360                              1  ...                                   0\n",
              "7263                               1  ...                                   0\n",
              "2486                               0  ...                                   0\n",
              "313                                0  ...                                   0\n",
              "52726                              0  ...                                   0\n",
              "8558                               1  ...                                   0\n",
              "2559                               1  ...                                   0\n",
              "54735                              0  ...                                   0\n",
              "25763                              0  ...                                   0\n",
              "44540                              0  ...                                   0\n",
              "28603                              0  ...                                   0\n",
              "4372                               0  ...                                   0\n",
              "30666                              1  ...                                   0\n",
              "6431                               0  ...                                   0\n",
              "57420                              0  ...                                   0\n",
              "1373                               1  ...                                   0\n",
              "2026                               1  ...                                   0\n",
              "58977                              0  ...                                   0\n",
              "41101                              1  ...                                   0\n",
              "10019                              1  ...                                   0\n",
              "\n",
              "[20 rows x 7 columns]"
            ]
          },
          "metadata": {
            "tags": []
          },
          "execution_count": 28
        }
      ]
    },
    {
      "cell_type": "markdown",
      "metadata": {
        "id": "1Ql9Qmw3sNJ7"
      },
      "source": [
        "#### One-Hot Encoding, Logistic Regression, Validation Accuracy"
      ]
    },
    {
      "cell_type": "code",
      "metadata": {
        "colab": {
          "base_uri": "https://localhost:8080/"
        },
        "id": "mT4A-oDGpOss",
        "outputId": "99a434b5-849e-4968-bf2d-d47b16e770a6"
      },
      "source": [
        "from sklearn.linear_model import LogisticRegressionCV\n",
        "from sklearn.preprocessing import StandardScaler\n",
        "\n",
        "lr = make_pipeline(\n",
        "    ce.OneHotEncoder(use_cat_names=True), \n",
        "    SimpleImputer(), \n",
        "    StandardScaler(), \n",
        "    LogisticRegressionCV(multi_class='auto', solver='lbfgs', cv=5, n_jobs=-1)\n",
        ")\n",
        "\n",
        "lr.fit(X_train[[feature]], y_train)\n",
        "score = lr.score(X_val[[feature]], y_val)\n",
        "print('Logistic Regression, Validation Accuracy', score)"
      ],
      "execution_count": 29,
      "outputs": [
        {
          "output_type": "stream",
          "text": [
            "/usr/local/lib/python3.7/dist-packages/category_encoders/utils.py:21: FutureWarning: is_categorical is deprecated and will be removed in a future version.  Use is_categorical_dtype instead\n",
            "  elif pd.api.types.is_categorical(cols):\n"
          ],
          "name": "stderr"
        },
        {
          "output_type": "stream",
          "text": [
            "Logistic Regression, Validation Accuracy 0.6202861952861953\n"
          ],
          "name": "stdout"
        }
      ]
    },
    {
      "cell_type": "markdown",
      "metadata": {
        "id": "EbH6wivpsRuV"
      },
      "source": [
        "#### One-Hot Encoding, Decision Tree, Validation Accuracy"
      ]
    },
    {
      "cell_type": "code",
      "metadata": {
        "colab": {
          "base_uri": "https://localhost:8080/"
        },
        "id": "b6KUluFOqIdK",
        "outputId": "4ffbab40-f1f2-4303-cb22-a23b0c37e9ec"
      },
      "source": [
        "from sklearn.tree import DecisionTreeClassifier\n",
        "\n",
        "dt = make_pipeline(\n",
        "    ce.OneHotEncoder(use_cat_names=True), \n",
        "    SimpleImputer(), \n",
        "    DecisionTreeClassifier(random_state=42)\n",
        ")\n",
        "\n",
        "dt.fit(X_train[[feature]], y_train)\n",
        "score = dt.score(X_val[[feature]], y_val)\n",
        "print('Decision Tree, Validation Accuracy', score)"
      ],
      "execution_count": 30,
      "outputs": [
        {
          "output_type": "stream",
          "text": [
            "Decision Tree, Validation Accuracy 0.6202861952861953\n"
          ],
          "name": "stdout"
        },
        {
          "output_type": "stream",
          "text": [
            "/usr/local/lib/python3.7/dist-packages/category_encoders/utils.py:21: FutureWarning: is_categorical is deprecated and will be removed in a future version.  Use is_categorical_dtype instead\n",
            "  elif pd.api.types.is_categorical(cols):\n"
          ],
          "name": "stderr"
        }
      ]
    },
    {
      "cell_type": "markdown",
      "metadata": {
        "id": "8yg11_gTsUu6"
      },
      "source": [
        "#### One-Hot Encoding, Logistic Regression, Model Interpretation"
      ]
    },
    {
      "cell_type": "code",
      "metadata": {
        "colab": {
          "base_uri": "https://localhost:8080/",
          "height": 265
        },
        "id": "IxHwXGRornNI",
        "outputId": "dd303799-4b20-4a86-d5c7-a16c521b6fd5"
      },
      "source": [
        "model = lr.named_steps['logisticregressioncv']\n",
        "encoder = lr.named_steps['onehotencoder']\n",
        "encoded_columns = encoder.transform(X_val[[feature]]).columns\n",
        "coefficients = pd.Series(model.coef_[0], encoded_columns)\n",
        "coefficients.sort_values().plot.barh(color='grey');"
      ],
      "execution_count": 31,
      "outputs": [
        {
          "output_type": "display_data",
          "data": {
            "image/png": "[encoded data removed]",
            "text/plain": [
              "<Figure size 432x288 with 1 Axes>"
            ]
          },
          "metadata": {
            "tags": [],
            "needs_background": "light"
          }
        }
      ]
    },
    {
      "cell_type": "markdown",
      "metadata": {
        "id": "0REZ8HdpsccR"
      },
      "source": [
        "#### One-Hot Encoding, Decision Tree, Model Interpretation"
      ]
    },
    {
      "cell_type": "code",
      "metadata": {
        "colab": {
          "base_uri": "https://localhost:8080/",
          "height": 954
        },
        "id": "gV-grmYKpDp9",
        "outputId": "361c1d12-42e9-43ff-a63a-085c40167865"
      },
      "source": [
        "# Plot tree\n",
        "# https://scikit-learn.org/stable/modules/generated/sklearn.tree.export_graphviz.html\n",
        "import graphviz\n",
        "from sklearn.tree import export_graphviz\n",
        "\n",
        "model = dt.named_steps['decisiontreeclassifier']\n",
        "encoder = dt.named_steps['onehotencoder']\n",
        "encoded_columns = encoder.transform(X_val[[feature]]).columns\n",
        "\n",
        "dot_data = export_graphviz(model, \n",
        "                           out_file=None, \n",
        "                           max_depth=7, \n",
        "                           feature_names=encoded_columns,\n",
        "                           class_names=model.classes_, \n",
        "                           impurity=False, \n",
        "                           filled=True, \n",
        "                           proportion=True, \n",
        "                           rounded=True)   \n",
        "display(graphviz.Source(dot_data))"
      ],
      "execution_count": 32,
      "outputs": [
        {
          "output_type": "display_data",
          "data": {
            "text/plain": [
              "<graphviz.files.Source at 0x7ff5eae24290>"
            ],
            "image/svg+xml": "<?xml version=\"1.0\" encoding=\"UTF-8\" standalone=\"no\"?>\n<!DOCTYPE svg PUBLIC \"-//W3C//DTD SVG 1.1//EN\"\n \"http://www.w3.org/Graphics/SVG/1.1/DTD/svg11.dtd\">\n<!-- Generated by graphviz version 2.40.1 (20161225.0304)\n -->\n<!-- Title: Tree Pages: 1 -->\n<svg width=\"1067pt\" height=\"685pt\"\n viewBox=\"0.00 0.00 1067.00 685.00\" xmlns=\"http://www.w3.org/2000/svg\" xmlns:xlink=\"http://www.w3.org/1999/xlink\">\n<g id=\"graph0\" class=\"graph\" transform=\"scale(1 1) rotate(0) translate(4 681)\">\n<title>Tree</title>\n<polygon fill=\"#ffffff\" stroke=\"transparent\" points=\"-4,4 -4,-681 1063,-681 1063,4 -4,4\"/>\n<!-- 0 -->\n<g id=\"node1\" class=\"node\">\n<title>0</title>\n<path fill=\"#f8decc\" stroke=\"#000000\" d=\"M944.5,-677C944.5,-677 725.5,-677 725.5,-677 719.5,-677 713.5,-671 713.5,-665 713.5,-665 713.5,-621 713.5,-621 713.5,-615 719.5,-609 725.5,-609 725.5,-609 944.5,-609 944.5,-609 950.5,-609 956.5,-615 956.5,-621 956.5,-621 956.5,-665 956.5,-665 956.5,-671 950.5,-677 944.5,-677\"/>\n<text text-anchor=\"middle\" x=\"835\" y=\"-661.8\" font-family=\"Helvetica,sans-Serif\" font-size=\"14.00\" fill=\"#000000\">extraction_type_class_other &lt;= 0.5</text>\n<text text-anchor=\"middle\" x=\"835\" y=\"-646.8\" font-family=\"Helvetica,sans-Serif\" font-size=\"14.00\" fill=\"#000000\">samples = 100.0%</text>\n<text text-anchor=\"middle\" x=\"835\" y=\"-631.8\" font-family=\"Helvetica,sans-Serif\" font-size=\"14.00\" fill=\"#000000\">value = [0.543, 0.073, 0.384]</text>\n<text text-anchor=\"middle\" x=\"835\" y=\"-616.8\" font-family=\"Helvetica,sans-Serif\" font-size=\"14.00\" fill=\"#000000\">class = functional</text>\n</g>\n<!-- 1 -->\n<g id=\"node2\" class=\"node\">\n<title>1</title>\n<path fill=\"#f5ceb2\" stroke=\"#000000\" d=\"M837,-573C837,-573 577,-573 577,-573 571,-573 565,-567 565,-561 565,-561 565,-517 565,-517 565,-511 571,-505 577,-505 577,-505 837,-505 837,-505 843,-505 849,-511 849,-517 849,-517 849,-561 849,-561 849,-567 843,-573 837,-573\"/>\n<text text-anchor=\"middle\" x=\"707\" y=\"-557.8\" font-family=\"Helvetica,sans-Serif\" font-size=\"14.00\" fill=\"#000000\">extraction_type_class_motorpump &lt;= 0.5</text>\n<text text-anchor=\"middle\" x=\"707\" y=\"-542.8\" font-family=\"Helvetica,sans-Serif\" font-size=\"14.00\" fill=\"#000000\">samples = 89.1%</text>\n<text text-anchor=\"middle\" x=\"707\" y=\"-527.8\" font-family=\"Helvetica,sans-Serif\" font-size=\"14.00\" fill=\"#000000\">value = [0.59, 0.078, 0.332]</text>\n<text text-anchor=\"middle\" x=\"707\" y=\"-512.8\" font-family=\"Helvetica,sans-Serif\" font-size=\"14.00\" fill=\"#000000\">class = functional</text>\n</g>\n<!-- 0&#45;&gt;1 -->\n<g id=\"edge1\" class=\"edge\">\n<title>0&#45;&gt;1</title>\n<path fill=\"none\" stroke=\"#000000\" d=\"M793.088,-608.9465C781.485,-599.519 768.7779,-589.1946 756.7741,-579.4415\"/>\n<polygon fill=\"#000000\" stroke=\"#000000\" points=\"758.9744,-576.7196 749.0061,-573.13 754.5602,-582.1524 758.9744,-576.7196\"/>\n<text text-anchor=\"middle\" x=\"751.5786\" y=\"-594.2973\" font-family=\"Helvetica,sans-Serif\" font-size=\"14.00\" fill=\"#000000\">True</text>\n</g>\n<!-- 12 -->\n<g id=\"node13\" class=\"node\">\n<title>12</title>\n<path fill=\"#9d66eb\" stroke=\"#000000\" d=\"M1047,-565.5C1047,-565.5 879,-565.5 879,-565.5 873,-565.5 867,-559.5 867,-553.5 867,-553.5 867,-524.5 867,-524.5 867,-518.5 873,-512.5 879,-512.5 879,-512.5 1047,-512.5 1047,-512.5 1053,-512.5 1059,-518.5 1059,-524.5 1059,-524.5 1059,-553.5 1059,-553.5 1059,-559.5 1053,-565.5 1047,-565.5\"/>\n<text text-anchor=\"middle\" x=\"963\" y=\"-550.3\" font-family=\"Helvetica,sans-Serif\" font-size=\"14.00\" fill=\"#000000\">samples = 10.9%</text>\n<text text-anchor=\"middle\" x=\"963\" y=\"-535.3\" font-family=\"Helvetica,sans-Serif\" font-size=\"14.00\" fill=\"#000000\">value = [0.159, 0.031, 0.81]</text>\n<text text-anchor=\"middle\" x=\"963\" y=\"-520.3\" font-family=\"Helvetica,sans-Serif\" font-size=\"14.00\" fill=\"#000000\">class = non functional</text>\n</g>\n<!-- 0&#45;&gt;12 -->\n<g id=\"edge12\" class=\"edge\">\n<title>0&#45;&gt;12</title>\n<path fill=\"none\" stroke=\"#000000\" d=\"M876.912,-608.9465C891.5533,-597.0504 907.9526,-583.726 922.4785,-571.9237\"/>\n<polygon fill=\"#000000\" stroke=\"#000000\" points=\"924.7786,-574.5645 930.3327,-565.5422 920.3645,-569.1317 924.7786,-574.5645\"/>\n<text text-anchor=\"middle\" x=\"927.7602\" y=\"-586.7095\" font-family=\"Helvetica,sans-Serif\" font-size=\"14.00\" fill=\"#000000\">False</text>\n</g>\n<!-- 2 -->\n<g id=\"node3\" class=\"node\">\n<title>2</title>\n<path fill=\"#f4caac\" stroke=\"#000000\" d=\"M708.5,-469C708.5,-469 443.5,-469 443.5,-469 437.5,-469 431.5,-463 431.5,-457 431.5,-457 431.5,-413 431.5,-413 431.5,-407 437.5,-401 443.5,-401 443.5,-401 708.5,-401 708.5,-401 714.5,-401 720.5,-407 720.5,-413 720.5,-413 720.5,-457 720.5,-457 720.5,-463 714.5,-469 708.5,-469\"/>\n<text text-anchor=\"middle\" x=\"576\" y=\"-453.8\" font-family=\"Helvetica,sans-Serif\" font-size=\"14.00\" fill=\"#000000\">extraction_type_class_submersible &lt;= 0.5</text>\n<text text-anchor=\"middle\" x=\"576\" y=\"-438.8\" font-family=\"Helvetica,sans-Serif\" font-size=\"14.00\" fill=\"#000000\">samples = 84.1%</text>\n<text text-anchor=\"middle\" x=\"576\" y=\"-423.8\" font-family=\"Helvetica,sans-Serif\" font-size=\"14.00\" fill=\"#000000\">value = [0.603, 0.08, 0.318]</text>\n<text text-anchor=\"middle\" x=\"576\" y=\"-408.8\" font-family=\"Helvetica,sans-Serif\" font-size=\"14.00\" fill=\"#000000\">class = functional</text>\n</g>\n<!-- 1&#45;&gt;2 -->\n<g id=\"edge2\" class=\"edge\">\n<title>1&#45;&gt;2</title>\n<path fill=\"none\" stroke=\"#000000\" d=\"M664.1057,-504.9465C652.2307,-495.519 639.2259,-485.1946 626.9407,-475.4415\"/>\n<polygon fill=\"#000000\" stroke=\"#000000\" points=\"628.9989,-472.6066 618.9907,-469.13 624.6464,-478.089 628.9989,-472.6066\"/>\n</g>\n<!-- 11 -->\n<g id=\"node12\" class=\"node\">\n<title>11</title>\n<path fill=\"#d8c1f7\" stroke=\"#000000\" d=\"M927,-461.5C927,-461.5 751,-461.5 751,-461.5 745,-461.5 739,-455.5 739,-449.5 739,-449.5 739,-420.5 739,-420.5 739,-414.5 745,-408.5 751,-408.5 751,-408.5 927,-408.5 927,-408.5 933,-408.5 939,-414.5 939,-420.5 939,-420.5 939,-449.5 939,-449.5 939,-455.5 933,-461.5 927,-461.5\"/>\n<text text-anchor=\"middle\" x=\"839\" y=\"-446.3\" font-family=\"Helvetica,sans-Serif\" font-size=\"14.00\" fill=\"#000000\">samples = 5.0%</text>\n<text text-anchor=\"middle\" x=\"839\" y=\"-431.3\" font-family=\"Helvetica,sans-Serif\" font-size=\"14.00\" fill=\"#000000\">value = [0.381, 0.045, 0.574]</text>\n<text text-anchor=\"middle\" x=\"839\" y=\"-416.3\" font-family=\"Helvetica,sans-Serif\" font-size=\"14.00\" fill=\"#000000\">class = non functional</text>\n</g>\n<!-- 1&#45;&gt;11 -->\n<g id=\"edge11\" class=\"edge\">\n<title>1&#45;&gt;11</title>\n<path fill=\"none\" stroke=\"#000000\" d=\"M750.2217,-504.9465C765.3206,-493.0504 782.2324,-479.726 797.2122,-467.9237\"/>\n<polygon fill=\"#000000\" stroke=\"#000000\" points=\"799.623,-470.4802 805.3119,-461.5422 795.2909,-464.9817 799.623,-470.4802\"/>\n</g>\n<!-- 3 -->\n<g id=\"node4\" class=\"node\">\n<title>3</title>\n<path fill=\"#f4c7a8\" stroke=\"#000000\" d=\"M568.5,-365C568.5,-365 339.5,-365 339.5,-365 333.5,-365 327.5,-359 327.5,-353 327.5,-353 327.5,-309 327.5,-309 327.5,-303 333.5,-297 339.5,-297 339.5,-297 568.5,-297 568.5,-297 574.5,-297 580.5,-303 580.5,-309 580.5,-309 580.5,-353 580.5,-353 580.5,-359 574.5,-365 568.5,-365\"/>\n<text text-anchor=\"middle\" x=\"454\" y=\"-349.8\" font-family=\"Helvetica,sans-Serif\" font-size=\"14.00\" fill=\"#000000\">extraction_type_class_gravity &lt;= 0.5</text>\n<text text-anchor=\"middle\" x=\"454\" y=\"-334.8\" font-family=\"Helvetica,sans-Serif\" font-size=\"14.00\" fill=\"#000000\">samples = 73.8%</text>\n<text text-anchor=\"middle\" x=\"454\" y=\"-319.8\" font-family=\"Helvetica,sans-Serif\" font-size=\"14.00\" fill=\"#000000\">value = [0.611, 0.085, 0.304]</text>\n<text text-anchor=\"middle\" x=\"454\" y=\"-304.8\" font-family=\"Helvetica,sans-Serif\" font-size=\"14.00\" fill=\"#000000\">class = functional</text>\n</g>\n<!-- 2&#45;&gt;3 -->\n<g id=\"edge3\" class=\"edge\">\n<title>2&#45;&gt;3</title>\n<path fill=\"none\" stroke=\"#000000\" d=\"M536.0526,-400.9465C525.0988,-391.6088 513.1127,-381.3911 501.768,-371.7203\"/>\n<polygon fill=\"#000000\" stroke=\"#000000\" points=\"503.9179,-368.9538 494.0371,-365.13 499.3767,-374.2809 503.9179,-368.9538\"/>\n</g>\n<!-- 10 -->\n<g id=\"node11\" class=\"node\">\n<title>10</title>\n<path fill=\"#f9e4d5\" stroke=\"#000000\" d=\"M787,-357.5C787,-357.5 611,-357.5 611,-357.5 605,-357.5 599,-351.5 599,-345.5 599,-345.5 599,-316.5 599,-316.5 599,-310.5 605,-304.5 611,-304.5 611,-304.5 787,-304.5 787,-304.5 793,-304.5 799,-310.5 799,-316.5 799,-316.5 799,-345.5 799,-345.5 799,-351.5 793,-357.5 787,-357.5\"/>\n<text text-anchor=\"middle\" x=\"699\" y=\"-342.3\" font-family=\"Helvetica,sans-Serif\" font-size=\"14.00\" fill=\"#000000\">samples = 10.3%</text>\n<text text-anchor=\"middle\" x=\"699\" y=\"-327.3\" font-family=\"Helvetica,sans-Serif\" font-size=\"14.00\" fill=\"#000000\">value = [0.541, 0.042, 0.416]</text>\n<text text-anchor=\"middle\" x=\"699\" y=\"-312.3\" font-family=\"Helvetica,sans-Serif\" font-size=\"14.00\" fill=\"#000000\">class = functional</text>\n</g>\n<!-- 2&#45;&gt;10 -->\n<g id=\"edge10\" class=\"edge\">\n<title>2&#45;&gt;10</title>\n<path fill=\"none\" stroke=\"#000000\" d=\"M616.2748,-400.9465C630.2139,-389.1606 645.8112,-375.9726 659.6732,-364.2519\"/>\n<polygon fill=\"#000000\" stroke=\"#000000\" points=\"662.2324,-366.6715 667.6088,-357.5422 657.7127,-361.3262 662.2324,-366.6715\"/>\n</g>\n<!-- 4 -->\n<g id=\"node5\" class=\"node\">\n<title>4</title>\n<path fill=\"#f3c5a4\" stroke=\"#000000\" d=\"M458.5,-261C458.5,-261 181.5,-261 181.5,-261 175.5,-261 169.5,-255 169.5,-249 169.5,-249 169.5,-205 169.5,-205 169.5,-199 175.5,-193 181.5,-193 181.5,-193 458.5,-193 458.5,-193 464.5,-193 470.5,-199 470.5,-205 470.5,-205 470.5,-249 470.5,-249 470.5,-255 464.5,-261 458.5,-261\"/>\n<text text-anchor=\"middle\" x=\"320\" y=\"-245.8\" font-family=\"Helvetica,sans-Serif\" font-size=\"14.00\" fill=\"#000000\">extraction_type_class_wind&#45;powered &lt;= 0.5</text>\n<text text-anchor=\"middle\" x=\"320\" y=\"-230.8\" font-family=\"Helvetica,sans-Serif\" font-size=\"14.00\" fill=\"#000000\">samples = 28.7%</text>\n<text text-anchor=\"middle\" x=\"320\" y=\"-215.8\" font-family=\"Helvetica,sans-Serif\" font-size=\"14.00\" fill=\"#000000\">value = [0.629, 0.059, 0.311]</text>\n<text text-anchor=\"middle\" x=\"320\" y=\"-200.8\" font-family=\"Helvetica,sans-Serif\" font-size=\"14.00\" fill=\"#000000\">class = functional</text>\n</g>\n<!-- 3&#45;&gt;4 -->\n<g id=\"edge4\" class=\"edge\">\n<title>3&#45;&gt;4</title>\n<path fill=\"none\" stroke=\"#000000\" d=\"M410.1234,-296.9465C397.9765,-287.519 384.6738,-277.1946 372.1073,-267.4415\"/>\n<polygon fill=\"#000000\" stroke=\"#000000\" points=\"374.021,-264.4963 363.9752,-261.13 369.7291,-270.0262 374.021,-264.4963\"/>\n</g>\n<!-- 9 -->\n<g id=\"node10\" class=\"node\">\n<title>9</title>\n<path fill=\"#f4c9aa\" stroke=\"#000000\" d=\"M677,-253.5C677,-253.5 501,-253.5 501,-253.5 495,-253.5 489,-247.5 489,-241.5 489,-241.5 489,-212.5 489,-212.5 489,-206.5 495,-200.5 501,-200.5 501,-200.5 677,-200.5 677,-200.5 683,-200.5 689,-206.5 689,-212.5 689,-212.5 689,-241.5 689,-241.5 689,-247.5 683,-253.5 677,-253.5\"/>\n<text text-anchor=\"middle\" x=\"589\" y=\"-238.3\" font-family=\"Helvetica,sans-Serif\" font-size=\"14.00\" fill=\"#000000\">samples = 45.1%</text>\n<text text-anchor=\"middle\" x=\"589\" y=\"-223.3\" font-family=\"Helvetica,sans-Serif\" font-size=\"14.00\" fill=\"#000000\">value = [0.599, 0.101, 0.299]</text>\n<text text-anchor=\"middle\" x=\"589\" y=\"-208.3\" font-family=\"Helvetica,sans-Serif\" font-size=\"14.00\" fill=\"#000000\">class = functional</text>\n</g>\n<!-- 3&#45;&gt;9 -->\n<g id=\"edge9\" class=\"edge\">\n<title>3&#45;&gt;9</title>\n<path fill=\"none\" stroke=\"#000000\" d=\"M498.204,-296.9465C513.6461,-285.0504 530.9422,-271.726 546.2625,-259.9237\"/>\n<polygon fill=\"#000000\" stroke=\"#000000\" points=\"548.7603,-262.4176 554.5462,-253.5422 544.4883,-256.8723 548.7603,-262.4176\"/>\n</g>\n<!-- 5 -->\n<g id=\"node6\" class=\"node\">\n<title>5</title>\n<path fill=\"#f3c4a3\" stroke=\"#000000\" d=\"M319,-157C319,-157 63,-157 63,-157 57,-157 51,-151 51,-145 51,-145 51,-101 51,-101 51,-95 57,-89 63,-89 63,-89 319,-89 319,-89 325,-89 331,-95 331,-101 331,-101 331,-145 331,-145 331,-151 325,-157 319,-157\"/>\n<text text-anchor=\"middle\" x=\"191\" y=\"-141.8\" font-family=\"Helvetica,sans-Serif\" font-size=\"14.00\" fill=\"#000000\">extraction_type_class_rope pump &lt;= 0.5</text>\n<text text-anchor=\"middle\" x=\"191\" y=\"-126.8\" font-family=\"Helvetica,sans-Serif\" font-size=\"14.00\" fill=\"#000000\">samples = 28.5%</text>\n<text text-anchor=\"middle\" x=\"191\" y=\"-111.8\" font-family=\"Helvetica,sans-Serif\" font-size=\"14.00\" fill=\"#000000\">value = [0.631, 0.059, 0.31]</text>\n<text text-anchor=\"middle\" x=\"191\" y=\"-96.8\" font-family=\"Helvetica,sans-Serif\" font-size=\"14.00\" fill=\"#000000\">class = functional</text>\n</g>\n<!-- 4&#45;&gt;5 -->\n<g id=\"edge5\" class=\"edge\">\n<title>4&#45;&gt;5</title>\n<path fill=\"none\" stroke=\"#000000\" d=\"M277.7606,-192.9465C266.0669,-183.519 253.2606,-173.1946 241.163,-163.4415\"/>\n<polygon fill=\"#000000\" stroke=\"#000000\" points=\"243.3162,-160.6816 233.3343,-157.13 238.9227,-166.1312 243.3162,-160.6816\"/>\n</g>\n<!-- 8 -->\n<g id=\"node9\" class=\"node\">\n<title>8</title>\n<path fill=\"#f8f3fd\" stroke=\"#000000\" d=\"M537,-149.5C537,-149.5 361,-149.5 361,-149.5 355,-149.5 349,-143.5 349,-137.5 349,-137.5 349,-108.5 349,-108.5 349,-102.5 355,-96.5 361,-96.5 361,-96.5 537,-96.5 537,-96.5 543,-96.5 549,-102.5 549,-108.5 549,-108.5 549,-137.5 549,-137.5 549,-143.5 543,-149.5 537,-149.5\"/>\n<text text-anchor=\"middle\" x=\"449\" y=\"-134.3\" font-family=\"Helvetica,sans-Serif\" font-size=\"14.00\" fill=\"#000000\">samples = 0.2%</text>\n<text text-anchor=\"middle\" x=\"449\" y=\"-119.3\" font-family=\"Helvetica,sans-Serif\" font-size=\"14.00\" fill=\"#000000\">value = [0.452, 0.065, 0.484]</text>\n<text text-anchor=\"middle\" x=\"449\" y=\"-104.3\" font-family=\"Helvetica,sans-Serif\" font-size=\"14.00\" fill=\"#000000\">class = non functional</text>\n</g>\n<!-- 4&#45;&gt;8 -->\n<g id=\"edge8\" class=\"edge\">\n<title>4&#45;&gt;8</title>\n<path fill=\"none\" stroke=\"#000000\" d=\"M362.2394,-192.9465C376.9952,-181.0504 393.5225,-167.726 408.162,-155.9237\"/>\n<polygon fill=\"#000000\" stroke=\"#000000\" points=\"410.4891,-158.5433 416.0775,-149.5422 406.0957,-153.0938 410.4891,-158.5433\"/>\n</g>\n<!-- 6 -->\n<g id=\"node7\" class=\"node\">\n<title>6</title>\n<path fill=\"#f3c5a3\" stroke=\"#000000\" d=\"M164,-53C164,-53 12,-53 12,-53 6,-53 0,-47 0,-41 0,-41 0,-12 0,-12 0,-6 6,0 12,0 12,0 164,0 164,0 170,0 176,-6 176,-12 176,-12 176,-41 176,-41 176,-47 170,-53 164,-53\"/>\n<text text-anchor=\"middle\" x=\"88\" y=\"-37.8\" font-family=\"Helvetica,sans-Serif\" font-size=\"14.00\" fill=\"#000000\">samples = 27.7%</text>\n<text text-anchor=\"middle\" x=\"88\" y=\"-22.8\" font-family=\"Helvetica,sans-Serif\" font-size=\"14.00\" fill=\"#000000\">value = [0.63, 0.06, 0.31]</text>\n<text text-anchor=\"middle\" x=\"88\" y=\"-7.8\" font-family=\"Helvetica,sans-Serif\" font-size=\"14.00\" fill=\"#000000\">class = functional</text>\n</g>\n<!-- 5&#45;&gt;6 -->\n<g id=\"edge6\" class=\"edge\">\n<title>5&#45;&gt;6</title>\n<path fill=\"none\" stroke=\"#000000\" d=\"M154.6861,-88.9777C144.7168,-79.6376 133.9138,-69.5163 123.9643,-60.1947\"/>\n<polygon fill=\"#000000\" stroke=\"#000000\" points=\"126.2408,-57.5314 116.5502,-53.2485 121.4548,-62.6397 126.2408,-57.5314\"/>\n</g>\n<!-- 7 -->\n<g id=\"node8\" class=\"node\">\n<title>7</title>\n<path fill=\"#f2bf9b\" stroke=\"#000000\" d=\"M382,-53C382,-53 206,-53 206,-53 200,-53 194,-47 194,-41 194,-41 194,-12 194,-12 194,-6 200,0 206,0 206,0 382,0 382,0 388,0 394,-6 394,-12 394,-12 394,-41 394,-41 394,-47 388,-53 382,-53\"/>\n<text text-anchor=\"middle\" x=\"294\" y=\"-37.8\" font-family=\"Helvetica,sans-Serif\" font-size=\"14.00\" fill=\"#000000\">samples = 0.7%</text>\n<text text-anchor=\"middle\" x=\"294\" y=\"-22.8\" font-family=\"Helvetica,sans-Serif\" font-size=\"14.00\" fill=\"#000000\">value = [0.657, 0.037, 0.306]</text>\n<text text-anchor=\"middle\" x=\"294\" y=\"-7.8\" font-family=\"Helvetica,sans-Serif\" font-size=\"14.00\" fill=\"#000000\">class = functional</text>\n</g>\n<!-- 5&#45;&gt;7 -->\n<g id=\"edge7\" class=\"edge\">\n<title>5&#45;&gt;7</title>\n<path fill=\"none\" stroke=\"#000000\" d=\"M227.3139,-88.9777C237.2832,-79.6376 248.0862,-69.5163 258.0357,-60.1947\"/>\n<polygon fill=\"#000000\" stroke=\"#000000\" points=\"260.5452,-62.6397 265.4498,-53.2485 255.7592,-57.5314 260.5452,-62.6397\"/>\n</g>\n</g>\n</svg>\n"
          },
          "metadata": {
            "tags": []
          }
        }
      ]
    },
    {
      "cell_type": "markdown",
      "metadata": {
        "id": "QUd6gzcZgLVz"
      },
      "source": [
        "### [Ordinal Encoding](https://contrib.scikit-learn.org/category_encoders/ordinal.html)\n",
        "\n",
        "> Ordinal encoding uses a single column of integers to represent the classes. An optional mapping dict can be passed in; in this case, we use the knowledge that there is some true order to the classes themselves. Otherwise, the classes are assumed to have no true order and integers are selected at random."
      ]
    },
    {
      "cell_type": "code",
      "metadata": {
        "colab": {
          "base_uri": "https://localhost:8080/",
          "height": 687
        },
        "id": "CnBz2RbwgLVz",
        "outputId": "84816ff5-6326-4f10-99cc-660feb69b258"
      },
      "source": [
        "encoder = ce.OrdinalEncoder()\n",
        "encoded = encoder.fit_transform(X_train[[feature]])\n",
        "print(f'1 column, {encoded[feature].nunique()} unique values')\n",
        "encoded.head(20)"
      ],
      "execution_count": 33,
      "outputs": [
        {
          "output_type": "stream",
          "text": [
            "1 column, 7 unique values\n"
          ],
          "name": "stdout"
        },
        {
          "output_type": "execute_result",
          "data": {
            "text/html": [
              "<div>\n",
              "<style scoped>\n",
              "    .dataframe tbody tr th:only-of-type {\n",
              "        vertical-align: middle;\n",
              "    }\n",
              "\n",
              "    .dataframe tbody tr th {\n",
              "        vertical-align: top;\n",
              "    }\n",
              "\n",
              "    .dataframe thead th {\n",
              "        text-align: right;\n",
              "    }\n",
              "</style>\n",
              "<table border=\"1\" class=\"dataframe\">\n",
              "  <thead>\n",
              "    <tr style=\"text-align: right;\">\n",
              "      <th></th>\n",
              "      <th>extraction_type_class</th>\n",
              "    </tr>\n",
              "  </thead>\n",
              "  <tbody>\n",
              "    <tr>\n",
              "      <th>43360</th>\n",
              "      <td>1</td>\n",
              "    </tr>\n",
              "    <tr>\n",
              "      <th>7263</th>\n",
              "      <td>1</td>\n",
              "    </tr>\n",
              "    <tr>\n",
              "      <th>2486</th>\n",
              "      <td>2</td>\n",
              "    </tr>\n",
              "    <tr>\n",
              "      <th>313</th>\n",
              "      <td>3</td>\n",
              "    </tr>\n",
              "    <tr>\n",
              "      <th>52726</th>\n",
              "      <td>4</td>\n",
              "    </tr>\n",
              "    <tr>\n",
              "      <th>8558</th>\n",
              "      <td>1</td>\n",
              "    </tr>\n",
              "    <tr>\n",
              "      <th>2559</th>\n",
              "      <td>1</td>\n",
              "    </tr>\n",
              "    <tr>\n",
              "      <th>54735</th>\n",
              "      <td>4</td>\n",
              "    </tr>\n",
              "    <tr>\n",
              "      <th>25763</th>\n",
              "      <td>2</td>\n",
              "    </tr>\n",
              "    <tr>\n",
              "      <th>44540</th>\n",
              "      <td>5</td>\n",
              "    </tr>\n",
              "    <tr>\n",
              "      <th>28603</th>\n",
              "      <td>3</td>\n",
              "    </tr>\n",
              "    <tr>\n",
              "      <th>4372</th>\n",
              "      <td>5</td>\n",
              "    </tr>\n",
              "    <tr>\n",
              "      <th>30666</th>\n",
              "      <td>1</td>\n",
              "    </tr>\n",
              "    <tr>\n",
              "      <th>6431</th>\n",
              "      <td>5</td>\n",
              "    </tr>\n",
              "    <tr>\n",
              "      <th>57420</th>\n",
              "      <td>3</td>\n",
              "    </tr>\n",
              "    <tr>\n",
              "      <th>1373</th>\n",
              "      <td>1</td>\n",
              "    </tr>\n",
              "    <tr>\n",
              "      <th>2026</th>\n",
              "      <td>1</td>\n",
              "    </tr>\n",
              "    <tr>\n",
              "      <th>58977</th>\n",
              "      <td>2</td>\n",
              "    </tr>\n",
              "    <tr>\n",
              "      <th>41101</th>\n",
              "      <td>1</td>\n",
              "    </tr>\n",
              "    <tr>\n",
              "      <th>10019</th>\n",
              "      <td>1</td>\n",
              "    </tr>\n",
              "  </tbody>\n",
              "</table>\n",
              "</div>"
            ],
            "text/plain": [
              "       extraction_type_class\n",
              "43360                      1\n",
              "7263                       1\n",
              "2486                       2\n",
              "313                        3\n",
              "52726                      4\n",
              "8558                       1\n",
              "2559                       1\n",
              "54735                      4\n",
              "25763                      2\n",
              "44540                      5\n",
              "28603                      3\n",
              "4372                       5\n",
              "30666                      1\n",
              "6431                       5\n",
              "57420                      3\n",
              "1373                       1\n",
              "2026                       1\n",
              "58977                      2\n",
              "41101                      1\n",
              "10019                      1"
            ]
          },
          "metadata": {
            "tags": []
          },
          "execution_count": 33
        }
      ]
    },
    {
      "cell_type": "markdown",
      "metadata": {
        "id": "Nd-ZWprasqUM"
      },
      "source": [
        "#### Ordinal Encoding, Logistic Regression, Validation Accuracy"
      ]
    },
    {
      "cell_type": "code",
      "metadata": {
        "colab": {
          "base_uri": "https://localhost:8080/"
        },
        "id": "GJ1YpwjvrhfL",
        "outputId": "9a8ad596-c7ef-437e-9c16-b408a611ad86"
      },
      "source": [
        "lr = make_pipeline(\n",
        "    ce.OrdinalEncoder(), \n",
        "    SimpleImputer(), \n",
        "    StandardScaler(), \n",
        "    LogisticRegressionCV(multi_class='auto', solver='lbfgs', cv=5, n_jobs=-1)\n",
        ")\n",
        "\n",
        "lr.fit(X_train[[feature]], y_train)\n",
        "score = lr.score(X_val[[feature]], y_val)\n",
        "print('Logistic Regression, Validation Accuracy', score)"
      ],
      "execution_count": 34,
      "outputs": [
        {
          "output_type": "stream",
          "text": [
            "Logistic Regression, Validation Accuracy 0.5417508417508418\n"
          ],
          "name": "stdout"
        }
      ]
    },
    {
      "cell_type": "markdown",
      "metadata": {
        "id": "9lO_R3SksuHs"
      },
      "source": [
        "#### Ordinal Encoding, Decision Tree, Validation Accuracy"
      ]
    },
    {
      "cell_type": "code",
      "metadata": {
        "colab": {
          "base_uri": "https://localhost:8080/"
        },
        "id": "aOELD_roriVI",
        "outputId": "cc44e63a-a828-4fec-fdf6-2e1906d197fa"
      },
      "source": [
        "dt = make_pipeline(\n",
        "    ce.OrdinalEncoder(), \n",
        "    SimpleImputer(), \n",
        "    DecisionTreeClassifier(random_state=42)\n",
        ")\n",
        "\n",
        "dt.fit(X_train[[feature]], y_train)\n",
        "score = dt.score(X_val[[feature]], y_val)\n",
        "print('Decision Tree, Validation Accuracy', score)"
      ],
      "execution_count": 35,
      "outputs": [
        {
          "output_type": "stream",
          "text": [
            "Decision Tree, Validation Accuracy 0.6202861952861953\n"
          ],
          "name": "stdout"
        }
      ]
    },
    {
      "cell_type": "markdown",
      "metadata": {
        "id": "7V2zHjiwswTg"
      },
      "source": [
        "#### Ordinal Encoding, Logistic Regression, Model Interpretation"
      ]
    },
    {
      "cell_type": "code",
      "metadata": {
        "colab": {
          "base_uri": "https://localhost:8080/",
          "height": 265
        },
        "id": "S9UPYPois8QR",
        "outputId": "560c1f38-6e36-4750-b900-e2003b7f5906"
      },
      "source": [
        "model = lr.named_steps['logisticregressioncv']\n",
        "encoder = lr.named_steps['ordinalencoder']\n",
        "encoded_columns = encoder.transform(X_val[[feature]]).columns\n",
        "coefficients = pd.Series(model.coef_[0], encoded_columns)\n",
        "coefficients.sort_values().plot.barh(color='grey');"
      ],
      "execution_count": 36,
      "outputs": [
        {
          "output_type": "display_data",
          "data": {
            "image/png": "[encoded data removed]",
            "text/plain": [
              "<Figure size 432x288 with 1 Axes>"
            ]
          },
          "metadata": {
            "tags": [],
            "needs_background": "light"
          }
        }
      ]
    },
    {
      "cell_type": "markdown",
      "metadata": {
        "id": "MvmmvE8fsymh"
      },
      "source": [
        "#### Ordinal Encoding, Decision Tree, Model Interpretation"
      ]
    },
    {
      "cell_type": "code",
      "metadata": {
        "colab": {
          "base_uri": "https://localhost:8080/",
          "height": 815
        },
        "id": "jCvUu4Oms88b",
        "outputId": "9d75fb50-6c9f-420b-e203-42555d9eea6a"
      },
      "source": [
        "model = dt.named_steps['decisiontreeclassifier']\n",
        "encoder = dt.named_steps['ordinalencoder']\n",
        "encoded_columns = encoder.transform(X_val[[feature]]).columns\n",
        "\n",
        "dot_data = export_graphviz(model, \n",
        "                           out_file=None, \n",
        "                           max_depth=5, \n",
        "                           feature_names=encoded_columns,\n",
        "                           class_names=model.classes_, \n",
        "                           impurity=False, \n",
        "                           filled=True, \n",
        "                           proportion=True, \n",
        "                           rounded=True)   \n",
        "display(graphviz.Source(dot_data))"
      ],
      "execution_count": 37,
      "outputs": [
        {
          "output_type": "display_data",
          "data": {
            "text/plain": [
              "<graphviz.files.Source at 0x7ff5eae16650>"
            ],
            "image/svg+xml": "<?xml version=\"1.0\" encoding=\"UTF-8\" standalone=\"no\"?>\n<!DOCTYPE svg PUBLIC \"-//W3C//DTD SVG 1.1//EN\"\n \"http://www.w3.org/Graphics/SVG/1.1/DTD/svg11.dtd\">\n<!-- Generated by graphviz version 2.40.1 (20161225.0304)\n -->\n<!-- Title: Tree Pages: 1 -->\n<svg width=\"1167pt\" height=\"581pt\"\n viewBox=\"0.00 0.00 1167.00 581.00\" xmlns=\"http://www.w3.org/2000/svg\" xmlns:xlink=\"http://www.w3.org/1999/xlink\">\n<g id=\"graph0\" class=\"graph\" transform=\"scale(1 1) rotate(0) translate(4 577)\">\n<title>Tree</title>\n<polygon fill=\"#ffffff\" stroke=\"transparent\" points=\"-4,4 -4,-577 1163,-577 1163,4 -4,4\"/>\n<!-- 0 -->\n<g id=\"node1\" class=\"node\">\n<title>0</title>\n<path fill=\"#f8decc\" stroke=\"#000000\" d=\"M500,-573C500,-573 322,-573 322,-573 316,-573 310,-567 310,-561 310,-561 310,-517 310,-517 310,-511 316,-505 322,-505 322,-505 500,-505 500,-505 506,-505 512,-511 512,-517 512,-517 512,-561 512,-561 512,-567 506,-573 500,-573\"/>\n<text text-anchor=\"middle\" x=\"411\" y=\"-557.8\" font-family=\"Helvetica,sans-Serif\" font-size=\"14.00\" fill=\"#000000\">extraction_type_class &lt;= 2.5</text>\n<text text-anchor=\"middle\" x=\"411\" y=\"-542.8\" font-family=\"Helvetica,sans-Serif\" font-size=\"14.00\" fill=\"#000000\">samples = 100.0%</text>\n<text text-anchor=\"middle\" x=\"411\" y=\"-527.8\" font-family=\"Helvetica,sans-Serif\" font-size=\"14.00\" fill=\"#000000\">value = [0.543, 0.073, 0.384]</text>\n<text text-anchor=\"middle\" x=\"411\" y=\"-512.8\" font-family=\"Helvetica,sans-Serif\" font-size=\"14.00\" fill=\"#000000\">class = functional</text>\n</g>\n<!-- 1 -->\n<g id=\"node2\" class=\"node\">\n<title>1</title>\n<path fill=\"#f4c7a8\" stroke=\"#000000\" d=\"M390,-469C390,-469 212,-469 212,-469 206,-469 200,-463 200,-457 200,-457 200,-413 200,-413 200,-407 206,-401 212,-401 212,-401 390,-401 390,-401 396,-401 402,-407 402,-413 402,-413 402,-457 402,-457 402,-463 396,-469 390,-469\"/>\n<text text-anchor=\"middle\" x=\"301\" y=\"-453.8\" font-family=\"Helvetica,sans-Serif\" font-size=\"14.00\" fill=\"#000000\">extraction_type_class &lt;= 1.5</text>\n<text text-anchor=\"middle\" x=\"301\" y=\"-438.8\" font-family=\"Helvetica,sans-Serif\" font-size=\"14.00\" fill=\"#000000\">samples = 72.9%</text>\n<text text-anchor=\"middle\" x=\"301\" y=\"-423.8\" font-family=\"Helvetica,sans-Serif\" font-size=\"14.00\" fill=\"#000000\">value = [0.611, 0.085, 0.304]</text>\n<text text-anchor=\"middle\" x=\"301\" y=\"-408.8\" font-family=\"Helvetica,sans-Serif\" font-size=\"14.00\" fill=\"#000000\">class = functional</text>\n</g>\n<!-- 0&#45;&gt;1 -->\n<g id=\"edge1\" class=\"edge\">\n<title>0&#45;&gt;1</title>\n<path fill=\"none\" stroke=\"#000000\" d=\"M374.9819,-504.9465C365.2954,-495.7884 354.7136,-485.7838 344.6603,-476.2788\"/>\n<polygon fill=\"#000000\" stroke=\"#000000\" points=\"346.7701,-473.4569 337.099,-469.13 341.961,-478.5434 346.7701,-473.4569\"/>\n<text text-anchor=\"middle\" x=\"337.7997\" y=\"-490.4202\" font-family=\"Helvetica,sans-Serif\" font-size=\"14.00\" fill=\"#000000\">True</text>\n</g>\n<!-- 4 -->\n<g id=\"node5\" class=\"node\">\n<title>4</title>\n<path fill=\"#d0b4f5\" stroke=\"#000000\" d=\"M610,-469C610,-469 432,-469 432,-469 426,-469 420,-463 420,-457 420,-457 420,-413 420,-413 420,-407 426,-401 432,-401 432,-401 610,-401 610,-401 616,-401 622,-407 622,-413 622,-413 622,-457 622,-457 622,-463 616,-469 610,-469\"/>\n<text text-anchor=\"middle\" x=\"521\" y=\"-453.8\" font-family=\"Helvetica,sans-Serif\" font-size=\"14.00\" fill=\"#000000\">extraction_type_class &lt;= 3.5</text>\n<text text-anchor=\"middle\" x=\"521\" y=\"-438.8\" font-family=\"Helvetica,sans-Serif\" font-size=\"14.00\" fill=\"#000000\">samples = 27.1%</text>\n<text text-anchor=\"middle\" x=\"521\" y=\"-423.8\" font-family=\"Helvetica,sans-Serif\" font-size=\"14.00\" fill=\"#000000\">value = [0.361, 0.038, 0.601]</text>\n<text text-anchor=\"middle\" x=\"521\" y=\"-408.8\" font-family=\"Helvetica,sans-Serif\" font-size=\"14.00\" fill=\"#000000\">class = non functional</text>\n</g>\n<!-- 0&#45;&gt;4 -->\n<g id=\"edge4\" class=\"edge\">\n<title>0&#45;&gt;4</title>\n<path fill=\"none\" stroke=\"#000000\" d=\"M447.0181,-504.9465C456.7046,-495.7884 467.2864,-485.7838 477.3397,-476.2788\"/>\n<polygon fill=\"#000000\" stroke=\"#000000\" points=\"480.039,-478.5434 484.901,-469.13 475.2299,-473.4569 480.039,-478.5434\"/>\n<text text-anchor=\"middle\" x=\"484.2003\" y=\"-490.4202\" font-family=\"Helvetica,sans-Serif\" font-size=\"14.00\" fill=\"#000000\">False</text>\n</g>\n<!-- 2 -->\n<g id=\"node3\" class=\"node\">\n<title>2</title>\n<path fill=\"#f4c9aa\" stroke=\"#000000\" d=\"M188,-357.5C188,-357.5 12,-357.5 12,-357.5 6,-357.5 0,-351.5 0,-345.5 0,-345.5 0,-316.5 0,-316.5 0,-310.5 6,-304.5 12,-304.5 12,-304.5 188,-304.5 188,-304.5 194,-304.5 200,-310.5 200,-316.5 200,-316.5 200,-345.5 200,-345.5 200,-351.5 194,-357.5 188,-357.5\"/>\n<text text-anchor=\"middle\" x=\"100\" y=\"-342.3\" font-family=\"Helvetica,sans-Serif\" font-size=\"14.00\" fill=\"#000000\">samples = 45.1%</text>\n<text text-anchor=\"middle\" x=\"100\" y=\"-327.3\" font-family=\"Helvetica,sans-Serif\" font-size=\"14.00\" fill=\"#000000\">value = [0.599, 0.101, 0.299]</text>\n<text text-anchor=\"middle\" x=\"100\" y=\"-312.3\" font-family=\"Helvetica,sans-Serif\" font-size=\"14.00\" fill=\"#000000\">class = functional</text>\n</g>\n<!-- 1&#45;&gt;2 -->\n<g id=\"edge2\" class=\"edge\">\n<title>1&#45;&gt;2</title>\n<path fill=\"none\" stroke=\"#000000\" d=\"M235.1851,-400.9465C211.1292,-388.4997 184.0513,-374.4892 160.4827,-362.2946\"/>\n<polygon fill=\"#000000\" stroke=\"#000000\" points=\"161.7878,-359.0291 151.2978,-357.5422 158.571,-365.2462 161.7878,-359.0291\"/>\n</g>\n<!-- 3 -->\n<g id=\"node4\" class=\"node\">\n<title>3</title>\n<path fill=\"#f3c5a3\" stroke=\"#000000\" d=\"M382,-357.5C382,-357.5 230,-357.5 230,-357.5 224,-357.5 218,-351.5 218,-345.5 218,-345.5 218,-316.5 218,-316.5 218,-310.5 224,-304.5 230,-304.5 230,-304.5 382,-304.5 382,-304.5 388,-304.5 394,-310.5 394,-316.5 394,-316.5 394,-345.5 394,-345.5 394,-351.5 388,-357.5 382,-357.5\"/>\n<text text-anchor=\"middle\" x=\"306\" y=\"-342.3\" font-family=\"Helvetica,sans-Serif\" font-size=\"14.00\" fill=\"#000000\">samples = 27.7%</text>\n<text text-anchor=\"middle\" x=\"306\" y=\"-327.3\" font-family=\"Helvetica,sans-Serif\" font-size=\"14.00\" fill=\"#000000\">value = [0.63, 0.06, 0.31]</text>\n<text text-anchor=\"middle\" x=\"306\" y=\"-312.3\" font-family=\"Helvetica,sans-Serif\" font-size=\"14.00\" fill=\"#000000\">class = functional</text>\n</g>\n<!-- 1&#45;&gt;3 -->\n<g id=\"edge3\" class=\"edge\">\n<title>1&#45;&gt;3</title>\n<path fill=\"none\" stroke=\"#000000\" d=\"M302.6372,-400.9465C303.1509,-390.2621 303.7199,-378.4254 304.2416,-367.5742\"/>\n<polygon fill=\"#000000\" stroke=\"#000000\" points=\"307.7396,-367.6987 304.7239,-357.5422 300.7477,-367.3625 307.7396,-367.6987\"/>\n</g>\n<!-- 5 -->\n<g id=\"node6\" class=\"node\">\n<title>5</title>\n<path fill=\"#9d66eb\" stroke=\"#000000\" d=\"M601,-357.5C601,-357.5 433,-357.5 433,-357.5 427,-357.5 421,-351.5 421,-345.5 421,-345.5 421,-316.5 421,-316.5 421,-310.5 427,-304.5 433,-304.5 433,-304.5 601,-304.5 601,-304.5 607,-304.5 613,-310.5 613,-316.5 613,-316.5 613,-345.5 613,-345.5 613,-351.5 607,-357.5 601,-357.5\"/>\n<text text-anchor=\"middle\" x=\"517\" y=\"-342.3\" font-family=\"Helvetica,sans-Serif\" font-size=\"14.00\" fill=\"#000000\">samples = 10.9%</text>\n<text text-anchor=\"middle\" x=\"517\" y=\"-327.3\" font-family=\"Helvetica,sans-Serif\" font-size=\"14.00\" fill=\"#000000\">value = [0.159, 0.031, 0.81]</text>\n<text text-anchor=\"middle\" x=\"517\" y=\"-312.3\" font-family=\"Helvetica,sans-Serif\" font-size=\"14.00\" fill=\"#000000\">class = non functional</text>\n</g>\n<!-- 4&#45;&gt;5 -->\n<g id=\"edge5\" class=\"edge\">\n<title>4&#45;&gt;5</title>\n<path fill=\"none\" stroke=\"#000000\" d=\"M519.6903,-400.9465C519.2793,-390.2621 518.8241,-378.4254 518.4067,-367.5742\"/>\n<polygon fill=\"#000000\" stroke=\"#000000\" points=\"521.9027,-367.4002 518.0209,-357.5422 514.9079,-367.6693 521.9027,-367.4002\"/>\n</g>\n<!-- 6 -->\n<g id=\"node7\" class=\"node\">\n<title>6</title>\n<path fill=\"#fdf7f2\" stroke=\"#000000\" d=\"M821,-365C821,-365 643,-365 643,-365 637,-365 631,-359 631,-353 631,-353 631,-309 631,-309 631,-303 637,-297 643,-297 643,-297 821,-297 821,-297 827,-297 833,-303 833,-309 833,-309 833,-353 833,-353 833,-359 827,-365 821,-365\"/>\n<text text-anchor=\"middle\" x=\"732\" y=\"-349.8\" font-family=\"Helvetica,sans-Serif\" font-size=\"14.00\" fill=\"#000000\">extraction_type_class &lt;= 4.5</text>\n<text text-anchor=\"middle\" x=\"732\" y=\"-334.8\" font-family=\"Helvetica,sans-Serif\" font-size=\"14.00\" fill=\"#000000\">samples = 16.2%</text>\n<text text-anchor=\"middle\" x=\"732\" y=\"-319.8\" font-family=\"Helvetica,sans-Serif\" font-size=\"14.00\" fill=\"#000000\">value = [0.497, 0.043, 0.46]</text>\n<text text-anchor=\"middle\" x=\"732\" y=\"-304.8\" font-family=\"Helvetica,sans-Serif\" font-size=\"14.00\" fill=\"#000000\">class = functional</text>\n</g>\n<!-- 4&#45;&gt;6 -->\n<g id=\"edge6\" class=\"edge\">\n<title>4&#45;&gt;6</title>\n<path fill=\"none\" stroke=\"#000000\" d=\"M590.0893,-400.9465C610.4002,-390.9354 632.7633,-379.9129 653.6112,-369.6371\"/>\n<polygon fill=\"#000000\" stroke=\"#000000\" points=\"655.3332,-372.6905 662.7555,-365.13 652.2385,-366.4117 655.3332,-372.6905\"/>\n</g>\n<!-- 7 -->\n<g id=\"node8\" class=\"node\">\n<title>7</title>\n<path fill=\"#d8c1f7\" stroke=\"#000000\" d=\"M710,-253.5C710,-253.5 534,-253.5 534,-253.5 528,-253.5 522,-247.5 522,-241.5 522,-241.5 522,-212.5 522,-212.5 522,-206.5 528,-200.5 534,-200.5 534,-200.5 710,-200.5 710,-200.5 716,-200.5 722,-206.5 722,-212.5 722,-212.5 722,-241.5 722,-241.5 722,-247.5 716,-253.5 710,-253.5\"/>\n<text text-anchor=\"middle\" x=\"622\" y=\"-238.3\" font-family=\"Helvetica,sans-Serif\" font-size=\"14.00\" fill=\"#000000\">samples = 5.0%</text>\n<text text-anchor=\"middle\" x=\"622\" y=\"-223.3\" font-family=\"Helvetica,sans-Serif\" font-size=\"14.00\" fill=\"#000000\">value = [0.381, 0.045, 0.574]</text>\n<text text-anchor=\"middle\" x=\"622\" y=\"-208.3\" font-family=\"Helvetica,sans-Serif\" font-size=\"14.00\" fill=\"#000000\">class = non functional</text>\n</g>\n<!-- 6&#45;&gt;7 -->\n<g id=\"edge7\" class=\"edge\">\n<title>6&#45;&gt;7</title>\n<path fill=\"none\" stroke=\"#000000\" d=\"M695.9819,-296.9465C683.6325,-285.2707 669.8278,-272.219 657.5183,-260.5809\"/>\n<polygon fill=\"#000000\" stroke=\"#000000\" points=\"659.7445,-257.869 650.0734,-253.5422 654.9354,-262.9556 659.7445,-257.869\"/>\n</g>\n<!-- 8 -->\n<g id=\"node9\" class=\"node\">\n<title>8</title>\n<path fill=\"#f9e2d1\" stroke=\"#000000\" d=\"M930,-261C930,-261 752,-261 752,-261 746,-261 740,-255 740,-249 740,-249 740,-205 740,-205 740,-199 746,-193 752,-193 752,-193 930,-193 930,-193 936,-193 942,-199 942,-205 942,-205 942,-249 942,-249 942,-255 936,-261 930,-261\"/>\n<text text-anchor=\"middle\" x=\"841\" y=\"-245.8\" font-family=\"Helvetica,sans-Serif\" font-size=\"14.00\" fill=\"#000000\">extraction_type_class &lt;= 5.5</text>\n<text text-anchor=\"middle\" x=\"841\" y=\"-230.8\" font-family=\"Helvetica,sans-Serif\" font-size=\"14.00\" fill=\"#000000\">samples = 11.2%</text>\n<text text-anchor=\"middle\" x=\"841\" y=\"-215.8\" font-family=\"Helvetica,sans-Serif\" font-size=\"14.00\" fill=\"#000000\">value = [0.548, 0.042, 0.41]</text>\n<text text-anchor=\"middle\" x=\"841\" y=\"-200.8\" font-family=\"Helvetica,sans-Serif\" font-size=\"14.00\" fill=\"#000000\">class = functional</text>\n</g>\n<!-- 6&#45;&gt;8 -->\n<g id=\"edge8\" class=\"edge\">\n<title>6&#45;&gt;8</title>\n<path fill=\"none\" stroke=\"#000000\" d=\"M767.6907,-296.9465C777.2891,-287.7884 787.7747,-277.7838 797.7366,-268.2788\"/>\n<polygon fill=\"#000000\" stroke=\"#000000\" points=\"800.4102,-270.5655 805.2291,-261.13 795.5779,-265.5009 800.4102,-270.5655\"/>\n</g>\n<!-- 9 -->\n<g id=\"node10\" class=\"node\">\n<title>9</title>\n<path fill=\"#f9e4d5\" stroke=\"#000000\" d=\"M819,-149.5C819,-149.5 643,-149.5 643,-149.5 637,-149.5 631,-143.5 631,-137.5 631,-137.5 631,-108.5 631,-108.5 631,-102.5 637,-96.5 643,-96.5 643,-96.5 819,-96.5 819,-96.5 825,-96.5 831,-102.5 831,-108.5 831,-108.5 831,-137.5 831,-137.5 831,-143.5 825,-149.5 819,-149.5\"/>\n<text text-anchor=\"middle\" x=\"731\" y=\"-134.3\" font-family=\"Helvetica,sans-Serif\" font-size=\"14.00\" fill=\"#000000\">samples = 10.3%</text>\n<text text-anchor=\"middle\" x=\"731\" y=\"-119.3\" font-family=\"Helvetica,sans-Serif\" font-size=\"14.00\" fill=\"#000000\">value = [0.541, 0.042, 0.416]</text>\n<text text-anchor=\"middle\" x=\"731\" y=\"-104.3\" font-family=\"Helvetica,sans-Serif\" font-size=\"14.00\" fill=\"#000000\">class = functional</text>\n</g>\n<!-- 8&#45;&gt;9 -->\n<g id=\"edge9\" class=\"edge\">\n<title>8&#45;&gt;9</title>\n<path fill=\"none\" stroke=\"#000000\" d=\"M804.9819,-192.9465C792.6325,-181.2707 778.8278,-168.219 766.5183,-156.5809\"/>\n<polygon fill=\"#000000\" stroke=\"#000000\" points=\"768.7445,-153.869 759.0734,-149.5422 763.9354,-158.9556 768.7445,-153.869\"/>\n</g>\n<!-- 10 -->\n<g id=\"node11\" class=\"node\">\n<title>10</title>\n<path fill=\"#f4cbad\" stroke=\"#000000\" d=\"M1039,-157C1039,-157 861,-157 861,-157 855,-157 849,-151 849,-145 849,-145 849,-101 849,-101 849,-95 855,-89 861,-89 861,-89 1039,-89 1039,-89 1045,-89 1051,-95 1051,-101 1051,-101 1051,-145 1051,-145 1051,-151 1045,-157 1039,-157\"/>\n<text text-anchor=\"middle\" x=\"950\" y=\"-141.8\" font-family=\"Helvetica,sans-Serif\" font-size=\"14.00\" fill=\"#000000\">extraction_type_class &lt;= 6.5</text>\n<text text-anchor=\"middle\" x=\"950\" y=\"-126.8\" font-family=\"Helvetica,sans-Serif\" font-size=\"14.00\" fill=\"#000000\">samples = 0.9%</text>\n<text text-anchor=\"middle\" x=\"950\" y=\"-111.8\" font-family=\"Helvetica,sans-Serif\" font-size=\"14.00\" fill=\"#000000\">value = [0.614, 0.043, 0.343]</text>\n<text text-anchor=\"middle\" x=\"950\" y=\"-96.8\" font-family=\"Helvetica,sans-Serif\" font-size=\"14.00\" fill=\"#000000\">class = functional</text>\n</g>\n<!-- 8&#45;&gt;10 -->\n<g id=\"edge10\" class=\"edge\">\n<title>8&#45;&gt;10</title>\n<path fill=\"none\" stroke=\"#000000\" d=\"M876.6907,-192.9465C886.2891,-183.7884 896.7747,-173.7838 906.7366,-164.2788\"/>\n<polygon fill=\"#000000\" stroke=\"#000000\" points=\"909.4102,-166.5655 914.2291,-157.13 904.5779,-161.5009 909.4102,-166.5655\"/>\n</g>\n<!-- 11 -->\n<g id=\"node12\" class=\"node\">\n<title>11</title>\n<path fill=\"#f2bf9b\" stroke=\"#000000\" d=\"M929,-53C929,-53 753,-53 753,-53 747,-53 741,-47 741,-41 741,-41 741,-12 741,-12 741,-6 747,0 753,0 753,0 929,0 929,0 935,0 941,-6 941,-12 941,-12 941,-41 941,-41 941,-47 935,-53 929,-53\"/>\n<text text-anchor=\"middle\" x=\"841\" y=\"-37.8\" font-family=\"Helvetica,sans-Serif\" font-size=\"14.00\" fill=\"#000000\">samples = 0.7%</text>\n<text text-anchor=\"middle\" x=\"841\" y=\"-22.8\" font-family=\"Helvetica,sans-Serif\" font-size=\"14.00\" fill=\"#000000\">value = [0.657, 0.037, 0.306]</text>\n<text text-anchor=\"middle\" x=\"841\" y=\"-7.8\" font-family=\"Helvetica,sans-Serif\" font-size=\"14.00\" fill=\"#000000\">class = functional</text>\n</g>\n<!-- 10&#45;&gt;11 -->\n<g id=\"edge11\" class=\"edge\">\n<title>10&#45;&gt;11</title>\n<path fill=\"none\" stroke=\"#000000\" d=\"M911.5707,-88.9777C900.9173,-79.546 889.3641,-69.3178 878.7499,-59.9208\"/>\n<polygon fill=\"#000000\" stroke=\"#000000\" points=\"881.0207,-57.2566 871.2133,-53.2485 876.3806,-62.4978 881.0207,-57.2566\"/>\n</g>\n<!-- 12 -->\n<g id=\"node13\" class=\"node\">\n<title>12</title>\n<path fill=\"#f8f3fd\" stroke=\"#000000\" d=\"M1147,-53C1147,-53 971,-53 971,-53 965,-53 959,-47 959,-41 959,-41 959,-12 959,-12 959,-6 965,0 971,0 971,0 1147,0 1147,0 1153,0 1159,-6 1159,-12 1159,-12 1159,-41 1159,-41 1159,-47 1153,-53 1147,-53\"/>\n<text text-anchor=\"middle\" x=\"1059\" y=\"-37.8\" font-family=\"Helvetica,sans-Serif\" font-size=\"14.00\" fill=\"#000000\">samples = 0.2%</text>\n<text text-anchor=\"middle\" x=\"1059\" y=\"-22.8\" font-family=\"Helvetica,sans-Serif\" font-size=\"14.00\" fill=\"#000000\">value = [0.452, 0.065, 0.484]</text>\n<text text-anchor=\"middle\" x=\"1059\" y=\"-7.8\" font-family=\"Helvetica,sans-Serif\" font-size=\"14.00\" fill=\"#000000\">class = non functional</text>\n</g>\n<!-- 10&#45;&gt;12 -->\n<g id=\"edge12\" class=\"edge\">\n<title>10&#45;&gt;12</title>\n<path fill=\"none\" stroke=\"#000000\" d=\"M988.4293,-88.9777C999.0827,-79.546 1010.6359,-69.3178 1021.2501,-59.9208\"/>\n<polygon fill=\"#000000\" stroke=\"#000000\" points=\"1023.6194,-62.4978 1028.7867,-53.2485 1018.9793,-57.2566 1023.6194,-62.4978\"/>\n</g>\n</g>\n</svg>\n"
          },
          "metadata": {
            "tags": []
          }
        }
      ]
    },
    {
      "cell_type": "markdown",
      "metadata": {
        "id": "P4EJi2GvgLVa"
      },
      "source": [
        "# Understand how tree ensembles reduce overfitting compared to a single decision tree with unlimited depth"
      ]
    },
    {
      "cell_type": "markdown",
      "metadata": {
        "id": "uff1C1LRBMdz"
      },
      "source": [
        "## Overview"
      ]
    },
    {
      "cell_type": "markdown",
      "metadata": {
        "id": "0nNABF3HgLVg"
      },
      "source": [
        "### What's \"random\" about random forests?\n",
        "1. Each tree trains on a random bootstrap sample of the data. (In scikit-learn, for `RandomForestRegressor` and `RandomForestClassifier`, the `bootstrap` parameter's default is `True`.) This type of ensembling is called Bagging. (Bootstrap AGGregatING.)\n",
        "2. Each split considers a random subset of the features. (In scikit-learn, when the `max_features` parameter is not `None`.) \n",
        "\n",
        "For extra randomness, you can try [\"extremely randomized trees\"](https://scikit-learn.org/stable/modules/ensemble.html#extremely-randomized-trees)!\n",
        "\n",
        ">In extremely randomized trees (see [ExtraTreesClassifier](https://scikit-learn.org/stable/modules/generated/sklearn.ensemble.ExtraTreesClassifier.html) and [ExtraTreesRegressor](https://scikit-learn.org/stable/modules/generated/sklearn.ensemble.ExtraTreesRegressor.html) classes), randomness goes one step further in the way splits are computed. As in random forests, a random subset of candidate features is used, but instead of looking for the most discriminative thresholds, thresholds are drawn at random for each candidate feature and the best of these randomly-generated thresholds is picked as the splitting rule. This usually allows to reduce the variance of the model a bit more, at the expense of a slightly greater increase in bias"
      ]
    },
    {
      "cell_type": "markdown",
      "metadata": {
        "id": "32aKYXFKBMdz"
      },
      "source": [
        "## Follow Along"
      ]
    },
    {
      "cell_type": "markdown",
      "metadata": {
        "id": "pUYP619CgLVb"
      },
      "source": [
        "### Example: [predicting golf putts](https://statmodeling.stat.columbia.edu/2008/12/04/the_golf_puttin/)\n",
        "(1 feature, non-linear, regression)"
      ]
    },
    {
      "cell_type": "code",
      "metadata": {
        "id": "b4640ukxgLVc"
      },
      "source": [
        "putts = pd.DataFrame(\n",
        "    columns=['distance', 'tries', 'successes'], \n",
        "    data = [[2, 1443, 1346],\n",
        "            [3, 694, 577],\n",
        "            [4, 455, 337],\n",
        "            [5, 353, 208],\n",
        "            [6, 272, 149],\n",
        "            [7, 256, 136],\n",
        "            [8, 240, 111],\n",
        "            [9, 217, 69],\n",
        "            [10, 200, 67],\n",
        "            [11, 237, 75],\n",
        "            [12, 202, 52],\n",
        "            [13, 192, 46],\n",
        "            [14, 174, 54],\n",
        "            [15, 167, 28],\n",
        "            [16, 201, 27],\n",
        "            [17, 195, 31],\n",
        "            [18, 191, 33],\n",
        "            [19, 147, 20],\n",
        "            [20, 152, 24]]\n",
        ")\n",
        "\n",
        "putts['rate of success'] = putts['successes'] / putts['tries']\n",
        "putts_X = putts[['distance']]\n",
        "putts_y = putts['rate of success']"
      ],
      "execution_count": 38,
      "outputs": []
    },
    {
      "cell_type": "code",
      "metadata": {
        "colab": {
          "base_uri": "https://localhost:8080/",
          "height": 637,
          "referenced_widgets": [
            "ea636220a4ad4475893df33368a165c9",
            "10c1a0e4e7bd4a53ba6417d15be82141",
            "0bd746d0c44f41259901d2ad9f336bab",
            "649e5262ad77452e8c3ebf71f5f46a99",
            "518fdd364994452287fad356ad097896",
            "78386e9bec3d47fa910cbc3554b85915",
            "9de1ec45ce9c4a79a30e2a327d4bb441",
            "f70c66f9036542ba9be5f5f25f644dfd",
            "9d2e7ae5e8f242858cfe29cfcdab87e6",
            "8b947b4f2fdf4fb78a2efd53daab2a91"
          ]
        },
        "id": "T0IpCcKggLVd",
        "outputId": "3e08f856-ace1-44a0-e2c7-f5562f33fe9e"
      },
      "source": [
        "%matplotlib inline\n",
        "import matplotlib.pyplot as plt\n",
        "from ipywidgets import interact\n",
        "from sklearn.ensemble import RandomForestRegressor\n",
        "from sklearn.tree import DecisionTreeRegressor\n",
        "\n",
        "def putt_trees(max_depth=1, n_estimators=1):\n",
        "    models = [DecisionTreeRegressor(max_depth=max_depth), \n",
        "              RandomForestRegressor(max_depth=max_depth, n_estimators=n_estimators)]\n",
        "    \n",
        "    for model in models:\n",
        "        name = model.__class__.__name__\n",
        "        model.fit(putts_X, putts_y)\n",
        "        ax = putts.plot('distance', 'rate of success', kind='scatter', title=name)\n",
        "        ax.step(putts_X, model.predict(putts_X), where='mid')\n",
        "        plt.show()\n",
        "        \n",
        "interact(putt_trees, max_depth=(1,6,1), n_estimators=(10,40,10));"
      ],
      "execution_count": 39,
      "outputs": [
        {
          "output_type": "display_data",
          "data": {
            "application/vnd.jupyter.widget-view+json": {
              "model_id": "ea636220a4ad4475893df33368a165c9",
              "version_minor": 0,
              "version_major": 2
            },
            "text/plain": [
              "interactive(children=(IntSlider(value=1, description='max_depth', max=6, min=1), IntSlider(value=10, descripti…"
            ]
          },
          "metadata": {
            "tags": []
          }
        }
      ]
    },
    {
      "cell_type": "markdown",
      "metadata": {
        "id": "rq4Z_wQ_gLVj"
      },
      "source": [
        "### Go back to Tanzania Waterpumps ..."
      ]
    },
    {
      "cell_type": "markdown",
      "metadata": {
        "id": "FoSE9iT6YXQz"
      },
      "source": [
        "#### Helper function to visualize predicted probabilities\n",
        "\n"
      ]
    },
    {
      "cell_type": "code",
      "metadata": {
        "id": "HzIAjGpJgLVj"
      },
      "source": [
        "import itertools\n",
        "import seaborn as sns\n",
        "\n",
        "def pred_heatmap(model, X, features, class_index=-1, title='', num=100):\n",
        "    \"\"\"\n",
        "    Visualize predicted probabilities, for classifier fit on 2 numeric features\n",
        "    \n",
        "    Parameters\n",
        "    ----------\n",
        "    model : scikit-learn classifier, already fit\n",
        "    X : pandas dataframe, which was used to fit model\n",
        "    features : list of strings, column names of the 2 numeric features\n",
        "    class_index : integer, index of class label\n",
        "    title : string, title of plot\n",
        "    num : int, number of grid points for each feature\n",
        "    \n",
        "    Returns\n",
        "    -------\n",
        "    y_pred_proba : numpy array, predicted probabilities for class_index\n",
        "    \"\"\"\n",
        "    feature1, feature2 = features\n",
        "    min1, max1 = X[feature1].min(), X[feature1].max()\n",
        "    min2, max2 = X[feature2].min(), X[feature2].max()\n",
        "    x1 = np.linspace(min1, max1, num)\n",
        "    x2 = np.linspace(max2, min2, num)\n",
        "    combos = list(itertools.product(x1, x2))\n",
        "    y_pred_proba = model.predict_proba(combos)[:, class_index]\n",
        "    pred_grid = y_pred_proba.reshape(num, num).T\n",
        "    table = pd.DataFrame(pred_grid, columns=x1, index=x2)\n",
        "    sns.heatmap(table, vmin=0, vmax=1)\n",
        "    plt.xticks([])\n",
        "    plt.yticks([])\n",
        "    plt.xlabel(feature1)\n",
        "    plt.ylabel(feature2)\n",
        "    plt.title(title)\n",
        "    plt.show()\n",
        "    return y_pred_proba\n"
      ],
      "execution_count": 41,
      "outputs": []
    },
    {
      "cell_type": "markdown",
      "metadata": {
        "id": "DiRfPqHjgLVl"
      },
      "source": [
        "### Compare Decision Tree, Random Forest, Logistic Regression"
      ]
    },
    {
      "cell_type": "code",
      "metadata": {
        "colab": {
          "base_uri": "https://localhost:8080/",
          "height": 864,
          "referenced_widgets": [
            "4e1cc86105d64d1fad26fd61db87e704",
            "0526b695c85f41a4922d2cae9e941fbe",
            "16798ba2d26d4cdeb844ee0e1ac1b0d9",
            "afc4ca60abdc45af99dbcfa6cb6f6fb0",
            "7df454d34b2a47ceb70cdd8a86d4e848",
            "d226cb24cda040c98fcd2df4a19f0664",
            "8518e039f94d4fee993c7ef781acdc28",
            "ce0b688cc2c34c47809ef4485f9707aa",
            "79439e1220d54b29ac505f6da26f80cc",
            "7f620f4bb4ce4afda3aa374676857544"
          ]
        },
        "id": "HKkMLXhMgLVl",
        "outputId": "5e807559-d5d4-4be3-f448-5334b0225447"
      },
      "source": [
        "# Instructions\n",
        "# 1. Choose two features\n",
        "# 2. Run this code cell\n",
        "# 3. Interact with the widget sliders\n",
        "feature1 = 'longitude'\n",
        "feature2 = 'quantity'\n",
        "\n",
        "from sklearn.linear_model import LogisticRegression\n",
        "from sklearn.tree import DecisionTreeClassifier\n",
        "\n",
        "def get_X_y(df, feature1, feature2, target):\n",
        "    features = [feature1, feature2]\n",
        "    X = df[features]\n",
        "    y = df[target]\n",
        "    X = X.fillna(X.median())\n",
        "    X = ce.OrdinalEncoder().fit_transform(X)\n",
        "    return X, y\n",
        "\n",
        "def compare_models(max_depth=1, n_estimators=1):\n",
        "    models = [DecisionTreeClassifier(max_depth=max_depth), \n",
        "              RandomForestClassifier(max_depth=max_depth, n_estimators=n_estimators), \n",
        "              LogisticRegression(solver='lbfgs', multi_class='auto')]\n",
        "    \n",
        "    for model in models:\n",
        "        name = model.__class__.__name__\n",
        "        model.fit(X, y)\n",
        "        pred_heatmap(model, X, [feature1, feature2], class_index=0, title=name)\n",
        "\n",
        "X, y = get_X_y(train, feature1, feature2, target='status_group')\n",
        "interact(compare_models, max_depth=(1,6,1), n_estimators=(10,40,10));"
      ],
      "execution_count": 42,
      "outputs": [
        {
          "output_type": "display_data",
          "data": {
            "application/vnd.jupyter.widget-view+json": {
              "model_id": "4e1cc86105d64d1fad26fd61db87e704",
              "version_minor": 0,
              "version_major": 2
            },
            "text/plain": [
              "interactive(children=(IntSlider(value=1, description='max_depth', max=6, min=1), IntSlider(value=10, descripti…"
            ]
          },
          "metadata": {
            "tags": []
          }
        }
      ]
    },
    {
      "cell_type": "markdown",
      "metadata": {
        "id": "hOQqjLEDgLVn"
      },
      "source": [
        "### Bagging"
      ]
    },
    {
      "cell_type": "code",
      "metadata": {
        "colab": {
          "base_uri": "https://localhost:8080/",
          "height": 864,
          "referenced_widgets": [
            "21af5f31dc1a46059aaaa17c4ed8e259",
            "7a92cf72283547e498d7a830d542a3db",
            "9fb3511450294bb7934fd232137df9ac",
            "24800eb9ad2a4e9eb0d325156c0fb49f",
            "b4f4a083757c4a218c9069335669c15d",
            "ab0d19de519a4559a43429397f6affcc",
            "b85c0028f2804daab7f44e41ffaa3b9d",
            "15ae35b582cc4af0a6157b3d93216aae",
            "ebf7883ff4b84169964ae3640996f027",
            "8a61c3dcd42a4e348faaaaef73ec67d8"
          ]
        },
        "id": "Hm4aPgs2gLVn",
        "outputId": "558e974c-bf31-4773-c9c2-bdea0dc2932a"
      },
      "source": [
        "# Do-it-yourself Bagging Ensemble of Decision Trees (like a Random Forest)\n",
        "\n",
        "# Instructions\n",
        "# 1. Choose two features\n",
        "# 2. Run this code cell\n",
        "# 3. Interact with the widget sliders\n",
        "\n",
        "feature1 = 'longitude'\n",
        "feature2 = 'latitude'\n",
        "\n",
        "def waterpumps_bagging(max_depth=1, n_estimators=1):\n",
        "    predicteds = []\n",
        "    for i in range(n_estimators):\n",
        "        title = f'Tree {i+1}'\n",
        "        bootstrap_sample = train.sample(n=len(train), replace=True)\n",
        "        X, y = get_X_y(bootstrap_sample, feature1, feature2, target='status_group')\n",
        "        tree = DecisionTreeClassifier(max_depth=max_depth)\n",
        "        tree.fit(X, y)\n",
        "        predicted = pred_heatmap(tree, X, [feature1, feature2], class_index=0, title=title)\n",
        "        predicteds.append(predicted)\n",
        "    \n",
        "    ensembled = np.vstack(predicteds).mean(axis=0)\n",
        "    title = f'Ensemble of {n_estimators} trees, with max_depth={max_depth}'\n",
        "    sns.heatmap(ensembled.reshape(100, 100).T, vmin=0, vmax=1)\n",
        "    plt.title(title)\n",
        "    plt.xlabel(feature1)\n",
        "    plt.ylabel(feature2)\n",
        "    plt.xticks([])\n",
        "    plt.yticks([])\n",
        "    plt.show()\n",
        "        \n",
        "interact(waterpumps_bagging, max_depth=(1,6,1), n_estimators=(2,5,1));"
      ],
      "execution_count": 43,
      "outputs": [
        {
          "output_type": "display_data",
          "data": {
            "application/vnd.jupyter.widget-view+json": {
              "model_id": "21af5f31dc1a46059aaaa17c4ed8e259",
              "version_minor": 0,
              "version_major": 2
            },
            "text/plain": [
              "interactive(children=(IntSlider(value=1, description='max_depth', max=6, min=1), IntSlider(value=2, descriptio…"
            ]
          },
          "metadata": {
            "tags": []
          }
        }
      ]
    },
    {
      "cell_type": "markdown",
      "metadata": {
        "id": "wYoSBi15akWP"
      },
      "source": [
        "# Review\n",
        "\n",
        "#### Try Tree Ensembles when you do machine learning with labeled, tabular data\n",
        "- \"Tree Ensembles\" means Random Forest or Gradient Boosting models. \n",
        "- [Tree Ensembles often have the best predictive accuracy](https://arxiv.org/abs/1708.05070) with labeled, tabular data.\n",
        "- Why? Because trees can fit non-linear, non-[monotonic](https://en.wikipedia.org/wiki/Monotonic_function) relationships, and [interactions](https://christophm.github.io/interpretable-ml-book/interaction.html) between features.\n",
        "- A single decision tree, grown to unlimited depth, will [overfit](http://www.r2d3.us/visual-intro-to-machine-learning-part-1/). We solve this problem by ensembling trees, with bagging (Random Forest) or boosting (Gradient Boosting).\n",
        "- Random Forest's advantage: may be less sensitive to hyperparameters. Gradient Boosting's advantage: may get better predictive accuracy.\n",
        "\n",
        "#### One-hot encoding isn’t the only way, and may not be the best way, of categorical encoding for tree ensembles.\n",
        "- For example, tree ensembles can work with arbitrary \"ordinal\" encoding! (Randomly assigning an integer to each category.) Compared to one-hot encoding, the dimensionality will be lower, and the predictive accuracy may be just as good or even better.\n"
      ]
    }
  ]
}